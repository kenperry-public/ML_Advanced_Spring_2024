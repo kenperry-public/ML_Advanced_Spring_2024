{
 "cells": [
  {
   "cell_type": "code",
   "execution_count": 17,
   "metadata": {
    "slideshow": {
     "slide_type": "notes"
    }
   },
   "outputs": [
    {
     "name": "stdout",
     "output_type": "stream",
     "text": [
      "The autoreload extension is already loaded. To reload it, use:\n",
      "  %reload_ext autoreload\n"
     ]
    }
   ],
   "source": [
    "# My standard magic !  You will see this in almost all my notebooks.\n",
    "\n",
    "from IPython.core.interactiveshell import InteractiveShell\n",
    "InteractiveShell.ast_node_interactivity = \"all\"\n",
    "\n",
    "# Reload all modules imported with %aimport\n",
    "%load_ext autoreload\n",
    "%autoreload 1\n",
    "\n",
    "# matplotlib: conda install requires tensorflow version downgrade\n",
    "# %matplotlib inline"
   ]
  },
  {
   "cell_type": "code",
   "execution_count": 18,
   "metadata": {
    "slideshow": {
     "slide_type": "subslide"
    }
   },
   "outputs": [],
   "source": [
    "import tensorflow as tf\n",
    "import pandas as pd\n",
    "import numpy as np"
   ]
  },
  {
   "cell_type": "markdown",
   "metadata": {
    "slideshow": {
     "slide_type": "slide"
    }
   },
   "source": [
    "# The [`tf.data.Dataset`](https://www.tensorflow.org/guide/data) (TFDS)\n",
    "\n",
    "A `Dataset`\n",
    "- Is a way of *defining*  a **sequence** of **elements**\n",
    "- Key property of sequence\n",
    "    - Is *iterable*: we can only (directly) obtain the *next* element in the sequence\n",
    "    - By restricting access to iteration\n",
    "        - only one element at a time needs to fit into physical memory\n",
    "        - facilitating use of datasets that are too large to fit into limited memory\n",
    "        "
   ]
  },
  {
   "cell_type": "markdown",
   "metadata": {
    "slideshow": {
     "slide_type": "subslide"
    }
   },
   "source": [
    "`Dataset` may be used for multiple purposes\n",
    "- our focus will be on its use to define a dataset for training a model\n",
    "- So, an *element* will correspond to an *example* in the training set"
   ]
  },
  {
   "cell_type": "markdown",
   "metadata": {
    "slideshow": {
     "slide_type": "subslide"
    }
   },
   "source": [
    "Elements can be *structures*\n",
    "- consisting of *components*\n",
    "- components may be\n",
    "    - `tuple`, `dict`\n",
    "    - **not** `list`\n",
    "\n",
    "The type/structure of an *element* will depend on the format in which your model expects inputs."
   ]
  },
  {
   "cell_type": "markdown",
   "metadata": {
    "slideshow": {
     "slide_type": "subslide"
    }
   },
   "source": [
    "Dataset may be created\n",
    "- from source\n",
    "- via transformation of an existing Dataset"
   ]
  },
  {
   "cell_type": "markdown",
   "metadata": {
    "slideshow": {
     "slide_type": "slide"
    }
   },
   "source": [
    "# Creating Datasets\n",
    "\n",
    "We will provide a brief overview of creating a `Dataset`.\n",
    "\n",
    "See [the docs](https://www.tensorflow.org/guide/data) for a deeper introduction.\n"
   ]
  },
  {
   "cell_type": "markdown",
   "metadata": {
    "slideshow": {
     "slide_type": "subslide"
    }
   },
   "source": [
    "## From memory\n",
    "\n",
    "One way is to create a `Dataset` from Tensors stored in memory\n",
    "- This assumes your physical memory is large enough\n",
    "- We will learn about generators later"
   ]
  },
  {
   "cell_type": "markdown",
   "metadata": {
    "slideshow": {
     "slide_type": "subslide"
    }
   },
   "source": [
    "The `element_spec` method will be helpful in explaining the element type."
   ]
  },
  {
   "cell_type": "markdown",
   "metadata": {
    "slideshow": {
     "slide_type": "subslide"
    }
   },
   "source": [
    "### `from_tensors`\n",
    "\n",
    "The `from_tensors` method creates a dataset *with a **single** element* from a pre-existing Tensor.\n"
   ]
  },
  {
   "cell_type": "code",
   "execution_count": 19,
   "metadata": {
    "slideshow": {
     "slide_type": "subslide"
    }
   },
   "outputs": [
    {
     "name": "stdout",
     "output_type": "stream",
     "text": [
      "Element spec: TensorSpec(shape=(2, 2), dtype=tf.int32, name=None)\n",
      "\n",
      "Example 0: tf.Tensor(\n",
      "[[1 2]\n",
      " [3 4]], shape=(2, 2), dtype=int32)\n"
     ]
    }
   ],
   "source": [
    "t = tf.constant([[1, 2], [3, 4]])\n",
    "\n",
    "ds = tf.data.Dataset.from_tensors(t) \n",
    "\n",
    "print(f\"Element spec: {ds.element_spec}\\n\")\n",
    "\n",
    "for i, elem in enumerate(ds):\n",
    "    print(f\"Example {i}:\", elem)\n"
   ]
  },
  {
   "cell_type": "markdown",
   "metadata": {
    "slideshow": {
     "slide_type": "subslide"
    }
   },
   "source": [
    "Note that this single element may be a higher dimensional Tensor\n",
    "- but it is still a **single** element"
   ]
  },
  {
   "cell_type": "markdown",
   "metadata": {
    "slideshow": {
     "slide_type": "subslide"
    }
   },
   "source": [
    "We can also define a single element that is a *structure*\n",
    "\n",
    "Here we call `from_tensors`\n",
    "- argument: *tuple* of tensors\n"
   ]
  },
  {
   "cell_type": "code",
   "execution_count": 20,
   "metadata": {
    "slideshow": {
     "slide_type": "subslide"
    }
   },
   "outputs": [
    {
     "name": "stdout",
     "output_type": "stream",
     "text": [
      "Element spec: (TensorSpec(shape=(2,), dtype=tf.int32, name=None), TensorSpec(shape=(2,), dtype=tf.int32, name=None))\n",
      "\n",
      "Example 0: (<tf.Tensor: shape=(2,), dtype=int32, numpy=array([1, 2], dtype=int32)>, <tf.Tensor: shape=(2,), dtype=int32, numpy=array([3, 4], dtype=int32)>)\n"
     ]
    },
    {
     "name": "stderr",
     "output_type": "stream",
     "text": [
      "2022-06-22 13:40:31.952602: W tensorflow/core/data/root_dataset.cc:167] Optimization loop failed: Cancelled: Operation was cancelled\n"
     ]
    }
   ],
   "source": [
    "ds = tf.data.Dataset.from_tensors( (tf.constant([1,2]), \n",
    "                                    tf.constant([3,4])\n",
    "                                   )\n",
    "                                 )\n",
    "\n",
    "print(f\"Element spec: {ds.element_spec}\\n\")\n",
    "\n",
    "for i, elem in enumerate(ds):\n",
    "    print(f\"Example {i}:\", elem)\n",
    "                        "
   ]
  },
  {
   "cell_type": "markdown",
   "metadata": {
    "slideshow": {
     "slide_type": "subslide"
    }
   },
   "source": [
    "`element_spec` reveals that the element is a *tuple* \n",
    "- Note the bracketing parentheses surrounding `TensorSpec`"
   ]
  },
  {
   "cell_type": "markdown",
   "metadata": {
    "slideshow": {
     "slide_type": "slide"
    }
   },
   "source": [
    "###  [`from_tensor_slices`](https://www.tensorflow.org/api_docs/python/tf/data/Dataset#from_tensor_slices)\n",
    "\n",
    "Creates a Dataset with *multiple* elements from a higher dimensional Tensor\n",
    "- The first dimension indexes over elements\n",
    "- The remaining dimensions are for features with shape\n",
    "    - e.g., 3D image: width, height, channel\n",
    "- argument: single tensor\n",
    "    - creates *one element per row (first dimension)* of argument\n",
    "        - Slicing a 1D tensor produces scalar tensor elements\n",
    "        - Slicing a 2D tensor produces 1D tensor "
   ]
  },
  {
   "cell_type": "code",
   "execution_count": 21,
   "metadata": {
    "slideshow": {
     "slide_type": "subslide"
    }
   },
   "outputs": [
    {
     "name": "stdout",
     "output_type": "stream",
     "text": [
      "Element spec: TensorSpec(shape=(2,), dtype=tf.int32, name=None)\n",
      "\n",
      "Example 0: tf.Tensor([1 2], shape=(2,), dtype=int32)\n",
      "Example 1: tf.Tensor([3 4], shape=(2,), dtype=int32)\n"
     ]
    }
   ],
   "source": [
    "t = tf.constant( [\n",
    "                    [1, 2],\n",
    "                    [3, 4]\n",
    "                 ])\n",
    "ds = tf.data.Dataset.from_tensor_slices(t)\n",
    "\n",
    "print(f\"Element spec: {ds.element_spec}\\n\")\n",
    "\n",
    "for i, elem in enumerate(ds):\n",
    "    print(f\"Example {i}:\", elem)\n"
   ]
  },
  {
   "cell_type": "markdown",
   "metadata": {
    "slideshow": {
     "slide_type": "subslide"
    }
   },
   "source": [
    "`element_spec` reveals each example to be a 1D Tensor of length 2."
   ]
  },
  {
   "cell_type": "markdown",
   "metadata": {
    "slideshow": {
     "slide_type": "subslide"
    }
   },
   "source": [
    "What happens if we pass a tuple ?\n",
    "- argument: tuple of tensors\n",
    "- creates *multiple elements* (length of tensor)\n",
    "    - element is a *tuple* (containing a value from each tensor in the argument tuple of tensors)\n",
    "    - element *i* is the tuple with element *i* of each tensor in the argument tuple of tensors"
   ]
  },
  {
   "cell_type": "code",
   "execution_count": 22,
   "metadata": {
    "slideshow": {
     "slide_type": "subslide"
    }
   },
   "outputs": [
    {
     "name": "stdout",
     "output_type": "stream",
     "text": [
      "Element spec: (TensorSpec(shape=(), dtype=tf.int32, name=None), TensorSpec(shape=(), dtype=tf.int32, name=None), TensorSpec(shape=(), dtype=tf.int32, name=None))\n",
      "\n",
      "Example 0: (<tf.Tensor: shape=(), dtype=int32, numpy=1>, <tf.Tensor: shape=(), dtype=int32, numpy=3>, <tf.Tensor: shape=(), dtype=int32, numpy=5>)\n",
      "Example 1: (<tf.Tensor: shape=(), dtype=int32, numpy=2>, <tf.Tensor: shape=(), dtype=int32, numpy=4>, <tf.Tensor: shape=(), dtype=int32, numpy=6>)\n"
     ]
    }
   ],
   "source": [
    "# Slicing a tuple of 1D tensors produces tuple elements containing\n",
    "# scalar tensors.\n",
    "ds = tf.data.Dataset.from_tensor_slices(([1, 2], [3, 4], [5, 6]))\n",
    "\n",
    "print(f\"Element spec: {ds.element_spec}\\n\")\n",
    "\n",
    "for i, elem in enumerate(ds):\n",
    "    print(f\"Example {i}:\", elem)\n",
    "\n"
   ]
  },
  {
   "cell_type": "markdown",
   "metadata": {
    "slideshow": {
     "slide_type": "subslide"
    }
   },
   "source": [
    "`element_spec` reveals each example to be a tuple\n",
    "- length of tuple is size of first dimension of the Tensor argument to `from_tensor_slices`"
   ]
  },
  {
   "cell_type": "markdown",
   "metadata": {
    "slideshow": {
     "slide_type": "subslide"
    }
   },
   "source": [
    "What happens if we pass a `dict` ?\n",
    "- argument: `dict` whose values are tensors\n",
    "- creates *multiple elements* (length of tensor)\n",
    "    - like the case where argument is tuple of tensors\n",
    "    - but the element is a `dict` rather than a tuple"
   ]
  },
  {
   "cell_type": "code",
   "execution_count": 23,
   "metadata": {
    "slideshow": {
     "slide_type": "subslide"
    }
   },
   "outputs": [
    {
     "name": "stdout",
     "output_type": "stream",
     "text": [
      "Element spec: {'a': TensorSpec(shape=(), dtype=tf.int32, name=None), 'b': TensorSpec(shape=(), dtype=tf.int32, name=None)}\n",
      "\n",
      "Example 0: {'a': <tf.Tensor: shape=(), dtype=int32, numpy=1>, 'b': <tf.Tensor: shape=(), dtype=int32, numpy=3>}\n",
      "Example 1: {'a': <tf.Tensor: shape=(), dtype=int32, numpy=2>, 'b': <tf.Tensor: shape=(), dtype=int32, numpy=4>}\n"
     ]
    }
   ],
   "source": [
    "# Dictionary structure is also preserved.\n",
    "ds = tf.data.Dataset.from_tensor_slices({\"a\": [1, 2], \"b\": [3, 4]})\n",
    "\n",
    "print(f\"Element spec: {ds.element_spec}\\n\")\n",
    "\n",
    "for i, elem in enumerate(ds):\n",
    "    print(f\"Example {i}:\", elem)\n"
   ]
  },
  {
   "cell_type": "markdown",
   "metadata": {
    "slideshow": {
     "slide_type": "slide"
    }
   },
   "source": [
    "Here are some more realistic examples\n",
    "- using our old friend: Titanic data"
   ]
  },
  {
   "cell_type": "markdown",
   "metadata": {
    "slideshow": {
     "slide_type": "subslide"
    }
   },
   "source": [
    "Here is a more realistic example using a `dict` for the example features\n",
    "\n"
   ]
  },
  {
   "cell_type": "code",
   "execution_count": 24,
   "metadata": {
    "slideshow": {
     "slide_type": "subslide"
    }
   },
   "outputs": [
    {
     "data": {
      "text/html": [
       "<div>\n",
       "<style scoped>\n",
       "    .dataframe tbody tr th:only-of-type {\n",
       "        vertical-align: middle;\n",
       "    }\n",
       "\n",
       "    .dataframe tbody tr th {\n",
       "        vertical-align: top;\n",
       "    }\n",
       "\n",
       "    .dataframe thead th {\n",
       "        text-align: right;\n",
       "    }\n",
       "</style>\n",
       "<table border=\"1\" class=\"dataframe\">\n",
       "  <thead>\n",
       "    <tr style=\"text-align: right;\">\n",
       "      <th></th>\n",
       "      <th>survived</th>\n",
       "      <th>sex</th>\n",
       "      <th>age</th>\n",
       "      <th>n_siblings_spouses</th>\n",
       "      <th>parch</th>\n",
       "      <th>fare</th>\n",
       "      <th>class</th>\n",
       "      <th>deck</th>\n",
       "      <th>embark_town</th>\n",
       "      <th>alone</th>\n",
       "    </tr>\n",
       "  </thead>\n",
       "  <tbody>\n",
       "    <tr>\n",
       "      <th>0</th>\n",
       "      <td>0</td>\n",
       "      <td>male</td>\n",
       "      <td>22.0</td>\n",
       "      <td>1</td>\n",
       "      <td>0</td>\n",
       "      <td>7.2500</td>\n",
       "      <td>Third</td>\n",
       "      <td>unknown</td>\n",
       "      <td>Southampton</td>\n",
       "      <td>n</td>\n",
       "    </tr>\n",
       "    <tr>\n",
       "      <th>1</th>\n",
       "      <td>1</td>\n",
       "      <td>female</td>\n",
       "      <td>38.0</td>\n",
       "      <td>1</td>\n",
       "      <td>0</td>\n",
       "      <td>71.2833</td>\n",
       "      <td>First</td>\n",
       "      <td>C</td>\n",
       "      <td>Cherbourg</td>\n",
       "      <td>n</td>\n",
       "    </tr>\n",
       "    <tr>\n",
       "      <th>2</th>\n",
       "      <td>1</td>\n",
       "      <td>female</td>\n",
       "      <td>26.0</td>\n",
       "      <td>0</td>\n",
       "      <td>0</td>\n",
       "      <td>7.9250</td>\n",
       "      <td>Third</td>\n",
       "      <td>unknown</td>\n",
       "      <td>Southampton</td>\n",
       "      <td>y</td>\n",
       "    </tr>\n",
       "    <tr>\n",
       "      <th>3</th>\n",
       "      <td>1</td>\n",
       "      <td>female</td>\n",
       "      <td>35.0</td>\n",
       "      <td>1</td>\n",
       "      <td>0</td>\n",
       "      <td>53.1000</td>\n",
       "      <td>First</td>\n",
       "      <td>C</td>\n",
       "      <td>Southampton</td>\n",
       "      <td>n</td>\n",
       "    </tr>\n",
       "    <tr>\n",
       "      <th>4</th>\n",
       "      <td>0</td>\n",
       "      <td>male</td>\n",
       "      <td>28.0</td>\n",
       "      <td>0</td>\n",
       "      <td>0</td>\n",
       "      <td>8.4583</td>\n",
       "      <td>Third</td>\n",
       "      <td>unknown</td>\n",
       "      <td>Queenstown</td>\n",
       "      <td>y</td>\n",
       "    </tr>\n",
       "  </tbody>\n",
       "</table>\n",
       "</div>"
      ],
      "text/plain": [
       "   survived     sex   age  n_siblings_spouses  parch     fare  class     deck  \\\n",
       "0         0    male  22.0                   1      0   7.2500  Third  unknown   \n",
       "1         1  female  38.0                   1      0  71.2833  First        C   \n",
       "2         1  female  26.0                   0      0   7.9250  Third  unknown   \n",
       "3         1  female  35.0                   1      0  53.1000  First        C   \n",
       "4         0    male  28.0                   0      0   8.4583  Third  unknown   \n",
       "\n",
       "   embark_town alone  \n",
       "0  Southampton     n  \n",
       "1    Cherbourg     n  \n",
       "2  Southampton     y  \n",
       "3  Southampton     n  \n",
       "4   Queenstown     y  "
      ]
     },
     "execution_count": 24,
     "metadata": {},
     "output_type": "execute_result"
    }
   ],
   "source": [
    "titanic = pd.read_csv(\"https://storage.googleapis.com/tf-datasets/titanic/train.csv\")\n",
    "titanic.head()\n",
    "\n",
    "titanic_features = titanic.copy()\n",
    "titanic_labels = titanic_features.pop('survived')\n",
    "\n",
    "titanic_features_dict = {name: np.array(value) \n",
    "                         for name, value in titanic_features.items()}"
   ]
  },
  {
   "cell_type": "code",
   "execution_count": 25,
   "metadata": {
    "slideshow": {
     "slide_type": "subslide"
    }
   },
   "outputs": [
    {
     "name": "stdout",
     "output_type": "stream",
     "text": [
      "Element spec: {'sex': TensorSpec(shape=(), dtype=tf.string, name=None), 'age': TensorSpec(shape=(), dtype=tf.float64, name=None), 'n_siblings_spouses': TensorSpec(shape=(), dtype=tf.int64, name=None), 'parch': TensorSpec(shape=(), dtype=tf.int64, name=None), 'fare': TensorSpec(shape=(), dtype=tf.float64, name=None), 'class': TensorSpec(shape=(), dtype=tf.string, name=None), 'deck': TensorSpec(shape=(), dtype=tf.string, name=None), 'embark_town': TensorSpec(shape=(), dtype=tf.string, name=None), 'alone': TensorSpec(shape=(), dtype=tf.string, name=None)}\n",
      "\n",
      "Example 0: {'sex': <tf.Tensor: shape=(), dtype=string, numpy=b'male'>, 'age': <tf.Tensor: shape=(), dtype=float64, numpy=22.0>, 'n_siblings_spouses': <tf.Tensor: shape=(), dtype=int64, numpy=1>, 'parch': <tf.Tensor: shape=(), dtype=int64, numpy=0>, 'fare': <tf.Tensor: shape=(), dtype=float64, numpy=7.25>, 'class': <tf.Tensor: shape=(), dtype=string, numpy=b'Third'>, 'deck': <tf.Tensor: shape=(), dtype=string, numpy=b'unknown'>, 'embark_town': <tf.Tensor: shape=(), dtype=string, numpy=b'Southampton'>, 'alone': <tf.Tensor: shape=(), dtype=string, numpy=b'n'>}\n",
      "Example 1: {'sex': <tf.Tensor: shape=(), dtype=string, numpy=b'female'>, 'age': <tf.Tensor: shape=(), dtype=float64, numpy=38.0>, 'n_siblings_spouses': <tf.Tensor: shape=(), dtype=int64, numpy=1>, 'parch': <tf.Tensor: shape=(), dtype=int64, numpy=0>, 'fare': <tf.Tensor: shape=(), dtype=float64, numpy=71.2833>, 'class': <tf.Tensor: shape=(), dtype=string, numpy=b'First'>, 'deck': <tf.Tensor: shape=(), dtype=string, numpy=b'C'>, 'embark_town': <tf.Tensor: shape=(), dtype=string, numpy=b'Cherbourg'>, 'alone': <tf.Tensor: shape=(), dtype=string, numpy=b'n'>}\n",
      "Example 2: {'sex': <tf.Tensor: shape=(), dtype=string, numpy=b'female'>, 'age': <tf.Tensor: shape=(), dtype=float64, numpy=26.0>, 'n_siblings_spouses': <tf.Tensor: shape=(), dtype=int64, numpy=0>, 'parch': <tf.Tensor: shape=(), dtype=int64, numpy=0>, 'fare': <tf.Tensor: shape=(), dtype=float64, numpy=7.925>, 'class': <tf.Tensor: shape=(), dtype=string, numpy=b'Third'>, 'deck': <tf.Tensor: shape=(), dtype=string, numpy=b'unknown'>, 'embark_town': <tf.Tensor: shape=(), dtype=string, numpy=b'Southampton'>, 'alone': <tf.Tensor: shape=(), dtype=string, numpy=b'y'>}\n"
     ]
    }
   ],
   "source": [
    "ds = tf.data.Dataset.from_tensor_slices(titanic_features_dict)\n",
    "\n",
    "print(f\"Element spec: {ds.element_spec}\\n\")\n",
    "\n",
    "for i, elem in enumerate(ds.take(3)):\n",
    "    print(f\"Example {i}:\", elem)"
   ]
  },
  {
   "cell_type": "markdown",
   "metadata": {
    "slideshow": {
     "slide_type": "subslide"
    }
   },
   "source": [
    "And a more realistic example using a tuple (features, label)\n",
    "- where features is itself a `dict`\n",
    "\n",
    "**Note**\n",
    "\n",
    "Python strings are converted to `byte` strings when stored in a Tensor."
   ]
  },
  {
   "cell_type": "code",
   "execution_count": 26,
   "metadata": {
    "slideshow": {
     "slide_type": "subslide"
    }
   },
   "outputs": [
    {
     "name": "stdout",
     "output_type": "stream",
     "text": [
      "Element spec: ({'sex': TensorSpec(shape=(), dtype=tf.string, name=None), 'age': TensorSpec(shape=(), dtype=tf.float64, name=None), 'n_siblings_spouses': TensorSpec(shape=(), dtype=tf.int64, name=None), 'parch': TensorSpec(shape=(), dtype=tf.int64, name=None), 'fare': TensorSpec(shape=(), dtype=tf.float64, name=None), 'class': TensorSpec(shape=(), dtype=tf.string, name=None), 'deck': TensorSpec(shape=(), dtype=tf.string, name=None), 'embark_town': TensorSpec(shape=(), dtype=tf.string, name=None), 'alone': TensorSpec(shape=(), dtype=tf.string, name=None)}, TensorSpec(shape=(), dtype=tf.int64, name=None))\n",
      "\n",
      "Example 0: ({'sex': <tf.Tensor: shape=(), dtype=string, numpy=b'male'>, 'age': <tf.Tensor: shape=(), dtype=float64, numpy=22.0>, 'n_siblings_spouses': <tf.Tensor: shape=(), dtype=int64, numpy=1>, 'parch': <tf.Tensor: shape=(), dtype=int64, numpy=0>, 'fare': <tf.Tensor: shape=(), dtype=float64, numpy=7.25>, 'class': <tf.Tensor: shape=(), dtype=string, numpy=b'Third'>, 'deck': <tf.Tensor: shape=(), dtype=string, numpy=b'unknown'>, 'embark_town': <tf.Tensor: shape=(), dtype=string, numpy=b'Southampton'>, 'alone': <tf.Tensor: shape=(), dtype=string, numpy=b'n'>}, <tf.Tensor: shape=(), dtype=int64, numpy=0>)\n",
      "Example 1: ({'sex': <tf.Tensor: shape=(), dtype=string, numpy=b'female'>, 'age': <tf.Tensor: shape=(), dtype=float64, numpy=38.0>, 'n_siblings_spouses': <tf.Tensor: shape=(), dtype=int64, numpy=1>, 'parch': <tf.Tensor: shape=(), dtype=int64, numpy=0>, 'fare': <tf.Tensor: shape=(), dtype=float64, numpy=71.2833>, 'class': <tf.Tensor: shape=(), dtype=string, numpy=b'First'>, 'deck': <tf.Tensor: shape=(), dtype=string, numpy=b'C'>, 'embark_town': <tf.Tensor: shape=(), dtype=string, numpy=b'Cherbourg'>, 'alone': <tf.Tensor: shape=(), dtype=string, numpy=b'n'>}, <tf.Tensor: shape=(), dtype=int64, numpy=1>)\n",
      "Example 2: ({'sex': <tf.Tensor: shape=(), dtype=string, numpy=b'female'>, 'age': <tf.Tensor: shape=(), dtype=float64, numpy=26.0>, 'n_siblings_spouses': <tf.Tensor: shape=(), dtype=int64, numpy=0>, 'parch': <tf.Tensor: shape=(), dtype=int64, numpy=0>, 'fare': <tf.Tensor: shape=(), dtype=float64, numpy=7.925>, 'class': <tf.Tensor: shape=(), dtype=string, numpy=b'Third'>, 'deck': <tf.Tensor: shape=(), dtype=string, numpy=b'unknown'>, 'embark_town': <tf.Tensor: shape=(), dtype=string, numpy=b'Southampton'>, 'alone': <tf.Tensor: shape=(), dtype=string, numpy=b'y'>}, <tf.Tensor: shape=(), dtype=int64, numpy=1>)\n"
     ]
    }
   ],
   "source": [
    "# Example is tuple with two elements: (features, label)\n",
    "ds = tf.data.Dataset.from_tensor_slices((titanic_features_dict, titanic_labels))\n",
    "\n",
    "print(f\"Element spec: {ds.element_spec}\\n\")\n",
    "\n",
    "for i, elem in enumerate(ds.take(3)):\n",
    "    print(f\"Example {i}:\", elem)"
   ]
  },
  {
   "cell_type": "markdown",
   "metadata": {
    "slideshow": {
     "slide_type": "slide"
    }
   },
   "source": [
    "# Creating a Dataset without loading data into memory\n",
    "\n",
    "The above creation methods required the presence of the entire dataset in memory.\n",
    "\n",
    "But the key property of a `Dataset` is that it is iterable\n",
    "- available a single element at a time"
   ]
  },
  {
   "cell_type": "markdown",
   "metadata": {
    "slideshow": {
     "slide_type": "slide"
    }
   },
   "source": [
    "There are a number of common iterable formats that do not require an entire dataset to be in memory at once\n",
    "- Files: single row/line at a time\n",
    "- Network stream\n",
    "- Python generators"
   ]
  },
  {
   "cell_type": "markdown",
   "metadata": {
    "slideshow": {
     "slide_type": "slide"
    }
   },
   "source": [
    "## From Files\n",
    "\n",
    "There are a number of methods to get datasets that are stored in files with common [formats](https://www.tensorflow.org/guide/data#reading_input_data).\n",
    "\n",
    "For example: [Text file](https://www.tensorflow.org/api_docs/python/tf/data/TextLineDataset)"
   ]
  },
  {
   "cell_type": "code",
   "execution_count": 27,
   "metadata": {
    "slideshow": {
     "slide_type": "subslide"
    }
   },
   "outputs": [],
   "source": [
    "from tensorflow.keras.utils import get_file\n",
    "\n",
    "import os \n",
    "file_path = get_file(\"titanic.csv\", \"https://storage.googleapis.com/tf-datasets/titanic/train.csv\")"
   ]
  },
  {
   "cell_type": "code",
   "execution_count": 28,
   "metadata": {
    "slideshow": {
     "slide_type": "subslide"
    }
   },
   "outputs": [
    {
     "name": "stdout",
     "output_type": "stream",
     "text": [
      "Element spec: TensorSpec(shape=(), dtype=tf.string, name=None)\n",
      "\n",
      "Example 0: tf.Tensor(b'survived,sex,age,n_siblings_spouses,parch,fare,class,deck,embark_town,alone', shape=(), dtype=string)\n",
      "Example 1: tf.Tensor(b'0,male,22.0,1,0,7.25,Third,unknown,Southampton,n', shape=(), dtype=string)\n",
      "Example 2: tf.Tensor(b'1,female,38.0,1,0,71.2833,First,C,Cherbourg,n', shape=(), dtype=string)\n"
     ]
    }
   ],
   "source": [
    "ds = tf.data.TextLineDataset(file_path)\n",
    "\n",
    "print(f\"Element spec: {ds.element_spec}\\n\")\n",
    "\n",
    "for i, elem in enumerate(ds.take(3)):\n",
    "    print(f\"Example {i}:\", elem)"
   ]
  },
  {
   "cell_type": "markdown",
   "metadata": {
    "slideshow": {
     "slide_type": "slide"
    }
   },
   "source": [
    "# Transforming an existing Dataset\n",
    "\n",
    "We can also create a new `Dataset` via a transformation from an existing one.\n",
    "- Can create complex transformation pipelines by *chaining* simple transformations\n",
    "- The Transformations \n",
    "    - consume a single element at a time\n",
    "    - produce a single element at a time\n",
    "    \n",
    "Hence, transformations do not require or cause the presence of the entire dataset in memory at once.\n",
    "\n",
    "We illustrate some common transformations."
   ]
  },
  {
   "cell_type": "markdown",
   "metadata": {
    "slideshow": {
     "slide_type": "subslide"
    }
   },
   "source": [
    "## `batch`\n",
    "\n",
    "A training dataset is usually grouped (for the purpose of Minibatch Gradient Descent) into *batches* of examples.\n",
    "\n",
    "There is a transformation `batch`\n",
    "- Takes a source `Dataset` of elements\n",
    "- Creates a new `Dataset` whose elements\n",
    "    - are groups of the elements of the source `Dataset`"
   ]
  },
  {
   "cell_type": "code",
   "execution_count": 29,
   "metadata": {
    "slideshow": {
     "slide_type": "subslide"
    }
   },
   "outputs": [
    {
     "name": "stdout",
     "output_type": "stream",
     "text": [
      "Source dataset:\n",
      "\n",
      "Element spec: TensorSpec(shape=(), dtype=tf.int64, name=None)\n",
      "\n",
      "Example 0: tf.Tensor(0, shape=(), dtype=int64)\n",
      "Example 1: tf.Tensor(1, shape=(), dtype=int64)\n",
      "Example 2: tf.Tensor(2, shape=(), dtype=int64)\n",
      "Example 3: tf.Tensor(3, shape=(), dtype=int64)\n",
      "Example 4: tf.Tensor(4, shape=(), dtype=int64)\n",
      "Example 5: tf.Tensor(5, shape=(), dtype=int64)\n",
      "Example 6: tf.Tensor(6, shape=(), dtype=int64)\n",
      "Example 7: tf.Tensor(7, shape=(), dtype=int64)\n",
      "\n",
      "\n",
      "Transformed dataset:\n",
      "\n",
      "Element spec: TensorSpec(shape=(None,), dtype=tf.int64, name=None)\n",
      "\n",
      "Example 0: [0 1 2]\n",
      "Example 1: [3 4 5]\n",
      "Example 2: [6 7]\n"
     ]
    }
   ],
   "source": [
    "ds = tf.data.Dataset.range(8)\n",
    "\n",
    "print(\"Source dataset:\\n\")\n",
    "print(f\"Element spec: {ds.element_spec}\\n\")\n",
    "\n",
    "for i, elem in enumerate(ds):\n",
    "    print(f\"Example {i}:\", elem)\n",
    "\n",
    "print(\"\\n\\nTransformed dataset:\\n\")  \n",
    "ds = ds.batch(3)\n",
    "\n",
    "print(f\"Element spec: {ds.element_spec}\\n\")\n",
    "\n",
    "for i, elem in enumerate(ds):\n",
    "    print(f\"Example {i}: {elem}\")\n",
    "\n",
    "    "
   ]
  },
  {
   "cell_type": "markdown",
   "metadata": {
    "slideshow": {
     "slide_type": "subslide"
    }
   },
   "source": [
    "Observe\n",
    "- `element_spec` of the source is a 0-D Tensor\n",
    "    - elements are single values\n",
    "- `element_spec` of the transformed has a \"batch\" dimension\n",
    "    - elements are 1-D Tensors\n",
    "    - of *unequal* lengths"
   ]
  },
  {
   "cell_type": "markdown",
   "metadata": {
    "slideshow": {
     "slide_type": "slide"
    }
   },
   "source": [
    "## Other common transformations\n",
    "\n",
    "- `map`\n",
    "    - create new elements which are the result of applying a function to each original element\n",
    "- `apply`"
   ]
  },
  {
   "cell_type": "markdown",
   "metadata": {
    "slideshow": {
     "slide_type": "subslide"
    }
   },
   "source": [
    "- `filter`\n",
    "    - create a sub-sequence, selecting original elements according to a condition"
   ]
  },
  {
   "cell_type": "markdown",
   "metadata": {
    "slideshow": {
     "slide_type": "subslide"
    }
   },
   "source": [
    "- `repeat`\n",
    "    - create a longer dataset by repeating all the elements\n",
    "- `skip`\n",
    "    - create a *suffix* of the elements\n",
    "- `take`\n",
    "    - create a *prefix* of the elements"
   ]
  },
  {
   "cell_type": "markdown",
   "metadata": {
    "slideshow": {
     "slide_type": "slide"
    }
   },
   "source": [
    "# HuggingFace datasets\n",
    "\n",
    "HuggingFace has its own datasets API which is similar to TFDS.\n",
    "\n",
    "[Here](https://huggingface.co/docs/datasets/index) is the documentation.\n",
    "- tutorials\n",
    "- how-to guides\n",
    "\n",
    "You can create your own HF datasets !\n",
    "- For example: [from pandas, csv files, etc.](https://huggingface.co/docs/datasets/loading#inmemory-data)"
   ]
  },
  {
   "cell_type": "markdown",
   "metadata": {
    "slideshow": {
     "slide_type": "subslide"
    }
   },
   "source": [
    "The format and orientation of datasets between TFDS and HF may be different.\n",
    "\n",
    "Fortunately HuggingFace Datasets have a [`to_tf_dataset`](https://huggingface.co/docs/datasets/use_dataset#tokenize-text)\n",
    "method to convert from HF Dataset to TFDS.\n",
    "\n"
   ]
  },
  {
   "cell_type": "code",
   "execution_count": 32,
   "metadata": {
    "slideshow": {
     "slide_type": "slide"
    }
   },
   "outputs": [
    {
     "name": "stdout",
     "output_type": "stream",
     "text": [
      "Done\n"
     ]
    }
   ],
   "source": [
    "print(\"Done\")"
   ]
  }
 ],
 "metadata": {
  "celltoolbar": "Slideshow",
  "kernelspec": {
   "display_name": "tf",
   "language": "python",
   "name": "tf"
  },
  "language_info": {
   "codemirror_mode": {
    "name": "ipython",
    "version": 3
   },
   "file_extension": ".py",
   "mimetype": "text/x-python",
   "name": "python",
   "nbconvert_exporter": "python",
   "pygments_lexer": "ipython3",
   "version": "3.9.12"
  },
  "toc": {
   "base_numbering": 1,
   "nav_menu": {},
   "number_sections": true,
   "sideBar": true,
   "skip_h1_title": false,
   "title_cell": "Table of Contents",
   "title_sidebar": "Contents",
   "toc_cell": false,
   "toc_position": {
    "height": "calc(100% - 180px)",
    "left": "10px",
    "top": "150px",
    "width": "369.594px"
   },
   "toc_section_display": true,
   "toc_window_display": true
  }
 },
 "nbformat": 4,
 "nbformat_minor": 2
}

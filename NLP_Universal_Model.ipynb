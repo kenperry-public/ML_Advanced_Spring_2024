{
 "cells": [
  {
   "cell_type": "code",
   "execution_count": 1,
   "metadata": {
    "slideshow": {
     "slide_type": "notes"
    }
   },
   "outputs": [
    {
     "data": {
      "text/latex": [
       "$$\n",
       "\\newcommand{\\x}{\\mathbf{x}}\n",
       "\\newcommand{\\tx}{\\tilde{\\x}}\n",
       "\\newcommand{\\y}{\\mathbf{y}}\n",
       "\\newcommand{\\b}{\\mathbf{b}}\n",
       "\\newcommand{\\c}{\\mathbf{c}}\n",
       "\\newcommand{\\e}{\\mathbf{e}}\n",
       "\\newcommand{\\z}{\\mathbf{z}}\n",
       "\\newcommand{\\h}{\\mathbf{h}}\n",
       "\\newcommand{\\u}{\\mathbf{u}}\n",
       "\\newcommand{\\v}{\\mathbf{v}}\n",
       "\\newcommand{\\w}{\\mathbf{w}}\n",
       "\\newcommand{\\W}{\\mathbf{W}}\n",
       "\\newcommand{\\X}{\\mathbf{X}}\n",
       "\\newcommand{\\KL}{\\mathbf{KL}}\n",
       "\\newcommand{\\E}{{\\mathbb{E}}}\n",
       "\\newcommand{\\ip}{\\mathbf{{(i)}}}\n",
       "%\n",
       "% Test set\n",
       "\\newcommand{\\xt}{\\underline{\\x}}\n",
       "\\newcommand{\\yt}{\\underline{\\y}}\n",
       "\\newcommand{\\Xt}{\\underline{\\X}}\n",
       "\\newcommand{\\perfm}{\\mathcal{P}}\n",
       "%\n",
       "% \\ll indexes a layer; we can change the actual letter\n",
       "\\newcommand{\\ll}{l}\n",
       "\\newcommand{\\llp}{{(\\ll)}}\n",
       "%\n",
       "\\newcommand{Thetam}{\\Theta_{-0}}\n",
       "\n",
       "% CNN\n",
       "\\newcommand{\\kernel}{\\mathbf{k}} \n",
       "\\newcommand{\\dim}{d}\n",
       "\\newcommand{\\idxspatial}{{\\text{idx}}}\n",
       "\\newcommand{\\summaxact}{\\text{max}}\n",
       "%\n",
       "%\n",
       "\n",
       "% RNN\n",
       "% \\tt indexes a time step\n",
       "\\newcommand{\\tt}{t}\n",
       "\\newcommand{\\tp}{{(\\tt)}}\n",
       "%\n",
       "%\n",
       "\n",
       "% LSTM\n",
       "\\newcommand{\\g}{\\mathbf{g}}\n",
       "\\newcommand{\\remember}{\\mathbf{remember}}\n",
       "\\newcommand{\\save}{\\mathbf{save}}\n",
       "\\newcommand{\\focus}{\\mathbf{focus}}\n",
       "%\n",
       "%\n",
       "% NLP\n",
       "\\newcommand{\\Vocab}{\\mathbf{V}}\n",
       "\\newcommand{\\v}{\\mathbf{v}}\n",
       "\\newcommand{\\offset}{o}\n",
       "\\newcommand{\\o}{o}\n",
       "\\newcommand{\\E}{\\mathbf{E}}\n",
       "%\n",
       "%\n",
       "\\newcommand{\\loss}{\\mathcal{L}}\n",
       "\\newcommand{\\cost}{\\mathcal{L}}\n",
       "%\n",
       "%                     \n",
       "\\newcommand{\\pdata}{p_\\text{data}}\n",
       "\\newcommand{\\pmodel}{p_\\text{model}}\n",
       "%\n",
       "% SVM\n",
       "\\newcommand{\\margin}{{\\mathbb{m}}}\n",
       "\\newcommand{\\lmk}{\\boldsymbol{\\ell}}\n",
       "%\n",
       "% Functions with arguments\n",
       "\\def\\xsy#1#2{#1^#2}\n",
       "\\def\\rand#1{\\tilde{#1}}\n",
       "\\def\\randx{\\rand{\\x}}\n",
       "\\def\\randy{\\rand{\\y}}\n",
       "\\def\\trans#1{\\dot{#1}}\n",
       "\\def\\transx{\\trans{\\x}}\n",
       "\\def\\transy{\\trans{\\y}}\n",
       "%\n",
       "\\def\\argmax#1{\\underset{#1} {\\operatorname{argmax}} }\n",
       "\\def\\argmin#1{\\underset{#1} {\\operatorname{argmin}} }\n",
       "\\def\\max#1{\\underset{#1} {\\operatorname{max}} }\n",
       "\\def\\min#1{\\underset{#1} {\\operatorname{min}} }\n",
       "%\n",
       "\\def\\pr#1{\\mathcal{p}(#1)}\n",
       "\\def\\prc#1#2{\\mathcal{p}(#1 \\; | \\; #2)}\n",
       "\\def\\cnt#1{\\mathcal{count}_{#1}}\n",
       "\\def\\node#1{\\mathbb{#1}}\n",
       "%\n",
       "\\newcommand{\\floor}[1]{\\left\\lfloor #1 \\right\\rfloor}\n",
       "\\newcommand{\\ceil}[1]{\\left\\lceil #1 \\right\\rceil}\n",
       "%\n",
       "\\def\\loc#1{{\\text{##} {#1}}}\n",
       "%\n",
       "$$\n"
      ],
      "text/plain": [
       "<IPython.core.display.Latex object>"
      ]
     },
     "metadata": {},
     "output_type": "display_data"
    }
   ],
   "source": [
    "%run Latex_macros.ipynb"
   ]
  },
  {
   "cell_type": "markdown",
   "metadata": {
    "slideshow": {
     "slide_type": "slide"
    }
   },
   "source": [
    "# Steps to a Universal Model for NLP\n",
    "\n",
    "The fact that the \"Unsupervised Pre-Trained Model + Supervised Fine-Tuning\" paradigm is \n",
    "so successful in solving new tasks\n",
    "- suggests that Large Language Models seem to learn a \"universal\" task-independent representation of language\n",
    "\n",
    "Still, many tasks don't naturally fit into a Language Model objective.\n",
    "\n",
    "In this module, we explore the possibility of a Universal Model for all NLP tasks."
   ]
  },
  {
   "cell_type": "markdown",
   "metadata": {
    "slideshow": {
     "slide_type": "slide"
    }
   },
   "source": [
    "# The Language Model as a Universal Model (preliminary)\n",
    "\n",
    "One approach is to convert a Source Task into one or more instances of the Target Task (Language Model).\n",
    "\n",
    "You may need to \n",
    "- *transform* your task input from the domain of the Source task\n",
    "    - into a text string: the domain of the Language Modeling task\n",
    "- manipulate the output of the Language Model (text) to transform it back into the range of the Target task\n",
    "\n",
    "We will refer to this step as *Input/Output Transformation*."
   ]
  },
  {
   "cell_type": "markdown",
   "metadata": {
    "slideshow": {
     "slide_type": "subslide"
    }
   },
   "source": [
    "Here is a diagram (from the GPT paper) explaining how the authors \n",
    "\n",
    "- translate the input for the Source task\n",
    "- into Text input for the multi-task model\n",
    "\n",
    "<table>\n",
    "    <tr>\n",
    "        <th><center>Task encoding (from GPT paper)</center></th>\n",
    "    </tr>\n",
    "    <tr>\n",
    "        <td><img src=\"images/LM_GPT_task_encoding.png\" width=80%></td>\n",
    "    </tr>\n",
    "    <tr>\n",
    "        <td><center>Picture from: https://cdn.openai.com/research-covers/language-unsupervised/language_understanding_paper.pdf</center></td>\n",
    "    </tr>   \n",
    "</table>"
   ]
  },
  {
   "cell_type": "markdown",
   "metadata": {},
   "source": [
    "For example: the Multiple Choice task:\n",
    "- raw input is structured\n",
    "    - Context Text\n",
    "    - $N$ possible answer Texts\n",
    "    \n",
    "- Each potential Answer text\n",
    "- is concatenated to the Context Text\n",
    "- the representation of the final `[CLS]` token is an alternate representation of the Context/Answer pair\n",
    "- which is fed into a Transformer + Linear network\n",
    "    - the Linear part just changes the dimensions (matrix multiplication, no activation)\n",
    "- and softmax'ed to determine which Context/Answer pair is most likely"
   ]
  },
  {
   "cell_type": "markdown",
   "metadata": {
    "slideshow": {
     "slide_type": "slide"
    }
   },
   "source": [
    "# A Universal API: Text to text\n",
    "\n",
    "The Input/Output transformations get us close to a Universal Model, but not quite\n",
    "- multiple instances may be required (see Multiple Choice)\n",
    "- Target-task specific Output transformtion\n",
    "\n",
    "The next step: create a Universal API: *Text to Text*."
   ]
  },
  {
   "cell_type": "markdown",
   "metadata": {
    "slideshow": {
     "slide_type": "subslide"
    }
   },
   "source": [
    "Consider each task as a mapping from Input to Target.\n",
    "\n",
    "The *Text to Text API*\n",
    "- converts the Input to Text\n",
    "- converts the Output to Text\n",
    "\n",
    "Once both are in Text form\n",
    "- we combine the texts\n",
    "- format it into an instance of \"Predict the next\" (Text completion)\n",
    "    - the part before the Output is called the *Context* or the *Prompt*\n",
    "    - the Target Text are the words that \"complete\" the Input Text (\"context\")\n"
   ]
  },
  {
   "cell_type": "markdown",
   "metadata": {
    "slideshow": {
     "slide_type": "subslide"
    }
   },
   "source": [
    "With the Universal Text To Text API all NLP tasks become\n",
    "- simple instances of the Language Modeling task\n",
    "- functions mapping an Input (the \"Context') to a Target (the text continuation)\n",
    "\n",
    "For example, the \"unscramble the letters\" task becomes\n",
    "\n",
    "\n",
    "<center>Task: Unscramble the letters</center>\n",
    "\n",
    "|  |  |  |\n",
    "| :- | :- | --- |\n",
    "| Context: | Please unscramble the letters in the word and write that word | |\n",
    "|          | skicts = |\n",
    "| Target completion: | sticks |\n",
    "\n",
    "- The \"Unscramble the letters task\" encoded as \"predict the next\" word following the \"=\" sign"
   ]
  },
  {
   "cell_type": "markdown",
   "metadata": {
    "slideshow": {
     "slide_type": "subslide"
    }
   },
   "source": [
    "<center>Task: English to French</center>\n",
    "\n",
    "|  |  |  |\n",
    "| :- | :- | --- |\n",
    "| Context: | English: Please unscramble the letters in the word and write that word | |\n",
    "|          | French: | |\n",
    "| Target completion: | Veuillez déchiffrer les lettres du mot et écrire ce mot |\n",
    "\n",
    "- Translation task encoded as \"predict the next\" words following the \"French:\" prompt."
   ]
  },
  {
   "cell_type": "markdown",
   "metadata": {
    "slideshow": {
     "slide_type": "subslide"
    }
   },
   "source": [
    "<table>\n",
    "    <tr>\n",
    "        <center><strong>Text to Text</strong></center>\n",
    "     </tr> \n",
    "     <tr>   \n",
    "        <img src=\"images/T5_text2text.png\">\n",
    "    </tr> \n",
    "    <tr>\n",
    "        Attribution: https://arxiv.org/pdf/1910.10683.pdf#page=3\n",
    "    </tr>\n",
    "</table>"
   ]
  },
  {
   "cell_type": "markdown",
   "metadata": {
    "slideshow": {
     "slide_type": "subslide"
    }
   },
   "source": [
    "\n",
    "[Appendix D of the T5 paper](https://arxiv.org/pdf/1910.10683.pdf#page=47) gives examples of\n",
    "how the input text for a given task is transformed into a sequence of words.\n",
    "\n",
    "**Summary**\n",
    "- Structured input is flattened\n",
    "    - Inputs consisting of multiple sentences (each with a different role)\n",
    "    - are flattened into a single sequence\n",
    "    - separated by tags indicating the role of following sentence\n",
    "- A \"task description\" is prepended to the input\n",
    "    - indicating the task to which the example belongs\n",
    "    - remember: this is multi-task training"
   ]
  },
  {
   "cell_type": "markdown",
   "metadata": {
    "slideshow": {
     "slide_type": "slide"
    }
   },
   "source": [
    "# The Language Model as the Universal Model\n",
    "\n",
    "Using the Text to Text API allows us to turn all tasks into instances of a Language Model task.\n",
    "\n",
    "Note that the Text to Text API produces somewhat \"unnatural\" text\n",
    "- Artificial\n",
    "- May differ from the format of the examples used for Pre-Training\n",
    "\n",
    "Thus, we should expect to have to Fine-Tune the Language Model on the formated version of examples\n",
    "from the Source Task."
   ]
  },
  {
   "cell_type": "markdown",
   "metadata": {
    "slideshow": {
     "slide_type": "subslide"
    }
   },
   "source": [
    "We shall see that it also allows us to\n",
    "- Present examples of a new Target Task at Inference time (rather than Training time)\n",
    "- Explore whether a Pre-Trained model **without** Fine-Tuning is able to adapt to the new Target Task\n",
    "    - **without** adjusting its parameters !\n",
    "- This is called *In-Context Learning* and will be the subject of a subsequent module"
   ]
  },
  {
   "cell_type": "code",
   "execution_count": 1,
   "metadata": {
    "slideshow": {
     "slide_type": "slide"
    }
   },
   "outputs": [
    {
     "name": "stdout",
     "output_type": "stream",
     "text": [
      "Done\n"
     ]
    }
   ],
   "source": [
    "print(\"Done\")"
   ]
  }
 ],
 "metadata": {
  "celltoolbar": "Slideshow",
  "kernelspec": {
   "display_name": "Python 3",
   "language": "python",
   "name": "python3"
  },
  "language_info": {
   "codemirror_mode": {
    "name": "ipython",
    "version": 3
   },
   "file_extension": ".py",
   "mimetype": "text/x-python",
   "name": "python",
   "nbconvert_exporter": "python",
   "pygments_lexer": "ipython3",
   "version": "3.7.4"
  },
  "toc": {
   "base_numbering": 1,
   "nav_menu": {},
   "number_sections": true,
   "sideBar": true,
   "skip_h1_title": false,
   "title_cell": "Table of Contents",
   "title_sidebar": "Contents",
   "toc_cell": false,
   "toc_position": {
    "height": "calc(100% - 180px)",
    "left": "10px",
    "top": "150px",
    "width": "369.594px"
   },
   "toc_section_display": true,
   "toc_window_display": true
  }
 },
 "nbformat": 4,
 "nbformat_minor": 2
}

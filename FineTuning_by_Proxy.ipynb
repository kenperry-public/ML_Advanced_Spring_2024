{
 "cells": [
  {
   "cell_type": "code",
   "execution_count": 1,
   "metadata": {
    "slideshow": {
     "slide_type": "notes"
    }
   },
   "outputs": [
    {
     "data": {
      "text/latex": [
       "$$\n",
       "\\newcommand{\\x}{\\mathbf{x}}\n",
       "\\newcommand{\\tx}{\\tilde{\\x}}\n",
       "\\newcommand{\\y}{\\mathbf{y}}\n",
       "\\newcommand{\\b}{\\mathbf{b}}\n",
       "\\newcommand{\\c}{\\mathbf{c}}\n",
       "\\newcommand{\\e}{\\mathbf{e}}\n",
       "\\newcommand{\\z}{\\mathbf{z}}\n",
       "\\newcommand{\\h}{\\mathbf{h}}\n",
       "\\newcommand{\\u}{\\mathbf{u}}\n",
       "\\newcommand{\\v}{\\mathbf{v}}\n",
       "\\newcommand{\\w}{\\mathbf{w}}\n",
       "\\newcommand{\\V}{\\mathbf{V}}\n",
       "\\newcommand{\\W}{\\mathbf{W}}\n",
       "\\newcommand{\\X}{\\mathbf{X}}\n",
       "\\newcommand{\\KL}{\\mathbf{KL}}\n",
       "\\newcommand{\\E}{{\\mathbb{E}}}\n",
       "\\newcommand{\\Reals}{{\\mathbb{R}}}\n",
       "\\newcommand{\\ip}{\\mathbf{{(i)}}}\n",
       "%\n",
       "% Test set\n",
       "\\newcommand{\\xt}{\\underline{\\x}}\n",
       "\\newcommand{\\yt}{\\underline{\\y}}\n",
       "\\newcommand{\\Xt}{\\underline{\\X}}\n",
       "\\newcommand{\\perfm}{\\mathcal{P}}\n",
       "%\n",
       "% \\ll indexes a layer; we can change the actual letter\n",
       "\\newcommand{\\ll}{l}\n",
       "\\newcommand{\\llp}{{(\\ll)}}\n",
       "%\n",
       "\\newcommand{Thetam}{\\Theta_{-0}}\n",
       "\n",
       "% CNN\n",
       "\\newcommand{\\kernel}{\\mathbf{k}} \n",
       "\\newcommand{\\dim}{d}\n",
       "\\newcommand{\\idxspatial}{{\\text{idx}}}\n",
       "\\newcommand{\\summaxact}{\\text{max}}\n",
       "\\newcommand{idxb}{\\mathbf{i}}\n",
       "%\n",
       "%\n",
       "\n",
       "% RNN\n",
       "% \\tt indexes a time step\n",
       "\\newcommand{\\tt}{t}\n",
       "\\newcommand{\\tp}{{(\\tt)}}\n",
       "%\n",
       "%\n",
       "\n",
       "% LSTM\n",
       "\\newcommand{\\g}{\\mathbf{g}}\n",
       "\\newcommand{\\remember}{\\mathbf{remember}}\n",
       "\\newcommand{\\save}{\\mathbf{save}}\n",
       "\\newcommand{\\focus}{\\mathbf{focus}}\n",
       "%\n",
       "%\n",
       "% NLP\n",
       "\\newcommand{\\Vocab}{\\mathbf{V}}\n",
       "\\newcommand{\\v}{\\mathbf{v}}\n",
       "\\newcommand{\\offset}{o}\n",
       "\\newcommand{\\o}{o}\n",
       "\\newcommand{\\Emb}{\\mathbf{E}}\n",
       "%\n",
       "%\n",
       "\\newcommand{\\loss}{\\mathcal{L}}\n",
       "\\newcommand{\\cost}{\\mathcal{L}}\n",
       "%\n",
       "%                     \n",
       "\\newcommand{\\pdata}{p_\\text{data}}\n",
       "\\newcommand{\\pmodel}{p_\\text{model}}\n",
       "%\n",
       "% SVM\n",
       "\\newcommand{\\margin}{{\\mathbb{m}}}\n",
       "\\newcommand{\\lmk}{\\boldsymbol{\\ell}}\n",
       "%\n",
       "%\n",
       "% Functions with arguments\n",
       "\\def\\xsy#1#2{#1^#2}\n",
       "\\def\\rand#1{\\tilde{#1}}\n",
       "\\def\\randx{\\rand{\\x}}\n",
       "\\def\\randy{\\rand{\\y}}\n",
       "\\def\\trans#1{\\dot{#1}}\n",
       "\\def\\transx{\\trans{\\x}}\n",
       "\\def\\transy{\\trans{\\y}}\n",
       "%\n",
       "\\def\\argmax#1{\\underset{#1} {\\operatorname{argmax}} }\n",
       "\\def\\argmin#1{\\underset{#1} {\\operatorname{argmin}} }\n",
       "\\def\\max#1{\\underset{#1} {\\operatorname{max}} }\n",
       "\\def\\min#1{\\underset{#1} {\\operatorname{min}} }\n",
       "%\n",
       "\\def\\pr#1{\\mathcal{p}(#1)}\n",
       "\\def\\prc#1#2{\\mathcal{p}(#1 \\; | \\; #2)}\n",
       "\\def\\cnt#1{\\mathcal{count}_{#1}}\n",
       "\\def\\node#1{\\mathbb{#1}}\n",
       "%\n",
       "\\def\\loc#1{{\\text{##} {#1}}}\n",
       "%\n",
       "\\def\\OrderOf#1{\\mathcal{O}\\left( #1 \\right)}\n",
       "%\n",
       "% Expectation operator\n",
       "\\def\\Exp#1{\\underset{#1} {\\operatorname{\\mathbb{E}}} }\n",
       "%\n",
       "% VAE\n",
       "\\def\\prs#1#2{\\mathcal{p}_{#2}(#1)}\n",
       "\\def\\qr#1{\\mathcal{q}(#1)}\n",
       "\\def\\qrs#1#2{\\mathcal{q}_{#2}(#1)}\n",
       "%\n",
       "% Reinforcement learning\n",
       "\\newcommand{\\Actions}{{\\mathcal{A}}} \n",
       "\\newcommand{\\actseq}{A}\n",
       "\\newcommand{\\act}{a}\n",
       "\\newcommand{\\States}{{\\mathcal{S}}}   \n",
       "\\newcommand{\\stateseq}{S}  \n",
       "\\newcommand{\\state}{s}\n",
       "\\newcommand{\\Rewards}{{\\mathcal{R}}}\n",
       "\\newcommand{\\rewseq}{R}\n",
       "\\newcommand{\\rew}{r}\n",
       "\\newcommand{\\transp}{P}\n",
       "\\newcommand{\\statevalfun}{v}\n",
       "\\newcommand{\\actvalfun}{q}\n",
       "\\newcommand{\\disc}{\\gamma}\n",
       "%\n",
       "%\n",
       "\\newcommand{\\floor}[1]{\\left\\lfloor #1 \\right\\rfloor}\n",
       "\\newcommand{\\ceil}[1]{\\left\\lceil #1 \\right\\rceil}\n",
       "%\n",
       "%\n",
       "$$\n"
      ],
      "text/plain": [
       "<IPython.core.display.Latex object>"
      ]
     },
     "metadata": {},
     "output_type": "display_data"
    }
   ],
   "source": [
    "%run Latex_macros.ipynb"
   ]
  },
  {
   "cell_type": "markdown",
   "metadata": {
    "slideshow": {
     "slide_type": "slide"
    }
   },
   "source": [
    "# Fine Tuning by Proxy\n",
    "\n",
    "**Reference**\n",
    "\n",
    "[Tuning Language Models by Proxy](https://arxiv.org/pdf/2401.08565.pdf)\n",
    "\n",
    "Fine-tuning a model $\\mathcal{M}$\n",
    "- adapts the model to become $\\mathcal{M}^{\\text{FT}}$\n",
    "- by modifying its weights\n",
    "- through training by a task-specific fine-tuning dataset $\\X^{\\text{FT}}$\n",
    "\n",
    "Although the Fine-Tuning dataset $\\X^{\\text{FT}}$ can be small, Fine-Tuning can be expensive\n",
    "- if  $\\mathcal{M}$ has many parameters."
   ]
  },
  {
   "cell_type": "markdown",
   "metadata": {
    "slideshow": {
     "slide_type": "subslide"
    }
   },
   "source": [
    "If the adapted behavior induced by $\\X^{\\text{FT}}$ was desirable\n",
    "- e.g., Instruction following\n",
    "\n",
    "we could Fine-Tune a small model $\\mathcal{M}_{\\text{small}}$ to become $\\mathcal{M}_{\\text{small}}^{\\text{FT}}$\n",
    "\n",
    "However, this smaller model would likely be less capable than $\\mathcal{M}^{\\text{FT}}$ "
   ]
  },
  {
   "cell_type": "markdown",
   "metadata": {
    "slideshow": {
     "slide_type": "subslide"
    }
   },
   "source": [
    "The authors propose a method for creating \n",
    "- an approximation $\\tilde{\\mathcal{M}}^{\\text{FT}}$\n",
    "of $\\mathcal{M}^{\\text{FT}}$ \n",
    "- that **does not** modify the weights of $\\mathcal{M}$\n",
    "- by using information comparing the predictions of\n",
    "    - small model $\\mathcal{M}_{\\text{small}}$ and its fine-tuned version $\\mathcal{M}_{\\text{small}}^{\\text{FT}}$"
   ]
  },
  {
   "cell_type": "markdown",
   "metadata": {
    "slideshow": {
     "slide_type": "slide"
    }
   },
   "source": [
    "# Method\n",
    "\n",
    "For a model $M$, let $s(M, \\x)$ denote\n",
    "- the logits produced by $M$\n",
    "- given input $\\x$\n",
    "\n",
    "Recall\n",
    "- logits are a vector over the possible output tokens\n",
    "- which can be converted into probabilities via a softmax"
   ]
  },
  {
   "cell_type": "markdown",
   "metadata": {
    "slideshow": {
     "slide_type": "subslide"
    }
   },
   "source": [
    "We compute \n",
    "- how much the logits of the fine-tuned small model $\\mathcal{M}_{\\text{small}}^{\\text{FT}}$\n",
    "- differ from those of the original small model $\\mathcal{M}_{\\text{small}}$\n",
    "\n",
    "$$\n",
    "d(\\x) = s(\\mathcal{M}_{\\text{small}}^{\\text{FT}}, \\x) - s(\\mathcal{M}_{\\text{small}}, \\x)\n",
    "$$\n",
    "\n",
    "This difference in logits results in a shift in the probability distribution over the output tokens."
   ]
  },
  {
   "cell_type": "markdown",
   "metadata": {
    "slideshow": {
     "slide_type": "subslide"
    }
   },
   "source": [
    "The idea of *Fine Tuning by Proxy*\n",
    "- is to use the change in logits of the fine-tuned small model\n",
    "- to modify the logits of the large model $\\mathcal{M}$\n",
    "- to create the logits of the approximation $\\tilde{\\mathcal{M}}^{\\text{FT}}$\n",
    "\n",
    "$$\n",
    "s(\\tilde{\\mathcal{M}}^{\\text{FT}}, \\x) = s(\\mathcal{M}, \\x) + d(\\x)\n",
    "$$\n"
   ]
  },
  {
   "cell_type": "markdown",
   "metadata": {
    "slideshow": {
     "slide_type": "subslide"
    }
   },
   "source": [
    "Converting to probabilities\n",
    "$$\n",
    "\\pr{\\tilde{\\mathcal{M}}^{\\text{FT}}, \\x}\n",
    "= \\text{softmax} \\left(\n",
    "    s(\\mathcal{M}, \\x) + s(\\mathcal{M}_{\\text{small}}^{\\text{FT}}, \\x) - s(\\mathcal{M}_{\\text{small}}, \\x)\n",
    "\\right)\n",
    "$$"
   ]
  },
  {
   "cell_type": "markdown",
   "metadata": {
    "slideshow": {
     "slide_type": "subslide"
    }
   },
   "source": [
    "<table>\n",
    "    <tr>\n",
    "        <th><center><strong>Fine Tuning by Proxy</center></th>\n",
    "    </tr>\n",
    "    <tr>\n",
    "        <td><img src=\"images/fine_tuning_by_proxy.png\"></td>\n",
    "    </tr>\n",
    "    <tr>\n",
    "        <td>Attribution: https://arxiv.org/pdf/2401.08565.pdf#page=2</td>\n",
    "    </tr>\n",
    "</table>"
   ]
  },
  {
   "cell_type": "markdown",
   "metadata": {
    "slideshow": {
     "slide_type": "slide"
    }
   },
   "source": [
    "# Results\n",
    "\n",
    "Consider a task $T$\n",
    "- e.g., Question Answering (QA)\n",
    "\n",
    "and a metric $\\mathbb{M}_T$ evaluating the performance of a model on the task\n",
    "- e.g., Accuracy"
   ]
  },
  {
   "cell_type": "markdown",
   "metadata": {
    "slideshow": {
     "slide_type": "slide"
    }
   },
   "source": [
    "We can compare the increase in $\\mathbb{M}_T$\n",
    "- from large $\\mathcal{M}$ to *truly tuned*  large $\\mathcal{M}^{\\text{FT}}$\n",
    "$$\n",
    "\\mathbb{M}_T(\\mathcal{M}^{\\text{FT}} ) - \\mathbb{M}_T ( \\mathcal{M} )\n",
    "$$\n",
    "\n",
    "to the increase in $\\mathbb{M}_T$\n",
    "- from large $\\mathcal{M}$ to *approximately tuned* $\\tilde{\\mathcal{M}}^{\\text{FT}}$\n",
    "$$\n",
    "\\mathbb{M}_T(\\tilde{\\mathcal{M}}^{\\text{FT}}) - \\mathbb{M}_T ( \\mathcal{M} )\n",
    "$$\n",
    "via the ratio\n",
    "$$\n",
    "\\frac{\\mathbb{M}_T(\\tilde{\\mathcal{M}}^{\\text{FT}}) - \\mathbb{M}_T ( \\mathcal{M} )}{\\mathbb{M}_T(\\mathcal{M}^{\\text{FT}} ) - \\mathbb{M}_T ( \\mathcal{M} )} \n",
    "$$\n",
    "\n",
    "The closer the ratio is to 100%, the better."
   ]
  },
  {
   "cell_type": "markdown",
   "metadata": {
    "slideshow": {
     "slide_type": "subslide"
    }
   },
   "source": [
    "The authors compare\n",
    "- Fine-tuned version $\\mathcal{M}^{\\text{FT}}$ of large (70 billion parameter) $\\mathcal{M} = \\text{LLama2-70B}$\n",
    "- to the approximately tuned version $\\tilde{\\mathcal{M}}^{\\text{FT}}$\n",
    "- obtained by fine-tuning smaller (7 billion parameter) model $\\mathcal{M}_{\\text{small}} = \\text{LLama2-7B}$ "
   ]
  },
  {
   "cell_type": "markdown",
   "metadata": {
    "slideshow": {
     "slide_type": "subslide"
    }
   },
   "source": [
    "When Fine-Tuning the base LLM to be a Chat Assistant the authors find\n",
    "- that across a variety of tasks $T$\n",
    "- the ratio is $88 \\%$\n",
    "\n",
    "That is: the approximately-tuned model is almost equal in performance to the truly-tuned model across several tasks."
   ]
  },
  {
   "cell_type": "code",
   "execution_count": 2,
   "metadata": {
    "slideshow": {
     "slide_type": "slide"
    }
   },
   "outputs": [
    {
     "name": "stdout",
     "output_type": "stream",
     "text": [
      "Done\n"
     ]
    }
   ],
   "source": [
    "print(\"Done\")"
   ]
  }
 ],
 "metadata": {
  "celltoolbar": "Slideshow",
  "kernelspec": {
   "display_name": "Python 3",
   "language": "python",
   "name": "python3"
  },
  "language_info": {
   "codemirror_mode": {
    "name": "ipython",
    "version": 3
   },
   "file_extension": ".py",
   "mimetype": "text/x-python",
   "name": "python",
   "nbconvert_exporter": "python",
   "pygments_lexer": "ipython3",
   "version": "3.7.4"
  },
  "toc": {
   "base_numbering": 1,
   "nav_menu": {},
   "number_sections": true,
   "sideBar": true,
   "skip_h1_title": false,
   "title_cell": "Table of Contents",
   "title_sidebar": "Contents",
   "toc_cell": false,
   "toc_position": {},
   "toc_section_display": true,
   "toc_window_display": false
  }
 },
 "nbformat": 4,
 "nbformat_minor": 2
}

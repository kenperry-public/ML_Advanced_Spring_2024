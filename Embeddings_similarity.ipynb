{
 "cells": [
  {
   "cell_type": "code",
   "execution_count": 1,
   "metadata": {
    "slideshow": {
     "slide_type": "slide"
    }
   },
   "outputs": [
    {
     "data": {
      "text/latex": [
       "$$\n",
       "\\newcommand{\\x}{\\mathbf{x}}\n",
       "\\newcommand{\\tx}{\\tilde{\\x}}\n",
       "\\newcommand{\\y}{\\mathbf{y}}\n",
       "\\newcommand{\\b}{\\mathbf{b}}\n",
       "\\newcommand{\\c}{\\mathbf{c}}\n",
       "\\newcommand{\\e}{\\mathbf{e}}\n",
       "\\newcommand{\\z}{\\mathbf{z}}\n",
       "\\newcommand{\\h}{\\mathbf{h}}\n",
       "\\newcommand{\\u}{\\mathbf{u}}\n",
       "\\newcommand{\\v}{\\mathbf{v}}\n",
       "\\newcommand{\\w}{\\mathbf{w}}\n",
       "\\newcommand{\\V}{\\mathbf{V}}\n",
       "\\newcommand{\\W}{\\mathbf{W}}\n",
       "\\newcommand{\\X}{\\mathbf{X}}\n",
       "\\newcommand{\\KL}{\\mathbf{KL}}\n",
       "\\newcommand{\\E}{{\\mathbb{E}}}\n",
       "\\newcommand{\\Reals}{{\\mathbb{R}}}\n",
       "\\newcommand{\\ip}{\\mathbf{{(i)}}}\n",
       "%\n",
       "% Test set\n",
       "\\newcommand{\\xt}{\\underline{\\x}}\n",
       "\\newcommand{\\yt}{\\underline{\\y}}\n",
       "\\newcommand{\\Xt}{\\underline{\\X}}\n",
       "\\newcommand{\\perfm}{\\mathcal{P}}\n",
       "%\n",
       "% \\ll indexes a layer; we can change the actual letter\n",
       "\\newcommand{\\ll}{l}\n",
       "\\newcommand{\\llp}{{(\\ll)}}\n",
       "%\n",
       "\\newcommand{Thetam}{\\Theta_{-0}}\n",
       "\n",
       "% CNN\n",
       "\\newcommand{\\kernel}{\\mathbf{k}} \n",
       "\\newcommand{\\dim}{d}\n",
       "\\newcommand{\\idxspatial}{{\\text{idx}}}\n",
       "\\newcommand{\\summaxact}{\\text{max}}\n",
       "\\newcommand{idxb}{\\mathbf{i}}\n",
       "%\n",
       "%\n",
       "\n",
       "% RNN\n",
       "% \\tt indexes a time step\n",
       "\\newcommand{\\tt}{t}\n",
       "\\newcommand{\\tp}{{(\\tt)}}\n",
       "%\n",
       "%\n",
       "\n",
       "% LSTM\n",
       "\\newcommand{\\g}{\\mathbf{g}}\n",
       "\\newcommand{\\remember}{\\mathbf{remember}}\n",
       "\\newcommand{\\save}{\\mathbf{save}}\n",
       "\\newcommand{\\focus}{\\mathbf{focus}}\n",
       "%\n",
       "%\n",
       "% NLP\n",
       "\\newcommand{\\Vocab}{\\mathbf{V}}\n",
       "\\newcommand{\\v}{\\mathbf{v}}\n",
       "\\newcommand{\\offset}{o}\n",
       "\\newcommand{\\o}{o}\n",
       "\\newcommand{\\Emb}{\\mathbf{E}}\n",
       "%\n",
       "%\n",
       "\\newcommand{\\loss}{\\mathcal{L}}\n",
       "\\newcommand{\\cost}{\\mathcal{L}}\n",
       "%\n",
       "%                     \n",
       "\\newcommand{\\pdata}{p_\\text{data}}\n",
       "\\newcommand{\\pmodel}{p_\\text{model}}\n",
       "%\n",
       "% SVM\n",
       "\\newcommand{\\margin}{{\\mathbb{m}}}\n",
       "\\newcommand{\\lmk}{\\boldsymbol{\\ell}}\n",
       "%\n",
       "%\n",
       "% Functions with arguments\n",
       "\\def\\xsy#1#2{#1^#2}\n",
       "\\def\\rand#1{\\tilde{#1}}\n",
       "\\def\\randx{\\rand{\\x}}\n",
       "\\def\\randy{\\rand{\\y}}\n",
       "\\def\\trans#1{\\dot{#1}}\n",
       "\\def\\transx{\\trans{\\x}}\n",
       "\\def\\transy{\\trans{\\y}}\n",
       "%\n",
       "\\def\\argmax#1{\\underset{#1} {\\operatorname{argmax}} }\n",
       "\\def\\argmin#1{\\underset{#1} {\\operatorname{argmin}} }\n",
       "\\def\\max#1{\\underset{#1} {\\operatorname{max}} }\n",
       "\\def\\min#1{\\underset{#1} {\\operatorname{min}} }\n",
       "%\n",
       "\\def\\pr#1{\\mathcal{p}(#1)}\n",
       "\\def\\prc#1#2{\\mathcal{p}(#1 \\; | \\; #2)}\n",
       "\\def\\cnt#1{\\mathcal{count}_{#1}}\n",
       "\\def\\node#1{\\mathbb{#1}}\n",
       "%\n",
       "\\def\\loc#1{{\\text{##} {#1}}}\n",
       "%\n",
       "\\def\\OrderOf#1{\\mathcal{O}\\left( #1 \\right)}\n",
       "%\n",
       "% Expectation operator\n",
       "\\def\\Exp#1{\\underset{#1} {\\operatorname{\\mathbb{E}}} }\n",
       "%\n",
       "% VAE\n",
       "\\def\\prs#1#2{\\mathcal{p}_{#2}(#1)}\n",
       "\\def\\qr#1{\\mathcal{q}(#1)}\n",
       "\\def\\qrs#1#2{\\mathcal{q}_{#2}(#1)}\n",
       "%\n",
       "% Reinforcement learning\n",
       "\\newcommand{\\Actions}{{\\mathcal{A}}} \n",
       "\\newcommand{\\actseq}{A}\n",
       "\\newcommand{\\act}{a}\n",
       "\\newcommand{\\States}{{\\mathcal{S}}}   \n",
       "\\newcommand{\\stateseq}{S}  \n",
       "\\newcommand{\\state}{s}\n",
       "\\newcommand{\\Rewards}{{\\mathcal{R}}}\n",
       "\\newcommand{\\rewseq}{R}\n",
       "\\newcommand{\\rew}{r}\n",
       "\\newcommand{\\transp}{P}\n",
       "\\newcommand{\\statevalfun}{v}\n",
       "\\newcommand{\\actvalfun}{q}\n",
       "\\newcommand{\\disc}{\\gamma}\n",
       "%\n",
       "%\n",
       "\\newcommand{\\floor}[1]{\\left\\lfloor #1 \\right\\rfloor}\n",
       "\\newcommand{\\ceil}[1]{\\left\\lceil #1 \\right\\rceil}\n",
       "%\n",
       "%\n",
       "$$\n"
      ],
      "text/plain": [
       "<IPython.core.display.Latex object>"
      ]
     },
     "metadata": {},
     "output_type": "display_data"
    }
   ],
   "source": [
    "%run Latex_macros.ipynb"
   ]
  },
  {
   "cell_type": "code",
   "execution_count": 2,
   "metadata": {
    "slideshow": {
     "slide_type": "notes"
    }
   },
   "outputs": [],
   "source": [
    "# My standard magic !  You will see this in almost all my notebooks.\n",
    "\n",
    "from IPython.core.interactiveshell import InteractiveShell\n",
    "InteractiveShell.ast_node_interactivity = \"all\"\n",
    "\n",
    "# Reload all modules imported with %aimport\n",
    "%load_ext autoreload\n",
    "%autoreload 1\n",
    "\n",
    "%matplotlib inline"
   ]
  },
  {
   "cell_type": "code",
   "execution_count": 3,
   "metadata": {
    "slideshow": {
     "slide_type": "notes"
    }
   },
   "outputs": [],
   "source": [
    "import unsupervised_helper\n",
    "\n",
    "%aimport unsupervised_helper\n",
    "\n",
    "vp = unsupervised_helper.VanderPlas()\n"
   ]
  },
  {
   "cell_type": "markdown",
   "metadata": {
    "slideshow": {
     "slide_type": "slide"
    }
   },
   "source": [
    "**References**\n",
    "\n",
    "- Triplet Loss: [FaceNet: A Unified Embedding for Face Recognition and Clustering](https://arxiv.org/pdf/1503.03832.pdf)\n",
    "- Sentence BERT: [entence-BERT: Sentence Embeddings using Siamese BERT-Networks](https://arxiv.org/pdf/1908.10084.pdf))\n",
    "\n",
    "\n",
    "\n",
    "# Embeddings\n",
    "\n",
    "We speculate that a Neural Network is creating an alternate representation of the input\n",
    "- into a latent space that enables a Head Layer (e.g., Classifier) to do its work\n",
    "- training the model produces a representation that has features useful to the Head to complete its task\n",
    " (e.g., Classification)\n",
    "\n",
    "We will refer to these alternate representations as *embeddings*."
   ]
  },
  {
   "cell_type": "markdown",
   "metadata": {
    "slideshow": {
     "slide_type": "subslide"
    }
   },
   "source": [
    "When we plot embeddings in the latent space\n",
    "- we might hope to see clustering of examples that are related\n",
    "\n",
    "For example, here is a plot of a subset of the 10 digits in a 2D latent space"
   ]
  },
  {
   "cell_type": "code",
   "execution_count": 4,
   "metadata": {
    "slideshow": {
     "slide_type": "notes"
    }
   },
   "outputs": [],
   "source": [
    "vpt = unsupervised_helper.VanderPlas()\n",
    "\n",
    "subset1 = [ 0, 4, 7, 9 ]\n",
    "rh_digits = unsupervised_helper.Reconstruct_Helper( subset=[])\n",
    "rh_digits.create_data_digits(subset=subset1)\n",
    "\n",
    "n_components = 8\n",
    "_= rh_digits.fit(n_components=n_components)\n",
    "\n",
    "# Get X tilde and the targets\n",
    "Xtilde = rh_digits.dataProj\n",
    "y = rh_digits.targets"
   ]
  },
  {
   "cell_type": "code",
   "execution_count": 5,
   "metadata": {
    "slideshow": {
     "slide_type": "notes"
    }
   },
   "outputs": [
    {
     "data": {
      "image/png": "[encoded data removed]",
      "text/plain": [
       "<Figure size 720x432 with 2 Axes>"
      ]
     },
     "metadata": {
      "needs_background": "light"
     },
     "output_type": "display_data"
    }
   ],
   "source": [
    "vpt.digits_subset_show_clustering(Xtilde, y, save_file=\"/tmp/digits_subset_cluster.jpg\" )"
   ]
  },
  {
   "cell_type": "markdown",
   "metadata": {
    "slideshow": {
     "slide_type": "subslide"
    }
   },
   "source": [
    "And here is the clustering of text articles across different classes.\n",
    "\n",
    "If such clusters were associated with class labels, the Classifier Head's job would be facilitated.\n",
    "\n",
    "<table>\n",
    "    <tr>\n",
    "        <th><center>Text Embeddings</center></th>\n",
    "    </tr>\n",
    "    <tr>\n",
    "        <td><img src=\"images/sbert_clustering.png\" width-60%></td>\n",
    "    </tr>\n",
    "   \n",
    "</table>\n",
    " <br>\n",
    "    Attribution: https://joeddav.github.io/blog/2020/05/29/ZSL.html\n"
   ]
  },
  {
   "cell_type": "markdown",
   "metadata": {
    "slideshow": {
     "slide_type": "subslide"
    }
   },
   "source": [
    "We also hypothesize that \n",
    "- that *intermediate* layers (distance greater than 1 from the Head) produced meaningful embeddings\n",
    "- in Neural Style Transfer we hypothesized\n",
    "    - the representation of shallow layers captures \"syntax\" (e.g. Content)\n",
    "    - the representation of deeper layers captures \"semantics\" (e.g., Style)\n"
   ]
  },
  {
   "cell_type": "markdown",
   "metadata": {
    "slideshow": {
     "slide_type": "slide"
    }
   },
   "source": [
    "# What does clustering enable ?\n",
    "\n",
    "If a NN produced embeddings such that had the *desirable property* that\n",
    "- the distance between the embeddings of related examples\n",
    "- was *closer*\n",
    "- than the distance between the embeddings of unrelated examples\n",
    "\n",
    "what could we do ?"
   ]
  },
  {
   "cell_type": "markdown",
   "metadata": {
    "slideshow": {
     "slide_type": "slide"
    }
   },
   "source": [
    "## Zero-shot classification\n",
    "\n",
    "Given an example and a set of possible labels\n",
    "- using a pre-trained NN\n",
    "- embed the example\n",
    "- embed each of the labels\n",
    "\n",
    "The label whose embedding was closest to that of the example would hopefully be the\n",
    "correct label for the example.\n",
    "\n",
    "This is *zero shot*\n",
    "- since we are not fine-tuning\n",
    "- or changing the weights\n",
    "- of the pre-trained NN used to create the embeddings"
   ]
  },
  {
   "cell_type": "markdown",
   "metadata": {
    "slideshow": {
     "slide_type": "subslide"
    }
   },
   "source": [
    "A simple example: facial (or image) recognition\n",
    "- compare the embedding of an image\n",
    "- with the embeddings of the fixed number of images for each class (e.g., person)"
   ]
  },
  {
   "cell_type": "markdown",
   "metadata": {
    "slideshow": {
     "slide_type": "slide"
    }
   },
   "source": [
    "## Semantic search\n",
    "\n",
    "Want to create your own search engine ?\n",
    "- create embeddings (using a NN for NLP) for each document\n",
    "- create an embedding for your query\n",
    "\n",
    "The document whose embedding is closest to the query's embedding would hopefully be the correct result.\n",
    "\n",
    "**Note**\n",
    "\n",
    "This is the basis for *Vector Stores*\n",
    "- augmenting a LLM with your own data (e.g., GPT)"
   ]
  },
  {
   "cell_type": "markdown",
   "metadata": {
    "slideshow": {
     "slide_type": "slide"
    }
   },
   "source": [
    "# Creating embeddings for similarity\n",
    "\n",
    "The problem is that the hoped-for desirable property *may not be true* without specifically\n",
    "requiring that in training or fine-tuning.\n",
    "\n",
    "We can train a Neural Network to have this property by \n",
    "- creating a Loss function to express this objective\n"
   ]
  },
  {
   "cell_type": "markdown",
   "metadata": {
    "slideshow": {
     "slide_type": "subslide"
    }
   },
   "source": [
    "One such objective is the [Triplet Loss](https://arxiv.org/pdf/1503.03832.pdf)\n",
    "\n",
    "Consider an input $a$ (the \"anchor\")\n",
    "- with related input $p$ (\"positive\")\n",
    "- with unrelated input $n$ (\"negative\")\n",
    "\n",
    "Let \n",
    "- $s_a, s_p, s_n$ be the embedding produced by some layer, given input $a, p, n$\n",
    "- $|| s - s' ||$ be a measure of the distance (inverse of similarity, always non-negative) between two embeddings $s, s'$"
   ]
  },
  {
   "cell_type": "markdown",
   "metadata": {
    "slideshow": {
     "slide_type": "subslide"
    }
   },
   "source": [
    "The Triplet Loss objective is to *minimize*\n",
    "$$\n",
    "\\max{}( || s_a - s_p || - || s_a - s_n || + \\epsilon, 0)\n",
    "$$\n",
    "\n",
    "The loss is minimized when\n",
    "- $s_a$ is close to $s_p$\n",
    "- $s_a$ is far from $s_n$\n",
    "\n",
    "That is the embedding for anchor\n",
    "- $a$ is very similar to that for $p$\n",
    "- $a$ is very dissimilar to that for $n$"
   ]
  },
  {
   "cell_type": "markdown",
   "metadata": {
    "slideshow": {
     "slide_type": "subslide"
    }
   },
   "source": [
    "$\\epsilon$ is called the *margin*\n",
    "- how much farther the negative $n$ must be from anchor $a$ than positive $p$\n",
    "\n",
    "$$\n",
    "\\begin{array} \\\\\n",
    "\\text{If } & \\max{}( || s_a - s_p || - || s_a - s_n || + \\epsilon, 0) < 0 \\\\\n",
    "\\text{then} & || s_a - s_p || - || s_a - s_n || + \\epsilon < 0 \\\\\n",
    "\\text{re-arranging} & || s_a - s_p || < || s_a - s_n || - \\epsilon \\\\\n",
    "\\end{array}\n",
    "$$\n",
    "so $|| s_a - s_n ||$ must be at least $\\epsilon$ greater than $|| s_a - s_p ||$.\n",
    "\n",
    "This reduces the need for the optimizer to make $a$ and $p$ *exactly* coincide (so that $|| s_a - s_p || = 0$)"
   ]
  },
  {
   "cell_type": "markdown",
   "metadata": {
    "slideshow": {
     "slide_type": "subslide"
    }
   },
   "source": [
    "By training (or fine-tuning a pre-trained model) with the Triplet Loss\n",
    "- we enforce the \"hoped-for\" property by design"
   ]
  },
  {
   "cell_type": "markdown",
   "metadata": {
    "slideshow": {
     "slide_type": "slide"
    }
   },
   "source": [
    "# Example: Sentence Embeddings\n",
    "\n",
    "To illustrate, we show [Sentence BERT](https://arxiv.org/pdf/1908.10084.pdf)\n",
    "- fine-tunes the embeddings produced by BERT\n",
    "- in order to make related sentences close in embedding space\n",
    "\n"
   ]
  },
  {
   "cell_type": "markdown",
   "metadata": {
    "slideshow": {
     "slide_type": "subslide"
    }
   },
   "source": [
    "Sentence-BERT builds a network based on the embeddings produced by BERT.\n",
    "\n",
    "BERT is an Encoder style transformer.\n",
    "\n",
    "A Transformer Encoder creates a Context Sensitive embedding of each input position.\n",
    "\n",
    "By reducing the sequence (over positions) embeddings to a single embedding\n",
    "- we can obtain a fixed length encoding of a variable length sequence of tokens"
   ]
  },
  {
   "cell_type": "markdown",
   "metadata": {
    "slideshow": {
     "slide_type": "subslide"
    }
   },
   "source": [
    "**Aside**\n",
    "\n",
    "Historically, there are some common ways to perform the reduction of a sequence to a single value\n",
    "- pooling (average over the embeddings)\n",
    "- using a beginning/end \"special\" token (e.g., $\\langle \\text{CLS} \\rangle$ to capture the summary of the entire sequence\n",
    "\n"
   ]
  },
  {
   "cell_type": "markdown",
   "metadata": {
    "slideshow": {
     "slide_type": "subslide"
    }
   },
   "source": [
    "Here is the architecture\n",
    "\n",
    "<table>\n",
    "    <tr>\n",
    "        <th><center>Sentence BERT</th>\n",
    "    </tr>\n",
    "    <tr>\n",
    "        <td><img src=images/sentence_bert_diag.png></td>\n",
    "    </tr>\n",
    "   \n",
    "</table>\n",
    " <br>\n",
    "    Attribution: https://arxiv.org/pdf/1908.10084.pdf#page=3"
   ]
  },
  {
   "cell_type": "markdown",
   "metadata": {
    "slideshow": {
     "slide_type": "subslide"
    }
   },
   "source": [
    "The pre-trained BERT model is *shared* across two inputs: Sentence A and Sentence B\n",
    "- \"weights are tied\"\n",
    "- BERT's weights are fine-tuned via the Triplet Loss objective\n",
    "\n",
    "The sequence output of BERT is reduce by pooling (in this case)\n",
    "- Sentence A is embedded as $u$\n",
    "- Sentence B is embedded as $v$\n",
    "\n",
    "In the diagram on the right, the Triplet Objective\n",
    "- is recast as maximizing similarity (cosine distance)\n",
    "- rather than minimizing distance \n"
   ]
  },
  {
   "cell_type": "markdown",
   "metadata": {
    "slideshow": {
     "slide_type": "subslide"
    }
   },
   "source": [
    "**Aside**\n",
    "\n",
    "The diagram on the left is for producing embeddings for a specific task\n",
    "- entailment\n",
    "    - Does Sentence B logically follow from Sentence A\n",
    "- and hence is expressed as a Classification objective over labels $\\{ \\text{\"Entail\", \"Does not entail\"} \\}$\n",
    "\n",
    "The inputs to the classifier are the concatenation of\n",
    "- the embedding $u$ of Sentence A\n",
    "- the embedding $v$ of Sentence B\n",
    "- the difference in the embeddings\n",
    "\n",
    "(Presumably these three inputs facilitate Classsification)"
   ]
  },
  {
   "cell_type": "markdown",
   "metadata": {
    "slideshow": {
     "slide_type": "subslide"
    }
   },
   "source": [
    "The model is trained via batches that contain a mixture of\n",
    "- Positive examples: Sentence A and Sentence B *are related* (anchor $a$ and positive $p$)\n",
    "- Negative examples: Sentence A and Sentence B *are un-related* (anchor $a$ and positive $n$)\n",
    "\n",
    "Triplet loss is minimized (or Utility maximized) in each batch."
   ]
  },
  {
   "cell_type": "markdown",
   "metadata": {
    "slideshow": {
     "slide_type": "slide"
    }
   },
   "source": [
    "## Performance\n",
    "\n",
    "[Here](https://github.com/UKPLab/sentence-transformers/blob/master/docs/pretrained-models/sts-models.md#performance-comparison) is a comparison of Sentence BERT to other methods\n",
    "\n",
    "The Sentence Embedding (Universal Sentence Encoder) scores highest\n",
    "- outperforms Word Embeddings (the two GloVe entries)\n",
    "- it *greatly outperforms* the simple reduction methods used on plain BERT output\n",
    "    - pooling (BERT as a service avg embeddings)\n",
    "    - special `<CLS>` token (BERT as a service CLS vector)\n",
    "\n",
    "**Note**\n",
    "\n",
    "The \"sophisticated\" BERT, when using simple reduction methods\n",
    "- underperforms the \"old school\" word embeddings !\n"
   ]
  },
  {
   "cell_type": "code",
   "execution_count": 6,
   "metadata": {
    "slideshow": {
     "slide_type": "slide"
    }
   },
   "outputs": [
    {
     "name": "stdout",
     "output_type": "stream",
     "text": [
      "Done\n"
     ]
    }
   ],
   "source": [
    "print(\"Done\")"
   ]
  }
 ],
 "metadata": {
  "celltoolbar": "Slideshow",
  "kernelspec": {
   "display_name": "Python 3",
   "language": "python",
   "name": "python3"
  },
  "language_info": {
   "codemirror_mode": {
    "name": "ipython",
    "version": 3
   },
   "file_extension": ".py",
   "mimetype": "text/x-python",
   "name": "python",
   "nbconvert_exporter": "python",
   "pygments_lexer": "ipython3",
   "version": "3.7.4"
  },
  "toc": {
   "base_numbering": 1,
   "nav_menu": {},
   "number_sections": true,
   "sideBar": true,
   "skip_h1_title": false,
   "title_cell": "Table of Contents",
   "title_sidebar": "Contents",
   "toc_cell": false,
   "toc_position": {
    "height": "calc(100% - 180px)",
    "left": "10px",
    "top": "150px",
    "width": "370px"
   },
   "toc_section_display": true,
   "toc_window_display": true
  }
 },
 "nbformat": 4,
 "nbformat_minor": 2
}

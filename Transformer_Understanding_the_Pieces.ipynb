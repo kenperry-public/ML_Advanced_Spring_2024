{
 "cells": [
  {
   "cell_type": "code",
   "execution_count": 1,
   "metadata": {
    "slideshow": {
     "slide_type": "notes"
    }
   },
   "outputs": [
    {
     "data": {
      "text/latex": [
       "$$\n",
       "\\newcommand{\\x}{\\mathbf{x}}\n",
       "\\newcommand{\\tx}{\\tilde{\\x}}\n",
       "\\newcommand{\\y}{\\mathbf{y}}\n",
       "\\newcommand{\\b}{\\mathbf{b}}\n",
       "\\newcommand{\\c}{\\mathbf{c}}\n",
       "\\newcommand{\\e}{\\mathbf{e}}\n",
       "\\newcommand{\\z}{\\mathbf{z}}\n",
       "\\newcommand{\\h}{\\mathbf{h}}\n",
       "\\newcommand{\\u}{\\mathbf{u}}\n",
       "\\newcommand{\\v}{\\mathbf{v}}\n",
       "\\newcommand{\\w}{\\mathbf{w}}\n",
       "\\newcommand{\\V}{\\mathbf{V}}\n",
       "\\newcommand{\\W}{\\mathbf{W}}\n",
       "\\newcommand{\\X}{\\mathbf{X}}\n",
       "\\newcommand{\\KL}{\\mathbf{KL}}\n",
       "\\newcommand{\\E}{{\\mathbb{E}}}\n",
       "\\newcommand{\\Reals}{{\\mathbb{R}}}\n",
       "\\newcommand{\\ip}{\\mathbf{{(i)}}}\n",
       "%\n",
       "% Test set\n",
       "\\newcommand{\\xt}{\\underline{\\x}}\n",
       "\\newcommand{\\yt}{\\underline{\\y}}\n",
       "\\newcommand{\\Xt}{\\underline{\\X}}\n",
       "\\newcommand{\\perfm}{\\mathcal{P}}\n",
       "%\n",
       "% \\ll indexes a layer; we can change the actual letter\n",
       "\\newcommand{\\ll}{l}\n",
       "\\newcommand{\\llp}{{(\\ll)}}\n",
       "%\n",
       "\\newcommand{Thetam}{\\Theta_{-0}}\n",
       "\n",
       "% CNN\n",
       "\\newcommand{\\kernel}{\\mathbf{k}} \n",
       "\\newcommand{\\dim}{d}\n",
       "\\newcommand{\\idxspatial}{{\\text{idx}}}\n",
       "\\newcommand{\\summaxact}{\\text{max}}\n",
       "\\newcommand{idxb}{\\mathbf{i}}\n",
       "%\n",
       "%\n",
       "\n",
       "% RNN\n",
       "% \\tt indexes a time step\n",
       "\\newcommand{\\tt}{t}\n",
       "\\newcommand{\\tp}{{(\\tt)}}\n",
       "%\n",
       "%\n",
       "\n",
       "% LSTM\n",
       "\\newcommand{\\g}{\\mathbf{g}}\n",
       "\\newcommand{\\remember}{\\mathbf{remember}}\n",
       "\\newcommand{\\save}{\\mathbf{save}}\n",
       "\\newcommand{\\focus}{\\mathbf{focus}}\n",
       "%\n",
       "%\n",
       "% NLP\n",
       "\\newcommand{\\Vocab}{\\mathbf{V}}\n",
       "\\newcommand{\\v}{\\mathbf{v}}\n",
       "\\newcommand{\\offset}{o}\n",
       "\\newcommand{\\o}{o}\n",
       "\\newcommand{\\Emb}{\\mathbf{E}}\n",
       "%\n",
       "%\n",
       "\\newcommand{\\loss}{\\mathcal{L}}\n",
       "\\newcommand{\\cost}{\\mathcal{L}}\n",
       "%\n",
       "%                     \n",
       "\\newcommand{\\pdata}{p_\\text{data}}\n",
       "\\newcommand{\\pmodel}{p_\\text{model}}\n",
       "%\n",
       "% SVM\n",
       "\\newcommand{\\margin}{{\\mathbb{m}}}\n",
       "\\newcommand{\\lmk}{\\boldsymbol{\\ell}}\n",
       "%\n",
       "%\n",
       "% Functions with arguments\n",
       "\\def\\xsy#1#2{#1^#2}\n",
       "\\def\\rand#1{\\tilde{#1}}\n",
       "\\def\\randx{\\rand{\\x}}\n",
       "\\def\\randy{\\rand{\\y}}\n",
       "\\def\\trans#1{\\dot{#1}}\n",
       "\\def\\transx{\\trans{\\x}}\n",
       "\\def\\transy{\\trans{\\y}}\n",
       "%\n",
       "\\def\\argmax#1{\\underset{#1} {\\operatorname{argmax}} }\n",
       "\\def\\argmin#1{\\underset{#1} {\\operatorname{argmin}} }\n",
       "\\def\\max#1{\\underset{#1} {\\operatorname{max}} }\n",
       "\\def\\min#1{\\underset{#1} {\\operatorname{min}} }\n",
       "%\n",
       "\\def\\pr#1{\\mathcal{p}(#1)}\n",
       "\\def\\prc#1#2{\\mathcal{p}(#1 \\; | \\; #2)}\n",
       "\\def\\cnt#1{\\mathcal{count}_{#1}}\n",
       "\\def\\node#1{\\mathbb{#1}}\n",
       "%\n",
       "\\def\\loc#1{{\\text{##} {#1}}}\n",
       "%\n",
       "\\def\\OrderOf#1{\\mathcal{O}\\left( #1 \\right)}\n",
       "%\n",
       "% Expectation operator\n",
       "\\def\\Exp#1{\\underset{#1} {\\operatorname{\\mathbb{E}}} }\n",
       "%\n",
       "% VAE\n",
       "\\def\\prs#1#2{\\mathcal{p}_{#2}(#1)}\n",
       "\\def\\qr#1{\\mathcal{q}(#1)}\n",
       "\\def\\qrs#1#2{\\mathcal{q}_{#2}(#1)}\n",
       "%\n",
       "% Reinforcement learning\n",
       "\\newcommand{\\Actions}{{\\mathcal{A}}} \n",
       "\\newcommand{\\actseq}{A}\n",
       "\\newcommand{\\act}{a}\n",
       "\\newcommand{\\States}{{\\mathcal{S}}}   \n",
       "\\newcommand{\\stateseq}{S}  \n",
       "\\newcommand{\\state}{s}\n",
       "\\newcommand{\\Rewards}{{\\mathcal{R}}}\n",
       "\\newcommand{\\rewseq}{R}\n",
       "\\newcommand{\\rew}{r}\n",
       "\\newcommand{\\transp}{P}\n",
       "\\newcommand{\\statevalfun}{v}\n",
       "\\newcommand{\\actvalfun}{q}\n",
       "\\newcommand{\\disc}{\\gamma}\n",
       "%\n",
       "%\n",
       "\\newcommand{\\floor}[1]{\\left\\lfloor #1 \\right\\rfloor}\n",
       "\\newcommand{\\ceil}[1]{\\left\\lceil #1 \\right\\rceil}\n",
       "%\n",
       "%\n",
       "$$\n"
      ],
      "text/plain": [
       "<IPython.core.display.Latex object>"
      ]
     },
     "metadata": {},
     "output_type": "display_data"
    }
   ],
   "source": [
    "%run Latex_macros.ipynb"
   ]
  },
  {
   "cell_type": "markdown",
   "metadata": {
    "slideshow": {
     "slide_type": "slide"
    }
   },
   "source": [
    "# Transformer: Intuition\n",
    "\n",
    "We try to briefly explain what each the \"moving parts\" of the Transformer is doing.\n",
    "   \n",
    "<table>\n",
    "    <tr>\n",
    "        <th><center>Transformer (Encoder/Decoder)</center></th>\n",
    "    </tr>\n",
    "    <tr>\n",
    "        <td><img src=\"images/Attention_is_all_u_need_Transformer.png\" width=50%></td>\n",
    "    </tr>\n",
    "</table>\n",
    "\n"
   ]
  },
  {
   "cell_type": "markdown",
   "metadata": {
    "slideshow": {
     "slide_type": "slide"
    }
   },
   "source": [
    "# General\n",
    "\n",
    "Each of the paths in the Transformer is a vector of length $d_\\text{model}$\n",
    "- sometimes just referred to as $d$\n",
    "\n",
    "Having a common length simplifies the architecture\n",
    "- can stack Transformer blocks (since input and output are same size)\n",
    "- Self-Attention and Cross-Attention:\n",
    "    - map a query of size $d$ to an output of size $d$\n",
    "- Needed for the Residual Connection (Add and Norm)\n",
    "    - adding the input of Attention to the output of Attention\n",
    "        - need to be same length"
   ]
  },
  {
   "cell_type": "markdown",
   "metadata": {
    "slideshow": {
     "slide_type": "slide"
    }
   },
   "source": [
    "## Residual connections\n",
    "\n",
    "- [Residual connections from Intro course](RNN_Residual_Networks.ipynb)"
   ]
  },
  {
   "cell_type": "markdown",
   "metadata": {
    "slideshow": {
     "slide_type": "slide"
    }
   },
   "source": [
    "## Embedding\n",
    "\n",
    "Words (really: tokens) are *categorical* variables.\n",
    "\n",
    "Categorical variables are usually encoded as long vectors via One Hot Encoding (OHE)\n",
    "- very long: number of distinct elements in class\n",
    "    - e.g., number of words in vocabulary\n",
    "- *sparse*: only a single non-zero element in the vector\n",
    "- the similarity (e.g., dot product) of two related words (e.g., \"cat\", \"cats\") is zero !\n",
    "    - same as for two unrelated words (e.g., \"cat\", \"car\")"
   ]
  },
  {
   "cell_type": "markdown",
   "metadata": {
    "slideshow": {
     "slide_type": "subslide"
    }
   },
   "source": [
    "An *Embedding* is a a *short* and *dense* vector representation of words (tokens).\n",
    "\n",
    "In addition to being shorter (and dense: many non-zero elements possible) their construction results in\n",
    "- the similarity of embeddings for two related words being *non-zero*\n",
    "\n",
    "This makes Embeddings much more valuable for NLP."
   ]
  },
  {
   "cell_type": "markdown",
   "metadata": {
    "slideshow": {
     "slide_type": "subslide"
    }
   },
   "source": [
    "The *Embedding Layer* converts the OHE representation to an Embedding.\n",
    "\n",
    "See the [module from the Intro course](NLP_Embeddings.ipynb) for details."
   ]
  },
  {
   "cell_type": "markdown",
   "metadata": {
    "slideshow": {
     "slide_type": "slide"
    }
   },
   "source": [
    "## Positional Encoding\n",
    "\n",
    "The Transformer input is a *sequence*\n",
    "- there is a total ordering between elements based on absolute position\n",
    "\n",
    "The Transformer needs to be able to discern\n",
    "- at least: the *relative* ordering of two elements in different positions in the sequence"
   ]
  },
  {
   "cell_type": "markdown",
   "metadata": {
    "slideshow": {
     "slide_type": "subslide"
    }
   },
   "source": [
    "The *Positional Encoding* layer \n",
    "- adds a vector that encodes position\n",
    "- to the Embedding\n",
    "- such that the Transformer has a representation with both meaning and positions"
   ]
  },
  {
   "cell_type": "markdown",
   "metadata": {
    "slideshow": {
     "slide_type": "subslide"
    }
   },
   "source": [
    "This is much more involved than simply using an integer to encode the position.\n",
    "\n",
    "The fundamental operation of a Neural Network is matrix multiplication\n",
    "- the positional encoding needs to be preserved as it traverses the layers\n",
    "\n",
    "The details are not trivial.\n",
    "\n",
    "See the module on [Positional Embeddings](Transformer_PositionalEmbedding.ipynb) if you are interested."
   ]
  },
  {
   "cell_type": "markdown",
   "metadata": {
    "slideshow": {
     "slide_type": "slide"
    }
   },
   "source": [
    "# Encoder\n",
    "\n",
    "The Encoder style Transformer can either be used \n",
    "- stand-alone: create a fixed length, alternate length representation of the input\n",
    "    - for further processing: e.g., Classification\n",
    "- as part of an Encoder-Decoder architecture\n",
    "    - transform the Input sequence $\\x$ in a *processed sequence* $\\bar\\h_{(1)}, \\ldots, \\bar\\h_{(\\bar T)}$\n",
    "    - to be consumed by a Decoder"
   ]
  },
  {
   "cell_type": "markdown",
   "metadata": {
    "slideshow": {
     "slide_type": "slide"
    }
   },
   "source": [
    "## Encoder Self-Attention\n",
    "\n",
    "The Self-Attention allows each $\\bar\\h_{(\\bar \\tt)}$ to depend on the **complete** input sequence $\\x$.\n",
    "\n",
    "If we view $\\bar\\h_{(\\bar \\tt)}$ as the \"meaning\" of $\\x_\\tp$\n",
    "- it is a meaning based on the *full context*\n",
    "    - not just the preceding elements $\\x_{(1:\\tt-1)}$"
   ]
  },
  {
   "cell_type": "markdown",
   "metadata": {
    "slideshow": {
     "slide_type": "subslide"
    }
   },
   "source": [
    "By making the meaning dependent on the full context, we can disambiguate the meaning of the world \"it\"\n",
    "\n",
    "<table>\n",
    "    <tr>\n",
    "        <th><center>Attention weights</center></th>\n",
    "    </tr>\n",
    "    <tr>\n",
    "        <td><center>Thickness of the blue lines indicate the strength of attention to other tokens</center></td>\n",
    "    </tr>\n",
    "    <tr>\n",
    "        <td><img src=\"https://1.bp.blogspot.com/-AVGK0ApREtk/WaiAuzddKVI/AAAAAAAAB_A/WPV5ropBU-cxrcMpqJBFHg73K9NX4vywwCLcBGAs/s1600/image2.png\" width=80%></td>\n",
    "    </tr>\n",
    "    <tr>\n",
    "        <td><center>Picture from: https://1.bp.blogspot.com/-AVGK0ApREtk/WaiAuzddKVI/AAAAAAAAB_A/WPV5ropBU-cxrcMpqJBFHg73K9NX4vywwCLcBGAs/s1600/image2.png</center></td>\n",
    "    </tr>   \n",
    "</table>"
   ]
  },
  {
   "cell_type": "markdown",
   "metadata": {
    "slideshow": {
     "slide_type": "slide"
    }
   },
   "source": [
    "# Decoder\n",
    "\n",
    "The salient characteristic of a Decoder style Transformer is the *autoregressive* behavior\n",
    "- generates an output one token at a time\n",
    "- by appending each generated token to the sequence of already-generated tokens\n",
    "\n",
    "The Decoder style Transformer can either be used\n",
    "- stand-alone: for generative tasks \n",
    "- as part of an Encoder-Decoder architecture\n"
   ]
  },
  {
   "cell_type": "markdown",
   "metadata": {
    "slideshow": {
     "slide_type": "slide"
    }
   },
   "source": [
    "## Decoder Self-Attention\n",
    "\n",
    "The input needs to decide why of the previously-generated Decoder outputs (now Decoder inputs) to attend to.\n",
    "\n",
    "There are multiple potential uses for this\n",
    "- to help generate the \"next\" token (goal of the Decoder), by referencing the partially complete Decoder output\n",
    "- to help in the Cross Attention step\n",
    "    - decide which part of the Inputs $\\x$ (Decoder Outputs) to attend to\n",
    "    - \"looking up\" facts, e.g., our Question Answering example or Language Translation example\n",
    "    \n",
    "Note the use of Causal Masking\n",
    "- we can only reference the Decoder output already generated"
   ]
  },
  {
   "cell_type": "markdown",
   "metadata": {
    "slideshow": {
     "slide_type": "slide"
    }
   },
   "source": [
    "## Decoder-Encoder Cross-Attention\n",
    "\n",
    "The output of the Decoder Self-Attention is used as a \"query\"\n",
    "- to reference the relevant part of the Input $\\x$"
   ]
  },
  {
   "cell_type": "markdown",
   "metadata": {
    "slideshow": {
     "slide_type": "slide"
    }
   },
   "source": [
    "# Feed Forward Network (FFN)\n",
    "\n",
    "Maps the output of the Decoder-Encoder Attention into the \"next output token\".\n",
    "- actually: it is still an embedding of the next token, rather than the true next token\n",
    "    - that way: it can be appended to the already-generated output to become the Decoder input for next position\n",
    "    "
   ]
  },
  {
   "cell_type": "markdown",
   "metadata": {
    "slideshow": {
     "slide_type": "slide"
    }
   },
   "source": [
    "This acts as a Classifier\n",
    "- mapping the input\n",
    "- to a vector of logits\n",
    "    - one element per possible element of the Output Vocabulary\n",
    "    \n",
    "There is some evidence that\n",
    "- the parameters of the FFN are where \"world knowledge\" is stored\n",
    "    - every \"fact\" learned during training"
   ]
  },
  {
   "cell_type": "markdown",
   "metadata": {
    "slideshow": {
     "slide_type": "slide"
    }
   },
   "source": [
    "# Linear \n",
    "\n",
    "This layer is append *only* to the final block in the stacked Transformer blocks.\n",
    "\n",
    "It acts as a typical Classifier\n",
    "- \"classifies\" the final block's output of length $d$\n",
    "- returning a vector\n",
    "    - whose length is equal to number of elements of the Vocabulary\n",
    "    - each element is a logit\n",
    "        - to be converted into probability distribution over elements of the Vocabulary\n"
   ]
  },
  {
   "cell_type": "markdown",
   "metadata": {
    "slideshow": {
     "slide_type": "slide"
    }
   },
   "source": [
    "# Softmax\n",
    "\n",
    "Converts the logit for each possible element of the Vocabulary\n",
    "- into  Probability that the element is the next Decoder Output"
   ]
  },
  {
   "cell_type": "code",
   "execution_count": 2,
   "metadata": {
    "slideshow": {
     "slide_type": "slide"
    }
   },
   "outputs": [
    {
     "name": "stdout",
     "output_type": "stream",
     "text": [
      "Done\n"
     ]
    }
   ],
   "source": [
    "print(\"Done\")"
   ]
  }
 ],
 "metadata": {
  "celltoolbar": "Slideshow",
  "kernelspec": {
   "display_name": "Python 3",
   "language": "python",
   "name": "python3"
  },
  "language_info": {
   "codemirror_mode": {
    "name": "ipython",
    "version": 3
   },
   "file_extension": ".py",
   "mimetype": "text/x-python",
   "name": "python",
   "nbconvert_exporter": "python",
   "pygments_lexer": "ipython3",
   "version": "3.7.4"
  },
  "toc": {
   "base_numbering": 1,
   "nav_menu": {},
   "number_sections": true,
   "sideBar": true,
   "skip_h1_title": false,
   "title_cell": "Table of Contents",
   "title_sidebar": "Contents",
   "toc_cell": false,
   "toc_position": {},
   "toc_section_display": true,
   "toc_window_display": true
  }
 },
 "nbformat": 4,
 "nbformat_minor": 2
}

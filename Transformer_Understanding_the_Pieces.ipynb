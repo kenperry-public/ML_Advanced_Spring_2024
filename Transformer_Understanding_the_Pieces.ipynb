{
 "cells": [
  {
   "cell_type": "code",
   "execution_count": 1,
   "metadata": {
    "slideshow": {
     "slide_type": "notes"
    }
   },
   "outputs": [
    {
     "data": {
      "text/latex": [
       "$$\n",
       "\\newcommand{\\x}{\\mathbf{x}}\n",
       "\\newcommand{\\tx}{\\tilde{\\x}}\n",
       "\\newcommand{\\y}{\\mathbf{y}}\n",
       "\\newcommand{\\b}{\\mathbf{b}}\n",
       "\\newcommand{\\c}{\\mathbf{c}}\n",
       "\\newcommand{\\e}{\\mathbf{e}}\n",
       "\\newcommand{\\z}{\\mathbf{z}}\n",
       "\\newcommand{\\h}{\\mathbf{h}}\n",
       "\\newcommand{\\u}{\\mathbf{u}}\n",
       "\\newcommand{\\v}{\\mathbf{v}}\n",
       "\\newcommand{\\w}{\\mathbf{w}}\n",
       "\\newcommand{\\V}{\\mathbf{V}}\n",
       "\\newcommand{\\W}{\\mathbf{W}}\n",
       "\\newcommand{\\X}{\\mathbf{X}}\n",
       "\\newcommand{\\KL}{\\mathbf{KL}}\n",
       "\\newcommand{\\E}{{\\mathbb{E}}}\n",
       "\\newcommand{\\Reals}{{\\mathbb{R}}}\n",
       "\\newcommand{\\ip}{\\mathbf{{(i)}}}\n",
       "%\n",
       "% Test set\n",
       "\\newcommand{\\xt}{\\underline{\\x}}\n",
       "\\newcommand{\\yt}{\\underline{\\y}}\n",
       "\\newcommand{\\Xt}{\\underline{\\X}}\n",
       "\\newcommand{\\perfm}{\\mathcal{P}}\n",
       "%\n",
       "% \\ll indexes a layer; we can change the actual letter\n",
       "\\newcommand{\\ll}{l}\n",
       "\\newcommand{\\llp}{{(\\ll)}}\n",
       "%\n",
       "\\newcommand{Thetam}{\\Theta_{-0}}\n",
       "\n",
       "% CNN\n",
       "\\newcommand{\\kernel}{\\mathbf{k}} \n",
       "\\newcommand{\\dim}{d}\n",
       "\\newcommand{\\idxspatial}{{\\text{idx}}}\n",
       "\\newcommand{\\summaxact}{\\text{max}}\n",
       "\\newcommand{idxb}{\\mathbf{i}}\n",
       "%\n",
       "%\n",
       "\n",
       "% RNN\n",
       "% \\tt indexes a time step\n",
       "\\newcommand{\\tt}{t}\n",
       "\\newcommand{\\tp}{{(\\tt)}}\n",
       "%\n",
       "%\n",
       "\n",
       "% LSTM\n",
       "\\newcommand{\\g}{\\mathbf{g}}\n",
       "\\newcommand{\\remember}{\\mathbf{remember}}\n",
       "\\newcommand{\\save}{\\mathbf{save}}\n",
       "\\newcommand{\\focus}{\\mathbf{focus}}\n",
       "%\n",
       "%\n",
       "% NLP\n",
       "\\newcommand{\\Vocab}{\\mathbf{V}}\n",
       "\\newcommand{\\v}{\\mathbf{v}}\n",
       "\\newcommand{\\offset}{o}\n",
       "\\newcommand{\\o}{o}\n",
       "\\newcommand{\\Emb}{\\mathbf{E}}\n",
       "%\n",
       "%\n",
       "\\newcommand{\\loss}{\\mathcal{L}}\n",
       "\\newcommand{\\cost}{\\mathcal{L}}\n",
       "%\n",
       "%                     \n",
       "\\newcommand{\\pdata}{p_\\text{data}}\n",
       "\\newcommand{\\pmodel}{p_\\text{model}}\n",
       "%\n",
       "% SVM\n",
       "\\newcommand{\\margin}{{\\mathbb{m}}}\n",
       "\\newcommand{\\lmk}{\\boldsymbol{\\ell}}\n",
       "%\n",
       "%\n",
       "% Functions with arguments\n",
       "\\def\\xsy#1#2{#1^#2}\n",
       "\\def\\rand#1{\\tilde{#1}}\n",
       "\\def\\randx{\\rand{\\x}}\n",
       "\\def\\randy{\\rand{\\y}}\n",
       "\\def\\trans#1{\\dot{#1}}\n",
       "\\def\\transx{\\trans{\\x}}\n",
       "\\def\\transy{\\trans{\\y}}\n",
       "%\n",
       "\\def\\argmax#1{\\underset{#1} {\\operatorname{argmax}} }\n",
       "\\def\\argmin#1{\\underset{#1} {\\operatorname{argmin}} }\n",
       "\\def\\max#1{\\underset{#1} {\\operatorname{max}} }\n",
       "\\def\\min#1{\\underset{#1} {\\operatorname{min}} }\n",
       "%\n",
       "\\def\\pr#1{\\mathcal{p}(#1)}\n",
       "\\def\\prc#1#2{\\mathcal{p}(#1 \\; | \\; #2)}\n",
       "\\def\\cnt#1{\\mathcal{count}_{#1}}\n",
       "\\def\\node#1{\\mathbb{#1}}\n",
       "%\n",
       "\\def\\loc#1{{\\text{##} {#1}}}\n",
       "%\n",
       "\\def\\OrderOf#1{\\mathcal{O}\\left( {#1} \\right)}\n",
       "%\n",
       "% Expectation operator\n",
       "\\def\\Exp#1{\\underset{#1} {\\operatorname{\\mathbb{E}}} }\n",
       "%\n",
       "% VAE\n",
       "\\def\\prs#1#2{\\mathcal{p}_{#2}(#1)}\n",
       "\\def\\qr#1{\\mathcal{q}(#1)}\n",
       "\\def\\qrs#1#2{\\mathcal{q}_{#2}(#1)}\n",
       "%\n",
       "% Reinforcement learning\n",
       "\\newcommand{\\Actions}{{\\mathcal{A}}} \n",
       "\\newcommand{\\actseq}{A}\n",
       "\\newcommand{\\act}{a}\n",
       "\\newcommand{\\States}{{\\mathcal{S}}}   \n",
       "\\newcommand{\\stateseq}{S}  \n",
       "\\newcommand{\\state}{s}\n",
       "\\newcommand{\\Rewards}{{\\mathcal{R}}}\n",
       "\\newcommand{\\rewseq}{R}\n",
       "\\newcommand{\\rew}{r}\n",
       "\\newcommand{\\transp}{P}\n",
       "\\newcommand{\\statevalfun}{v}\n",
       "\\newcommand{\\actvalfun}{q}\n",
       "\\newcommand{\\disc}{\\gamma}\n",
       "%\n",
       "%\n",
       "\\newcommand{\\floor}[1]{\\left\\lfloor #1 \\right\\rfloor}\n",
       "\\newcommand{\\ceil}[1]{\\left\\lceil #1 \\right\\rceil}\n",
       "%\n",
       "%\n",
       "$$\n"
      ],
      "text/plain": [
       "<IPython.core.display.Latex object>"
      ]
     },
     "metadata": {},
     "output_type": "display_data"
    }
   ],
   "source": [
    "%run Latex_macros.ipynb"
   ]
  },
  {
   "cell_type": "markdown",
   "metadata": {
    "slideshow": {
     "slide_type": "slide"
    }
   },
   "source": [
    "# Transformer: Intuition\n",
    "\n",
    "We try to briefly explain what each the \"moving parts\" of the Encoder-Decoder style Transformer is doing.\n",
    "\n",
    "At the highest level: we have the Encoder and the Decoder."
   ]
  },
  {
   "cell_type": "markdown",
   "metadata": {
    "slideshow": {
     "slide_type": "subslide"
    }
   },
   "source": [
    "In the Encoder-Decoder architecture\n",
    "- the Encoder completes before the Decoder starts\n",
    "\n",
    "## Encoder\n",
    "\n",
    "The role of the Encoder is\n",
    "- to create a Context Sensitive Representation\n",
    "$$\n",
    "\\bar\\h_{(1:\\bar T)}\n",
    "$$\n",
    "- of each of the Encoder's input tokens\n",
    "$$\n",
    "\\x_{(1:\\bar T)}\n",
    "$$"
   ]
  },
  {
   "cell_type": "markdown",
   "metadata": {
    "slideshow": {
     "slide_type": "subslide"
    }
   },
   "source": [
    "It accomplishes this by the *direct function* approach\n",
    "- unlike an RNN, it does not process each input token $\\x_\\tp$ sequentially\n",
    "- it computes $\\bar\\h_\\tp$ as a function of the entire input $\\x_{(1:\\bar T)}$\n",
    "\n",
    "Encoder Self-Attention is used in the direct function.\n",
    "\n",
    "<br>\n",
    "<table>\n",
    "    <tr>\n",
    "        <td>\n",
    "      `  <center><strong>Latent state approach</strong></center>\n",
    "        </td>\n",
    "        <td>\n",
    "      `  <center><strong>Direct function approach</strong></center>\n",
    "        </td>\n",
    "    </tr>\n",
    "    <tr>\n",
    "        <td>\n",
    "             <img src=\"images/RNN_arch_loop.png\" width=100%>\n",
    "        </td>\n",
    "        <td>\n",
    "             <img src=\"images/RNN_arch_parallel.png\" width=100%>\n",
    "        </td>\n",
    "    </tr>\n",
    "</table>"
   ]
  },
  {
   "cell_type": "markdown",
   "metadata": {
    "slideshow": {
     "slide_type": "subslide"
    }
   },
   "source": [
    "By making the meaning dependent on the full context, we can disambiguate the meaning of the world \"it\"\n",
    "\n",
    "<table>\n",
    "    <tr>\n",
    "        <th><center>Attention weights</center></th>\n",
    "    </tr>\n",
    "    <tr>\n",
    "        <td><center>Thickness of the blue lines indicate the strength of attention to other tokens</center></td>\n",
    "    </tr>\n",
    "    <tr>\n",
    "        <td><img src=\"https://1.bp.blogspot.com/-AVGK0ApREtk/WaiAuzddKVI/AAAAAAAAB_A/WPV5ropBU-cxrcMpqJBFHg73K9NX4vywwCLcBGAs/s1600/image2.png\" width=80%></td>\n",
    "    </tr>\n",
    "    <tr>\n",
    "        <td><center>Picture from: https://1.bp.blogspot.com/-AVGK0ApREtk/WaiAuzddKVI/AAAAAAAAB_A/WPV5ropBU-cxrcMpqJBFHg73K9NX4vywwCLcBGAs/s1600/image2.png</center></td>\n",
    "    </tr>   \n",
    "</table>"
   ]
  },
  {
   "cell_type": "markdown",
   "metadata": {
    "slideshow": {
     "slide_type": "slide"
    }
   },
   "source": [
    "## Decoder\n",
    "\n",
    "The Decoder works in *auto-regressive* mode\n",
    "- predicts one output token at a time\n",
    "- the current output $\\hat\\y_\\tp$ token is appended to the input for the next position\n",
    "    - so the input at time step $\\tt$ is $$\\hat\\y_{(1 \\ldots \\tt-1)}$$\n",
    " "
   ]
  },
  {
   "cell_type": "markdown",
   "metadata": {
    "slideshow": {
     "slide_type": "subslide"
    }
   },
   "source": [
    "<table>\n",
    "    <tr>\n",
    "      `  <center><strong>Encoder/Decoder transformer<br>Decoder: Cross-Attention, Auto-regressive mode</strong></center\n",
    "    </tr>\n",
    "    <tr>\n",
    "        <img src=\"images/Transformer_Encoder_Decoder_2.png\" width=70%>\n",
    "    </tr>\n",
    "</table>"
   ]
  },
  {
   "cell_type": "markdown",
   "metadata": {
    "slideshow": {
     "slide_type": "subslide"
    }
   },
   "source": [
    "It has two inputs at step $\\tt$\n",
    "- the previously-generated output tokens $\\tt$ is $$\\hat\\y_{(1 \\ldots \\tt-1)}$$\n",
    "- the Encoder output $$\\bar\\h_{(1:\\bar T)}$$\n",
    "\n",
    "Self-attention is used on $\\hat\\y_{(1 \\ldots \\tt-1)}$\n",
    "\n",
    "Cross-Attention is used on $\\bar\\h_{(1:\\bar T)}$"
   ]
  },
  {
   "cell_type": "markdown",
   "metadata": {
    "slideshow": {
     "slide_type": "subslide"
    }
   },
   "source": [
    "At step $\\tt$, the Decoder\n",
    "- uses Self-Attention on $\\hat\\y_{(1 \\ldots \\tt-1)}$\n",
    "- to create a *query*\n",
    "- that is used to attend to $\\bar\\h_{(1:\\bar T)}$"
   ]
  },
  {
   "cell_type": "markdown",
   "metadata": {
    "slideshow": {
     "slide_type": "subslide"
    }
   },
   "source": [
    "We can think of this use of Self-Attention \n",
    "- as being a replacement for the \"latent\" state of an RNN\n",
    "    - rather than using the latent state to record\n",
    "        - what has already been done\n",
    "        - what is the next step to perform\n",
    "    - Self-Attention allows direct access to what has already been done: $\\hat\\y_{(1 \\ldots \\tt-1)}$\n",
    "   "
   ]
  },
  {
   "cell_type": "markdown",
   "metadata": {
    "slideshow": {
     "slide_type": "subslide"
    }
   },
   "source": [
    "The query is used in Cross-Attention\n",
    "- to attend to the Context Sensitive Representation of the input sequence $\\x$\n",
    "\n",
    "Whatever is returned by Cross-Attention\n",
    "- is input into the Feed Forward Network (FFN)\n",
    "\n",
    "Think of the FFN\n",
    "- as a repository of \"world knowledge\" accumulated by processing the training data\n",
    "- \"facts\""
   ]
  },
  {
   "cell_type": "markdown",
   "metadata": {
    "slideshow": {
     "slide_type": "subslide"
    }
   },
   "source": [
    "The FFN produces an output\n",
    "- which is processed by a Classifier (Linear layer)\n",
    "- to produce a token in the vocabulary of tokens\n",
    "\n",
    "That is\n",
    "- if the vocabulary has $| V |$ tokens\n",
    "- the Classifier produces a probability distribution vector $\\mathbf{p}$ of length $| V |$)\n",
    "    - such that $\\mathbf{p}_j$ is the probability that the output token should be $V_j$"
   ]
  },
  {
   "cell_type": "markdown",
   "metadata": {
    "slideshow": {
     "slide_type": "subslide"
    }
   },
   "source": [
    "The exact mechanics of this multi-step process\n",
    "- are controlled by the weights\n",
    "- that are learned during training"
   ]
  },
  {
   "cell_type": "markdown",
   "metadata": {
    "slideshow": {
     "slide_type": "slide"
    }
   },
   "source": [
    "# General\n",
    "\n",
    "Here is the detailed architecture of the Encoder-Decoder Transformer.\n",
    "\n",
    "We will review each of the pieces.\n",
    "\n",
    "<table>\n",
    "    <tr>\n",
    "        <th><center>Transformer (Encoder/Decoder)</center></th>\n",
    "    </tr>\n",
    "    <tr>\n",
    "        <td><img src=\"images/Attention_is_all_u_need_Transformer.png\" width=50%></td>\n",
    "    </tr>\n",
    "</table>"
   ]
  },
  {
   "cell_type": "markdown",
   "metadata": {
    "slideshow": {
     "slide_type": "subslide"
    }
   },
   "source": [
    "Each of the paths in the Transformer is a vector of length $d_\\text{model}$\n",
    "- sometimes just referred to as $d$\n",
    "\n",
    "Having a common length simplifies the architecture\n",
    "- can stack Transformer blocks (since input and output are same size)\n",
    "- Self-Attention and Cross-Attention:\n",
    "    - map a query of size $d$ to an output of size $d$\n",
    "- Needed for the Residual Connection (Add and Norm)\n",
    "    - adding the input of Attention to the output of Attention\n",
    "        - need to be same length"
   ]
  },
  {
   "cell_type": "markdown",
   "metadata": {
    "slideshow": {
     "slide_type": "slide"
    }
   },
   "source": [
    "## Residual connections\n",
    "\n",
    "- [Residual connections from Intro course](RNN_Residual_Networks.ipynb)\n",
    "\n",
    "<table>\n",
    "    <tr>\n",
    "        <th><center><strong>Network, no Skip Connection</strong></center></th>\n",
    "    </tr>\n",
    "    <tr>\n",
    "        <td><img src=\"images/Residual_Net_1.png\"></td>\n",
    "    </tr>\n",
    "    <tr>\n",
    "        <th><center><strong>Residual Network with Skip Connection</strong></center></th>\n",
    "    </tr>\n",
    "    <tr>\n",
    "        <td><img src=\"images/Residual_Net_2.png\"></td>\n",
    "    </tr>\n",
    "\n",
    "</table>"
   ]
  },
  {
   "cell_type": "markdown",
   "metadata": {},
   "source": [
    "Suppose we wanted the two networks to compute the same mapping from input $\\y_{(\\ll-1)} $ to output\n",
    "$$\\y_{(\\ll +1)} = \\y_\\llp$$\n",
    "Then\n",
    "$$\n",
    "\\begin{array}[lll]\\\\\n",
    "\\y_{(\\ll +1)} & = & \\y_{(\\ll')} + \\y_{(\\ll-1)} & \\text{definition of } \\y_{(\\ll+1)} \\text{ in last layer of residual network}\\\\\n",
    "\\y_\\llp & = & \\y_{(\\ll')} + \\y_{(\\ll-1)} & \\text{requiring equality of outputs of the two networks } \\y_{(\\ll +1)} = \\y_\\llp\\\\\n",
    "\\y_{(\\ll')} & = & \\y_\\llp - \\y_{(\\ll-1)} & \\text{re-arranging terms} \\\\\n",
    "\\\n",
    "\\end{array}\n",
    "$$\n",
    "\n",
    "The intermediate layer $\\ll'$ we introduced in the Residual network computes\n",
    "- the *residual*: of the original networks layer $\\ll$ output wrt to its' input: $(\\ll-1)$ output "
   ]
  },
  {
   "cell_type": "markdown",
   "metadata": {
    "slideshow": {
     "slide_type": "slide"
    }
   },
   "source": [
    "## Embedding\n",
    "\n",
    "Words (really: tokens) are *categorical* variables.\n",
    "\n",
    "Categorical variables are usually encoded as long vectors via One Hot Encoding (OHE)\n",
    "- very long: number of distinct elements in class\n",
    "    - e.g., number of words in vocabulary\n",
    "- *sparse*: only a single non-zero element in the vector"
   ]
  },
  {
   "cell_type": "markdown",
   "metadata": {
    "slideshow": {
     "slide_type": "subslide"
    }
   },
   "source": [
    "Biggest issue with OHE:\n",
    "- the similarity (e.g., dot product) of two related words (e.g., \"cat\", \"cats\") is zero !\n",
    "    - same as for two unrelated words (e.g., \"cat\", \"car\")\n",
    "    \n",
    "| word   | rep(word) | Similarity to \"dog\"|\n",
    "| ---    | ---       | :---:        |\n",
    "| dog   | [1,0,0,0]   | rep(word) $\\cdot$ rep(dog)  = 1  |\n",
    "| dogs  | [0,1,0,0]   | rep(word) $\\cdot$ rep(dog)  = 0  |\n",
    "| cat   | [0,0,1,0]   | rep(word) $\\cdot$ rep(dog)  = 0  |\n",
    "| apple | [0,0,0,1]   | rep(word) $\\cdot$ rep(dog)  = 0  |"
   ]
  },
  {
   "cell_type": "markdown",
   "metadata": {
    "slideshow": {
     "slide_type": "subslide"
    }
   },
   "source": [
    "An *Embedding* is a a *short* and *dense* vector representation of words (tokens).\n",
    "\n",
    "In addition to being shorter (and dense: many non-zero elements possible) their construction results in\n",
    "- the similarity of embeddings for two related words being *non-zero*\n",
    "\n",
    "This makes Embeddings much more valuable for NLP.\n",
    "\n",
    "\n",
    "| $w$   | $\\v_w$ |\n",
    "| ---    | ---       | \n",
    "| cat   | [.7, .5, .01 ]   \n",
    "| cats   | [.7, .5, .95 ]  \n",
    "| dog   | [.7, .2, .01 ]   \n",
    "| dogs   | [.7, .2, .95 ]\n",
    "| apple   | [.1, .4, .01 ]   \n",
    "| apples   | [.1, .4, .95 ]\n"
   ]
  },
  {
   "cell_type": "markdown",
   "metadata": {
    "slideshow": {
     "slide_type": "subslide"
    }
   },
   "source": [
    "The *Embedding Layer* converts the OHE representation to an Embedding.\n",
    "\n",
    "See the [module from the Intro course](NLP_Embeddings.ipynb) for details."
   ]
  },
  {
   "cell_type": "markdown",
   "metadata": {
    "slideshow": {
     "slide_type": "slide"
    }
   },
   "source": [
    "## Positional Encoding\n",
    "\n",
    "The Transformer input is a *sequence*\n",
    "- there is a total ordering between elements based on absolute position\n",
    "\n",
    "The Transformer needs to be able to discern\n",
    "- at least: the *relative* ordering of two elements in different positions in the sequence"
   ]
  },
  {
   "cell_type": "markdown",
   "metadata": {
    "slideshow": {
     "slide_type": "subslide"
    }
   },
   "source": [
    "The *Positional Encoding* layer \n",
    "- adds a vector that encodes position\n",
    "- to the Embedding\n",
    "- such that the Transformer has a representation with both meaning and positions"
   ]
  },
  {
   "cell_type": "markdown",
   "metadata": {
    "slideshow": {
     "slide_type": "subslide"
    }
   },
   "source": [
    "This is much more involved than simply using an integer to encode the position.\n",
    "\n",
    "The fundamental operation of a Neural Network is matrix multiplication\n",
    "- the positional encoding needs to be preserved as it traverses the layers\n",
    "\n",
    "The details are not trivial.\n",
    "\n",
    "See the module on [Positional Embeddings](Transformer_PositionalEmbedding.ipynb) if you are interested."
   ]
  },
  {
   "cell_type": "markdown",
   "metadata": {
    "slideshow": {
     "slide_type": "slide"
    }
   },
   "source": [
    "## Feed Forward Network (FFN)\n",
    "\n",
    "Maps the output of the Decoder-Encoder Attention into the \"next output token\".\n",
    "- actually: it is still an embedding of the next token, rather than the true next token\n",
    "    - that way: it can be appended to the already-generated output to become the Decoder input for next position\n",
    "    "
   ]
  },
  {
   "cell_type": "markdown",
   "metadata": {
    "slideshow": {
     "slide_type": "slide"
    }
   },
   "source": [
    "This acts as a Classifier\n",
    "- mapping the input\n",
    "- to a vector of logits\n",
    "    - one element per possible element of the Output Vocabulary\n",
    "    \n",
    "There is some evidence that\n",
    "- the parameters of the FFN are where \"world knowledge\" is stored\n",
    "    - every \"fact\" learned during training"
   ]
  },
  {
   "cell_type": "markdown",
   "metadata": {
    "slideshow": {
     "slide_type": "slide"
    }
   },
   "source": [
    "## Linear \n",
    "\n",
    "This layer is append *only* to the final block in the stacked Transformer blocks.\n",
    "\n",
    "It acts as a typical Classifier\n",
    "- \"classifies\" the final block's output of length $d$\n",
    "- returning a vector\n",
    "    - whose length is equal to number of elements of the Vocabulary\n",
    "    - each element is a logit\n",
    "        - to be converted into probability distribution over elements of the Vocabulary\n"
   ]
  },
  {
   "cell_type": "markdown",
   "metadata": {
    "slideshow": {
     "slide_type": "slide"
    }
   },
   "source": [
    "## Softmax\n",
    "\n",
    "Converts the logit for each possible element of the Vocabulary\n",
    "- into  Probability that the element is the next Decoder Output"
   ]
  },
  {
   "cell_type": "code",
   "execution_count": 2,
   "metadata": {
    "slideshow": {
     "slide_type": "slide"
    }
   },
   "outputs": [
    {
     "name": "stdout",
     "output_type": "stream",
     "text": [
      "Done\n"
     ]
    }
   ],
   "source": [
    "print(\"Done\")"
   ]
  }
 ],
 "metadata": {
  "celltoolbar": "Slideshow",
  "kernelspec": {
   "display_name": "Python 3",
   "language": "python",
   "name": "python3"
  },
  "language_info": {
   "codemirror_mode": {
    "name": "ipython",
    "version": 3
   },
   "file_extension": ".py",
   "mimetype": "text/x-python",
   "name": "python",
   "nbconvert_exporter": "python",
   "pygments_lexer": "ipython3",
   "version": "3.7.4"
  },
  "toc": {
   "base_numbering": 1,
   "nav_menu": {},
   "number_sections": true,
   "sideBar": true,
   "skip_h1_title": false,
   "title_cell": "Table of Contents",
   "title_sidebar": "Contents",
   "toc_cell": false,
   "toc_position": {
    "height": "calc(100% - 180px)",
    "left": "10px",
    "top": "150px",
    "width": "370px"
   },
   "toc_section_display": true,
   "toc_window_display": true
  }
 },
 "nbformat": 4,
 "nbformat_minor": 2
}

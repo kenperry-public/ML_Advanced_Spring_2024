{
 "cells": [
  {
   "cell_type": "code",
   "execution_count": 1,
   "metadata": {
    "slideshow": {
     "slide_type": "notes"
    }
   },
   "outputs": [
    {
     "data": {
      "text/latex": [
       "$$\n",
       "\\newcommand{\\x}{\\mathbf{x}}\n",
       "\\newcommand{\\tx}{\\tilde{\\x}}\n",
       "\\newcommand{\\y}{\\mathbf{y}}\n",
       "\\newcommand{\\b}{\\mathbf{b}}\n",
       "\\newcommand{\\c}{\\mathbf{c}}\n",
       "\\newcommand{\\e}{\\mathbf{e}}\n",
       "\\newcommand{\\z}{\\mathbf{z}}\n",
       "\\newcommand{\\h}{\\mathbf{h}}\n",
       "\\newcommand{\\u}{\\mathbf{u}}\n",
       "\\newcommand{\\v}{\\mathbf{v}}\n",
       "\\newcommand{\\w}{\\mathbf{w}}\n",
       "\\newcommand{\\V}{\\mathbf{V}}\n",
       "\\newcommand{\\W}{\\mathbf{W}}\n",
       "\\newcommand{\\X}{\\mathbf{X}}\n",
       "\\newcommand{\\KL}{\\mathbf{KL}}\n",
       "\\newcommand{\\E}{{\\mathbb{E}}}\n",
       "\\newcommand{\\Reals}{{\\mathbb{R}}}\n",
       "\\newcommand{\\ip}{\\mathbf{{(i)}}}\n",
       "%\n",
       "% Test set\n",
       "\\newcommand{\\xt}{\\underline{\\x}}\n",
       "\\newcommand{\\yt}{\\underline{\\y}}\n",
       "\\newcommand{\\Xt}{\\underline{\\X}}\n",
       "\\newcommand{\\perfm}{\\mathcal{P}}\n",
       "%\n",
       "% \\ll indexes a layer; we can change the actual letter\n",
       "\\newcommand{\\ll}{l}\n",
       "\\newcommand{\\llp}{{(\\ll)}}\n",
       "%\n",
       "\\newcommand{Thetam}{\\Theta_{-0}}\n",
       "\n",
       "% CNN\n",
       "\\newcommand{\\kernel}{\\mathbf{k}} \n",
       "\\newcommand{\\dim}{d}\n",
       "\\newcommand{\\idxspatial}{{\\text{idx}}}\n",
       "\\newcommand{\\summaxact}{\\text{max}}\n",
       "\\newcommand{idxb}{\\mathbf{i}}\n",
       "%\n",
       "%\n",
       "\n",
       "% RNN\n",
       "% \\tt indexes a time step\n",
       "\\newcommand{\\tt}{t}\n",
       "\\newcommand{\\tp}{{(\\tt)}}\n",
       "%\n",
       "%\n",
       "\n",
       "% LSTM\n",
       "\\newcommand{\\g}{\\mathbf{g}}\n",
       "\\newcommand{\\remember}{\\mathbf{remember}}\n",
       "\\newcommand{\\save}{\\mathbf{save}}\n",
       "\\newcommand{\\focus}{\\mathbf{focus}}\n",
       "%\n",
       "%\n",
       "% NLP\n",
       "\\newcommand{\\Vocab}{\\mathbf{V}}\n",
       "\\newcommand{\\v}{\\mathbf{v}}\n",
       "\\newcommand{\\offset}{o}\n",
       "\\newcommand{\\o}{o}\n",
       "\\newcommand{\\Emb}{\\mathbf{E}}\n",
       "%\n",
       "%\n",
       "\\newcommand{\\loss}{\\mathcal{L}}\n",
       "\\newcommand{\\cost}{\\mathcal{L}}\n",
       "%\n",
       "%                     \n",
       "\\newcommand{\\pdata}{p_\\text{data}}\n",
       "\\newcommand{\\pmodel}{p_\\text{model}}\n",
       "%\n",
       "% SVM\n",
       "\\newcommand{\\margin}{{\\mathbb{m}}}\n",
       "\\newcommand{\\lmk}{\\boldsymbol{\\ell}}\n",
       "%\n",
       "%\n",
       "% Functions with arguments\n",
       "\\def\\xsy#1#2{#1^#2}\n",
       "\\def\\rand#1{\\tilde{#1}}\n",
       "\\def\\randx{\\rand{\\x}}\n",
       "\\def\\randy{\\rand{\\y}}\n",
       "\\def\\trans#1{\\dot{#1}}\n",
       "\\def\\transx{\\trans{\\x}}\n",
       "\\def\\transy{\\trans{\\y}}\n",
       "%\n",
       "\\def\\argmax#1{\\underset{#1} {\\operatorname{argmax}} }\n",
       "\\def\\argmin#1{\\underset{#1} {\\operatorname{argmin}} }\n",
       "\\def\\max#1{\\underset{#1} {\\operatorname{max}} }\n",
       "\\def\\min#1{\\underset{#1} {\\operatorname{min}} }\n",
       "%\n",
       "\\def\\pr#1{\\mathcal{p}(#1)}\n",
       "\\def\\prc#1#2{\\mathcal{p}(#1 \\; | \\; #2)}\n",
       "\\def\\cnt#1{\\mathcal{count}_{#1}}\n",
       "\\def\\node#1{\\mathbb{#1}}\n",
       "%\n",
       "\\def\\loc#1{{\\text{##} {#1}}}\n",
       "%\n",
       "\\def\\OrderOf#1{\\mathcal{O}\\left( {#1} \\right)}\n",
       "%\n",
       "% Expectation operator\n",
       "\\def\\Exp#1{\\underset{#1} {\\operatorname{\\mathbb{E}}} }\n",
       "%\n",
       "% VAE\n",
       "\\def\\prs#1#2{\\mathcal{p}_{#2}(#1)}\n",
       "\\def\\qr#1{\\mathcal{q}(#1)}\n",
       "\\def\\qrs#1#2{\\mathcal{q}_{#2}(#1)}\n",
       "%\n",
       "% Reinforcement learning\n",
       "\\newcommand{\\Actions}{{\\mathcal{A}}} \n",
       "\\newcommand{\\actseq}{A}\n",
       "\\newcommand{\\act}{a}\n",
       "\\newcommand{\\States}{{\\mathcal{S}}}   \n",
       "\\newcommand{\\stateseq}{S}  \n",
       "\\newcommand{\\state}{s}\n",
       "\\newcommand{\\Rewards}{{\\mathcal{R}}}\n",
       "\\newcommand{\\rewseq}{R}\n",
       "\\newcommand{\\rew}{r}\n",
       "\\newcommand{\\transp}{P}\n",
       "\\newcommand{\\statevalfun}{v}\n",
       "\\newcommand{\\actvalfun}{q}\n",
       "\\newcommand{\\disc}{\\gamma}\n",
       "%\n",
       "%\n",
       "\\newcommand{\\floor}[1]{\\left\\lfloor #1 \\right\\rfloor}\n",
       "\\newcommand{\\ceil}[1]{\\left\\lceil #1 \\right\\rceil}\n",
       "%\n",
       "%\n",
       "$$\n"
      ],
      "text/plain": [
       "<IPython.core.display.Latex object>"
      ]
     },
     "metadata": {},
     "output_type": "display_data"
    }
   ],
   "source": [
    "%run Latex_macros.ipynb"
   ]
  },
  {
   "cell_type": "markdown",
   "metadata": {
    "slideshow": {
     "slide_type": "slide"
    }
   },
   "source": [
    "Hopefully by now, we know about *Gradient Descent*\n",
    "- Solving for weights/parameters\n",
    "- That minimize a loss function\n",
    "- By updating weights/parameters in the *negative* direction of the gradients with respect to the parameters/weights"
   ]
  },
  {
   "cell_type": "markdown",
   "metadata": {
    "slideshow": {
     "slide_type": "subslide"
    }
   },
   "source": [
    "In code, it looks like this\n",
    "- from [Keras docs](https://colab.research.google.com/github/keras-team/keras-io/blob/master/guides/ipynb/customizing_what_happens_in_fit.ipynb#scrollTo=9z4i2_JLpRQc)\n",
    "- one step of Gradient Descent (inputs are a mini-batch of examples)\n",
    "\n",
    "\n",
    "    with tf.GradientTape() as tape:\n",
    "        y_pred = self(x, training=True)  # Forward pass\n",
    "        # Compute the loss value\n",
    "        # (the loss function is configured in `compile()`)\n",
    "        loss = self.compiled_loss(y, y_pred, regularization_losses=self.losses)\n",
    "\n",
    "    # Compute gradients\n",
    "    trainable_vars = self.trainable_variables\n",
    "    gradients = tape.gradient(loss, trainable_vars)\n",
    "    \n",
    "    # Update weights\n",
    "    self.optimizer.apply_gradients(zip(gradients, trainable_vars))"
   ]
  },
  {
   "cell_type": "markdown",
   "metadata": {
    "slideshow": {
     "slide_type": "subslide"
    }
   },
   "source": [
    "Key points\n",
    "- Define a loss $\\loss$\n",
    "    - the loss is dependent on the weights (\"trainable variables\") of the model\n",
    "- Compute the loss within the scope of `tf.GradientTape()`\n",
    "    - Enables TensorFlow to compute gradients of any variable accessed in the scope\n",
    "        - Loss calculated via `self.compiled_loss` in this case\n",
    "        - but any calculation that you would chose to define\n",
    "- Obtain the gradients of the loss with respect to the trainable variables\n",
    "- Updates the trainable variables \n",
    "    - `self.optimizer.apply_gradients(zip(gradients, trainable_vars))` in this case\n",
    "    - General case\n",
    "        `weight += - learning_rate * gradient`\n",
    "    - Subtract the gradient: we are descending (reducing loss)"
   ]
  },
  {
   "cell_type": "markdown",
   "metadata": {
    "slideshow": {
     "slide_type": "subslide"
    }
   },
   "source": [
    "*Gradient Ascent* is nearly identical\n",
    "- Except that we update \n",
    "    - a collection of variables\n",
    "        - **not necesarilty** the weights\n",
    "        - perhaps some other variable\n",
    "    - in the *positive* direction of the gradients\n",
    "- So as to *maximize* a function (\"utility\")\n",
    "    - we will continue, in code, to use \"loss\" for the function/variable name"
   ]
  },
  {
   "cell_type": "markdown",
   "metadata": {
    "slideshow": {
     "slide_type": "subslide"
    }
   },
   "source": [
    "In code, it looks like this:\n",
    "\n",
    "\n",
    "    with tf.GradientTape() as tape:\n",
    "        tape.watch(vars)\n",
    "        loss = compute_loss(vars)\n",
    "        \n",
    "    # Compute gradients.\n",
    "    gradients = tape.gradient(loss, vars)\n",
    "      \n",
    "    vars += learning_rate * gradients\n",
    "    \n"
   ]
  },
  {
   "cell_type": "markdown",
   "metadata": {
    "slideshow": {
     "slide_type": "subslide"
    }
   },
   "source": [
    "- `vars` is a list of variables\n",
    "- loss is dependent on `vars`\n",
    "- we compute the gradient of the loss with respect to `vars`\n",
    "- we *add* the gradient wrt `vars`: \n",
    "    - we are ascending (increasing loss: better to call it \"utility\")\n",
    " "
   ]
  },
  {
   "cell_type": "markdown",
   "metadata": {
    "slideshow": {
     "slide_type": "slide"
    }
   },
   "source": [
    "# Uses of Gradient Ascent\n",
    "\n",
    "We will show some interesting things you can do using Gradient Ascent.\n",
    "\n",
    "We need to identify \n",
    "- the property being maximized\n",
    "- the variables that will be adjusted by the maximizer"
   ]
  },
  {
   "cell_type": "markdown",
   "metadata": {
    "slideshow": {
     "slide_type": "subslide"
    }
   },
   "source": [
    "\n",
    "Our examples identify\n",
    "- the property as defined by variable $\\loss$ (which we are maximizing, not minimizing)\n",
    "- the variables being adjusted are the **inputs** to the NN\n",
    "    - `vars` = $\\y_{(0)}$\n",
    "\n",
    "That is\n",
    "- we are solving for the inputs that maximize a property."
   ]
  },
  {
   "cell_type": "markdown",
   "metadata": {
    "slideshow": {
     "slide_type": "slide"
    }
   },
   "source": [
    "## Property to maximize: value of a single \"logit\" of the Classifier head\n",
    "\n",
    "Suppose our Neural Network $\\mathbb{C}$ terminates in a Classifier head, over classes \n",
    " $\\{ c_1, \\ldots c_k \\}$.\n",
    " \n",
    "The Classifier Head is a `Dense` layer with $k$ units (\"logits\"), one per class.\n",
    "\n",
    "For example, MNIST digit classification\n",
    "- input is a $(28 \\times 28)$ grid of pixel values\n",
    "- there are 10 \"logits\"\n",
    "    - corresponding to each of the digits $\\{ 0, 1, \\ldots, 9 \\}$"
   ]
  },
  {
   "cell_type": "markdown",
   "metadata": {
    "slideshow": {
     "slide_type": "slide"
    }
   },
   "source": [
    "Define the property to be maximized\n",
    "- The value of logit corresponding to $c_j$\n",
    "\n",
    "Gradient Ascent will find the input value to $\\mathbb{C}$\n",
    "that will be classified with highest probability as being from class $c_j$.\n",
    "\n",
    "This is the \"paradigmatic\" input of class $c_j$."
   ]
  },
  {
   "cell_type": "markdown",
   "metadata": {
    "slideshow": {
     "slide_type": "subslide"
    }
   },
   "source": [
    "Using MNIST digit classification as our example.\n",
    "\n",
    "Suppose we choose the property: \"Maximize the logit for digit 8\"\n",
    "- we want to solve for a $(28 \\times 28)$ pixel grid\n",
    "- that is classified as an \"8\" with highest probability\n",
    "\n",
    "Note\n",
    "- the pixel grid solution *does not necessarily* look like a digit !"
   ]
  },
  {
   "cell_type": "markdown",
   "metadata": {
    "slideshow": {
     "slide_type": "slide"
    }
   },
   "source": [
    "## Property to maximize: summary of values of one feature map\n",
    "\n",
    "We can generalize the MNIST example\n",
    "- suppose we have a multi-layer Sequential NN\n",
    "- we want to *interpret* the purpose of layer $\\ll$\n",
    "    - in our first case, $\\ll = L$ (the Classifier layer)\n",
    "    - here: $\\ll$ can be an intermediate layer"
   ]
  },
  {
   "cell_type": "markdown",
   "metadata": {
    "slideshow": {
     "slide_type": "subslide"
    }
   },
   "source": [
    "Recall that a *feature map* is\n",
    "- a Tensor (with shape equal to the spatial dimensions)\n",
    "- corresponding to the value of a single feature at some layer $\\ll$\n",
    "    - over each spatial location\n",
    "    \n",
    "Since this feature is not a singleton, imagine we reduced it to a single value\n",
    "- e.g., maximum value"
   ]
  },
  {
   "cell_type": "markdown",
   "metadata": {
    "slideshow": {
     "slide_type": "subslide"
    }
   },
   "source": [
    "Define the property to be maximized as \n",
    "- a single value that summarizes *all* the values of the single feature map at layer $\\ll$\n",
    "    - for example: the maximum value over the Tensor\n",
    "\n",
    "We use Gradient Ascent\n",
    "- to solve for a $(28 \\times 28)$ pixel grid\n",
    "- the *maximally activates* the feature map at layer $\\ll$"
   ]
  },
  {
   "cell_type": "markdown",
   "metadata": {
    "slideshow": {
     "slide_type": "subslide"
    }
   },
   "source": [
    "Again, the solution pixel grid may not look like a digit\n",
    "- but it may reveal a pattern that \"triggers\" this layer\n",
    "    - for example: \"strong vertical line\"\n",
    "        - indicative of digits 1, 4, 9\n",
    "        \n",
    "This is one way in which we attempt to discern what role each layer serves."
   ]
  },
  {
   "cell_type": "markdown",
   "metadata": {
    "slideshow": {
     "slide_type": "slide"
    }
   },
   "source": [
    "### Visualizing what convnets learn, via Gradient Ascent\n",
    "\n",
    "Let's illustrate Gradient Ascent to visualize what one feature map\n",
    "within a Convolutional Layer of an Image Classifier is \"looking for\"\n",
    "\n",
    "[Visualizing what convnets learn](https://colab.research.google.com/github/keras-team/keras-io/blob/master/examples/vision/ipynb/visualizing_what_convnets_learn.ipynb#)\n",
    "\n",
    "A blog post from a [previous version] of the code shows the patterns\n",
    "of multiple feature maps at multiple layers."
   ]
  },
  {
   "cell_type": "code",
   "execution_count": 2,
   "metadata": {
    "slideshow": {
     "slide_type": "slide"
    }
   },
   "outputs": [
    {
     "name": "stdout",
     "output_type": "stream",
     "text": [
      "Done\n"
     ]
    }
   ],
   "source": [
    "print(\"Done\")"
   ]
  }
 ],
 "metadata": {
  "celltoolbar": "Slideshow",
  "kernelspec": {
   "display_name": "Python 3",
   "language": "python",
   "name": "python3"
  },
  "language_info": {
   "codemirror_mode": {
    "name": "ipython",
    "version": 3
   },
   "file_extension": ".py",
   "mimetype": "text/x-python",
   "name": "python",
   "nbconvert_exporter": "python",
   "pygments_lexer": "ipython3",
   "version": "3.7.4"
  },
  "toc": {
   "base_numbering": 1,
   "nav_menu": {},
   "number_sections": true,
   "sideBar": true,
   "skip_h1_title": false,
   "title_cell": "Table of Contents",
   "title_sidebar": "Contents",
   "toc_cell": false,
   "toc_position": {},
   "toc_section_display": true,
   "toc_window_display": true
  }
 },
 "nbformat": 4,
 "nbformat_minor": 2
}

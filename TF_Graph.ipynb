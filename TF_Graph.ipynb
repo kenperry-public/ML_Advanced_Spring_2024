{
 "cells": [
  {
   "cell_type": "code",
   "execution_count": 1,
   "metadata": {
    "id": "hVOJr1GLvmWX",
    "slideshow": {
     "slide_type": "slide"
    }
   },
   "outputs": [
    {
     "name": "stdout",
     "output_type": "stream",
     "text": [
      "Running TensorFlow version  2.6.0\n"
     ]
    }
   ],
   "source": [
    "import tensorflow as tf\n",
    "import numpy as np\n",
    "\n",
    "import tensorflow as tf\n",
    "\n",
    "print(\"Running TensorFlow version \",tf.__version__)\n"
   ]
  },
  {
   "cell_type": "markdown",
   "metadata": {
    "id": "VAx0SWY2pJbD",
    "slideshow": {
     "slide_type": "slide"
    }
   },
   "source": [
    "[Reference](https://www.tensorflow.org/guide/intro_to_graphs)"
   ]
  },
  {
   "cell_type": "markdown",
   "metadata": {
    "id": "exm-42P7pa8e",
    "slideshow": {
     "slide_type": "slide"
    }
   },
   "source": [
    "# Eager versus Graph computation\n",
    "\n",
    "If your sole experience with TensorFlow is with versions 2 or greater, you probably take the notion of *eager execution* for granted\n",
    "- each statement executes immediately, returning a result\n",
    "\n",
    "But much more is occurring under the covers."
   ]
  },
  {
   "cell_type": "markdown",
   "metadata": {
    "id": "o1x3l8EwqPv5",
    "slideshow": {
     "slide_type": "subslide"
    }
   },
   "source": [
    "The \"native\" TensorFlow operates on *graphs*\n",
    "- representations of statements/programs\n",
    "- think of a graph as the analog of *compiled code*\n",
    "- we can define a computation (e.g., graph) without requiring values for each of its inputs\n",
    "  - think about it a a cell in your Jupyter notebook\n",
    "    - the computation is well-defined\n",
    "    - but can't be evaluated/executed until values are bound to each variable referenced in the cell\n",
    "    - like the body of a function\n",
    "      - defines a computation\n",
    "      - but can't be evaluated to actual values are bound to the formal parameters"
   ]
  },
  {
   "cell_type": "markdown",
   "metadata": {
    "id": "EVbGWMH1rMpJ",
    "slideshow": {
     "slide_type": "subslide"
    }
   },
   "source": [
    "Before your statement is evaluated, it is turned into a graph (\"compiled\").\n",
    "\n",
    "The nodes of the graph are\n",
    "- Operations (e.g., addition, multiplication):\n",
    "  -  `tf.Operation` objects\n",
    "- Variables/Constants/Placeholders: containers for values: \n",
    "  - `Tensor` objects\n",
    "\n",
    "Edges are directed into a node representing an operation\n",
    "- from the outputs of other nodes\n",
    "- upon which this node's operation depends"
   ]
  },
  {
   "cell_type": "markdown",
   "metadata": {
    "id": "1iDRttNAsH3r",
    "slideshow": {
     "slide_type": "subslide"
    }
   },
   "source": [
    "Here is an example of a graph from the reference\n",
    "\n",
    "<img alt=\"A simple TensorFlow graph\" src=\"https://github.com/tensorflow/docs/blob/master/site/en/guide/images/intro_to_graphs/two-layer-network.png?raw=1\" width=50%>"
   ]
  },
  {
   "cell_type": "markdown",
   "metadata": {
    "id": "sX50RHkUszBr",
    "slideshow": {
     "slide_type": "subslide"
    }
   },
   "source": [
    "There are many [advantages](https://colab.research.google.com/github/tensorflow/docs/blob/master/site/en/guide/intro_to_graphs.ipynb#scrollTo=DHpY3avXGITP&line=1&uniqifier=1) to representing a program as a graph.\n",
    "\n",
    "But the primary advantage (from our perspective) is that the graph form of program allows the automatic computation of analytical derivatives\n",
    "- which are the basis for Gradient Descent, the optimization algorithm\n",
    "  - compute gradients of parameterized computations with respect to its parameters\n",
    "  - we can adjust parameter values in the negative direction of the gradient of a Loss\n",
    "  - in order to solve the optimization problem: minimize Loss\n",
    "  - which is the basis of training a Neural Network"
   ]
  },
  {
   "cell_type": "markdown",
   "metadata": {
    "slideshow": {
     "slide_type": "slide"
    }
   },
   "source": [
    "## Disadvantages\n",
    "\n",
    "- The operations are *limited* to TensorFlow Operations\n",
    "    - take Tensors as inputs\n",
    "    - produce Tensors as outputs\n",
    "    - can't have arbitrary Python operations\n",
    "        - \"side effects\" (e.g., `print`) may not be included in the graph !\n",
    "        - [Modifying Python `list` or `dict` is a side-effect](https://colab.research.google.com/github/tensorflow/docs/blob/master/site/en/guide/function.ipynb#scrollTo=hyksHW9TCukR) !\n",
    "- *Can* use Python control (`if-then-else`, `while`)\n",
    "    - the Python `if` will be converted into `tf.cond`\n",
    "    - the Python `for`, `while` looping constructs will be converted into `tf.while_loop`"
   ]
  },
  {
   "cell_type": "markdown",
   "metadata": {
    "slideshow": {
     "slide_type": "slide"
    }
   },
   "source": [
    "This sometimes appears confusing\n",
    "- many seemingly \"Python\" operators (e.g, \"+\") are *overloaded*\n",
    "    - They perform a TensorFlow op (`tf.add`) when operating on `Tensor` arguments\n",
    "    - Just like `'NumPy` overloads \"+\" to perform `numpy.add` when operating on NumPy arrays (`ndarray`)\n",
    "- So code *looks like* Python but is really TensorFlow ops\n",
    "- NumPy `ndarray` and `Tensor` are easily interchangeable and sometimes conversions happen \"under the covers\""
   ]
  },
  {
   "cell_type": "markdown",
   "metadata": {
    "slideshow": {
     "slide_type": "slide"
    }
   },
   "source": [
    "It feels like we *ought to be able* to use `.numpy()` on an `EagerTensor`, perform NumPy operations, and convert back to a `Tensor`\n",
    "- Problem: works find in Python prototyping\n",
    "- Fails when embedded in TensorFlow\n",
    "    - arguments become `Tensor` rather than `EagerTensor` and don't respond to `.numpy()`"
   ]
  },
  {
   "cell_type": "markdown",
   "metadata": {
    "slideshow": {
     "slide_type": "subslide"
    }
   },
   "source": [
    "**Bottom line**\n",
    "\n",
    "Be wary of using arbitrary Python libraries in the body of a function intended to execute in TensorFlow.\n"
   ]
  },
  {
   "cell_type": "markdown",
   "metadata": {
    "id": "-y5mIMrGsiXC",
    "slideshow": {
     "slide_type": "slide"
    }
   },
   "source": [
    "# Why do we care ?\n",
    "\n",
    "This may seem like TMI (Too Much Information)\n",
    "- we ordinarily don't care about the \"compiled form\" of programs that we write"
   ]
  },
  {
   "cell_type": "markdown",
   "metadata": {
    "id": "-y5mIMrGsiXC",
    "slideshow": {
     "slide_type": "slide"
    }
   },
   "source": [
    "The reasons we care\n",
    "- Evaluating a program via \"eager computation\" is not always identical to evaluating it via \"graph computation\"\n",
    "- Your code is turned into a graph\n",
    "  - The underlying library calls you make might throw a error\n",
    "  - The error may only be understood by thinking about the graph\n",
    "    - e.g., imagine a `map` operator\n",
    "      - takes as arguments: a function definition, a Tensor\n",
    "      - applies the operation to each element of the \n",
    "      - the function you pass is turned into a graph\n",
    "      - you discover that the function behaves differently than in eager mode"
   ]
  },
  {
   "cell_type": "code",
   "execution_count": 2,
   "metadata": {
    "id": "ECILHeSvvW_o",
    "slideshow": {
     "slide_type": "subslide"
    }
   },
   "outputs": [],
   "source": [
    "def add_one(x):\n",
    "  print(f\"x type: {type(x)}\\n\")\n",
    "\n",
    "  result = x +1\n",
    "  return result"
   ]
  },
  {
   "cell_type": "code",
   "execution_count": 3,
   "metadata": {
    "colab": {
     "base_uri": "https://localhost:8080/"
    },
    "id": "l4jCF1Ndvjiw",
    "outputId": "e24274fe-0cc5-4e50-eab0-1a2a62d99085",
    "slideshow": {
     "slide_type": "subslide"
    }
   },
   "outputs": [
    {
     "name": "stdout",
     "output_type": "stream",
     "text": [
      "tf.Tensor([0. 1. 2. 3.], shape=(4,), dtype=float32)\n"
     ]
    },
    {
     "name": "stderr",
     "output_type": "stream",
     "text": [
      "2022-06-08 19:06:01.083232: I tensorflow/core/platform/cpu_feature_guard.cc:142] This TensorFlow binary is optimized with oneAPI Deep Neural Network Library (oneDNN) to use the following CPU instructions in performance-critical operations:  SSE4.1 SSE4.2 AVX AVX2 FMA\n",
      "To enable them in other operations, rebuild TensorFlow with the appropriate compiler flags.\n",
      "2022-06-08 19:06:01.086445: I tensorflow/core/common_runtime/process_util.cc:146] Creating new thread pool with default inter op setting: 2. Tune using inter_op_parallelism_threads for best performance.\n"
     ]
    }
   ],
   "source": [
    "val = tf.convert_to_tensor([0, 1, 2, 3], dtype=tf.float32)\n",
    "\n",
    "print(val)\n",
    "\n"
   ]
  },
  {
   "cell_type": "code",
   "execution_count": 4,
   "metadata": {
    "colab": {
     "base_uri": "https://localhost:8080/"
    },
    "id": "RQx1QsmOySNf",
    "outputId": "bea35d95-8653-4c70-acdd-20461a71d11f",
    "slideshow": {
     "slide_type": "subslide"
    }
   },
   "outputs": [
    {
     "name": "stdout",
     "output_type": "stream",
     "text": [
      "x type: <class 'tensorflow.python.framework.ops.EagerTensor'>\n",
      "\n",
      "Return type <class 'tensorflow.python.framework.ops.EagerTensor'>\n",
      "\n"
     ]
    },
    {
     "data": {
      "text/plain": [
       "<tf.Tensor: shape=(4,), dtype=float32, numpy=array([1., 2., 3., 4.], dtype=float32)>"
      ]
     },
     "execution_count": 4,
     "metadata": {},
     "output_type": "execute_result"
    }
   ],
   "source": [
    "val_plus_1 = add_one( val )\n",
    "\n",
    "print(f\"Return type {type(val_plus_1)}\\n\")\n",
    "\n",
    "val_plus_1"
   ]
  },
  {
   "cell_type": "markdown",
   "metadata": {
    "id": "lOyO2F_ev4Ep",
    "slideshow": {
     "slide_type": "subslide"
    }
   },
   "source": [
    "Some observations about calling `add_one`:\n",
    "- We pass a `Tensor` (rather than a NumPy `ndarray`) as argument\n",
    "    - simulating the usual case where the actual value is the result of a prior TensorFlow operation\n",
    "- The type of the returned value is also a `Tensor`\n",
    "    - that can be directly passed to the \"next\" step in the computation"
   ]
  },
  {
   "cell_type": "markdown",
   "metadata": {
    "id": "kYZb_QlAyN7W",
    "slideshow": {
     "slide_type": "subslide"
    }
   },
   "source": [
    "Notice something odd ?\n",
    "- The value of `val` in the calling cell is of type `Tensor`\n",
    "- But the value of the argument (to which `val` is bound) is `EagerTensor`)\n",
    "- And the return value is also of type `EagerTensor`\n",
    "\n"
   ]
  },
  {
   "cell_type": "markdown",
   "metadata": {
    "id": "4CEIqsaH0Dw1",
    "slideshow": {
     "slide_type": "subslide"
    }
   },
   "source": [
    "In \"eager computation\" (the default mode)\n",
    "- to enable operations to be evaluated immediately\n",
    "- `Tensors` (place-holders for values) are turned into `EagerTensors`\n",
    "  - an `EagerTensor`'s value may be obtained via the `.numpy()` method"
   ]
  },
  {
   "cell_type": "code",
   "execution_count": 5,
   "metadata": {
    "colab": {
     "base_uri": "https://localhost:8080/"
    },
    "id": "3NmnoSeExyrK",
    "outputId": "16e38d14-a6ba-471a-dd0f-63b0fc12a811",
    "slideshow": {
     "slide_type": "subslide"
    }
   },
   "outputs": [
    {
     "name": "stdout",
     "output_type": "stream",
     "text": [
      "Value of result: [1. 2. 3. 4.]\n"
     ]
    }
   ],
   "source": [
    "print(f\"Value of result: {val_plus_1.numpy()}\")"
   ]
  },
  {
   "cell_type": "markdown",
   "metadata": {
    "id": "a2ChJ25K0hKG",
    "slideshow": {
     "slide_type": "subslide"
    }
   },
   "source": [
    "The function body looks like plain Python.\n",
    "- But the \"+\" operator is translated into `tf.add`, not NumPy addition for `ndarray`\n",
    "\n",
    "Let's make this explicit"
   ]
  },
  {
   "cell_type": "code",
   "execution_count": 6,
   "metadata": {
    "colab": {
     "base_uri": "https://localhost:8080/"
    },
    "id": "CPLKcTVc0yx0",
    "outputId": "4a3643f0-d949-4062-e35e-a41756406cc2",
    "slideshow": {
     "slide_type": "subslide"
    }
   },
   "outputs": [
    {
     "name": "stdout",
     "output_type": "stream",
     "text": [
      "x type: <class 'tensorflow.python.framework.ops.EagerTensor'>\n",
      "\n"
     ]
    },
    {
     "data": {
      "text/plain": [
       "<tf.Tensor: shape=(4,), dtype=float32, numpy=array([1., 2., 3., 4.], dtype=float32)>"
      ]
     },
     "execution_count": 6,
     "metadata": {},
     "output_type": "execute_result"
    }
   ],
   "source": [
    "def add_one_v1(x):\n",
    "  print(f\"x type: {type(x)}\\n\")\n",
    "\n",
    "  result = tf.add(x, 1)\n",
    "  return result\n",
    "\n",
    "add_one_v1(val)"
   ]
  },
  {
   "cell_type": "markdown",
   "metadata": {
    "id": "kHt5xw_J08fi",
    "slideshow": {
     "slide_type": "subslide"
    }
   },
   "source": [
    "In the first version of `add_one`,\n",
    "- it was easy to ignore the fact that the value of the formal parameter was a `Tensor` rather than an `ndarray`.\n",
    "- this is because the \"+\" operator was overloaded (and turned into the type appropriate to its argument)\n",
    "    - We can see this if we pass in an `ndarray`\n",
    "`"
   ]
  },
  {
   "cell_type": "code",
   "execution_count": 7,
   "metadata": {
    "slideshow": {
     "slide_type": "subslide"
    }
   },
   "outputs": [
    {
     "name": "stdout",
     "output_type": "stream",
     "text": [
      "x type: <class 'numpy.ndarray'>\n",
      "\n"
     ]
    },
    {
     "data": {
      "text/plain": [
       "array([1, 2, 3, 4])"
      ]
     },
     "execution_count": 7,
     "metadata": {},
     "output_type": "execute_result"
    }
   ],
   "source": [
    "add_one( np.array( [0, 1, 2, 3]))"
   ]
  },
  {
   "cell_type": "markdown",
   "metadata": {
    "slideshow": {
     "slide_type": "subslide"
    }
   },
   "source": [
    "Because we pass in an `ndarray`, the \"+\" operator gets turned in `np.add`\n",
    "- resulting in a return type of `ndarray` rather than `Tensor`\n",
    "\n",
    "In the second version, we expicitly invoked `tf.add`:"
   ]
  },
  {
   "cell_type": "code",
   "execution_count": 8,
   "metadata": {
    "colab": {
     "base_uri": "https://localhost:8080/"
    },
    "id": "ym0eBCcx1cF_",
    "outputId": "3fb1377a-0f95-45e5-d029-77479359b02c",
    "slideshow": {
     "slide_type": "subslide"
    }
   },
   "outputs": [
    {
     "name": "stdout",
     "output_type": "stream",
     "text": [
      "x type: <class 'list'>\n",
      "\n"
     ]
    },
    {
     "data": {
      "text/plain": [
       "<tf.Tensor: shape=(3,), dtype=int32, numpy=array([1, 2, 3], dtype=int32)>"
      ]
     },
     "execution_count": 8,
     "metadata": {},
     "output_type": "execute_result"
    }
   ],
   "source": [
    "add_one_v1( [0, 1, 2])"
   ]
  },
  {
   "cell_type": "markdown",
   "metadata": {
    "id": "8Xpbj6iJ1srZ",
    "slideshow": {
     "slide_type": "subslide"
    }
   },
   "source": [
    "We pass in a Python `list`\n",
    "- which gets automatically converted into a `Tensor` when applying `tf.add`\n",
    "- resulting in a return value of type `Tensor`\n",
    "\n",
    "TensorFlow is quite forgiving in coercing objects to the correct type."
   ]
  },
  {
   "cell_type": "markdown",
   "metadata": {
    "slideshow": {
     "slide_type": "slide"
    }
   },
   "source": [
    "# Differences between eager and graph execution"
   ]
  },
  {
   "cell_type": "markdown",
   "metadata": {
    "id": "-Pp6OxLr16s_",
    "slideshow": {
     "slide_type": "subslide"
    }
   },
   "source": [
    "This level of comfort can get us into trouble.\n",
    "\n",
    "Since in eager mode, the parameter is an `EagerTensor`, we can apply the `.numpy()` method to it\n",
    "in order to extract the values as an `ndarray`"
   ]
  },
  {
   "cell_type": "code",
   "execution_count": 9,
   "metadata": {
    "colab": {
     "base_uri": "https://localhost:8080/"
    },
    "id": "mD_n3lsx2Gz_",
    "outputId": "0e062936-99c7-4593-a57e-3af6da8b58a4",
    "slideshow": {
     "slide_type": "subslide"
    }
   },
   "outputs": [
    {
     "name": "stdout",
     "output_type": "stream",
     "text": [
      "x type: <class 'tensorflow.python.framework.ops.EagerTensor'>\n",
      "\n"
     ]
    },
    {
     "data": {
      "text/plain": [
       "array([1., 2., 3., 4.], dtype=float32)"
      ]
     },
     "execution_count": 9,
     "metadata": {},
     "output_type": "execute_result"
    }
   ],
   "source": [
    "def add_one_v2(x):\n",
    "  print(f\"x type: {type(x)}\\n\")\n",
    "\n",
    "  result = x.numpy() + 1\n",
    "  return result\n",
    "\n",
    "add_one_v2(val)"
   ]
  },
  {
   "cell_type": "markdown",
   "metadata": {
    "id": "hiOX64BA2rZB",
    "slideshow": {
     "slide_type": "subslide"
    }
   },
   "source": [
    "We turned the `EagerTensor` argument value into a NumPy `ndarray`.\n",
    "\n",
    "The return type is now `ndarray`.\n",
    "\n",
    "No harm: \n",
    "- if we pass the `ndarray` result into another function that uses Tensor methods\n",
    "- it will be converted into a `Tensor` (as with the `add_one_v1` example)"
   ]
  },
  {
   "cell_type": "markdown",
   "metadata": {
    "id": "KJl-SYFm3NMw",
    "slideshow": {
     "slide_type": "subslide"
    }
   },
   "source": [
    "But there is a problem !\n",
    "- if `add_one_v2` is evaluated via \"graph execution\"\n",
    "- its parameter will be of type `Tensor`, not `EagerTensor`\n",
    "- `Tensor` does not have a `.numpy()` method !\n",
    "\n",
    "Your code which worked perfectly in \"eager mode\" will throw an error when evaluated via \"graph computation\"."
   ]
  },
  {
   "cell_type": "markdown",
   "metadata": {
    "id": "G9a6LJNc3qEA",
    "slideshow": {
     "slide_type": "subslide"
    }
   },
   "source": [
    "When this occurs, it will be very confusing !\n",
    "\n",
    "We illustrate this by applying a function to each element of a `Tensor`, using TensorFlow `map_fn`\n"
   ]
  },
  {
   "cell_type": "code",
   "execution_count": 10,
   "metadata": {
    "id": "xNa-JRjG36p3",
    "slideshow": {
     "slide_type": "subslide"
    }
   },
   "outputs": [],
   "source": [
    "def add_one_to_each(x):\n",
    "  print(f\"x type: {type(x)}\\n\")\n",
    "\n",
    "\n",
    "  if tf.executing_eagerly():\n",
    "    print(\"\\tEager evalaution\")\n",
    "  else:\n",
    "    print(\"\\tGraph evaluation\\n\\n\")\n",
    "\n",
    "  result = x + 1\n",
    "  return result\n"
   ]
  },
  {
   "cell_type": "code",
   "execution_count": 11,
   "metadata": {
    "colab": {
     "base_uri": "https://localhost:8080/"
    },
    "id": "XkG2h0gB4Ur9",
    "outputId": "1768dce4-f98a-4942-bd08-3abb45c76ed9",
    "slideshow": {
     "slide_type": "subslide"
    }
   },
   "outputs": [
    {
     "name": "stdout",
     "output_type": "stream",
     "text": [
      "x type: <class 'tensorflow.python.framework.ops.EagerTensor'>\n",
      "\n",
      "\tEager evalaution\n",
      "x type: <class 'tensorflow.python.framework.ops.EagerTensor'>\n",
      "\n",
      "\tEager evalaution\n",
      "x type: <class 'tensorflow.python.framework.ops.EagerTensor'>\n",
      "\n",
      "\tEager evalaution\n"
     ]
    },
    {
     "data": {
      "text/plain": [
       "<tf.Tensor: shape=(3,), dtype=int32, numpy=array([1, 2, 3], dtype=int32)>"
      ]
     },
     "execution_count": 11,
     "metadata": {},
     "output_type": "execute_result"
    }
   ],
   "source": [
    "tf.map_fn(add_one_to_each, tf.constant([0, 1, 2]))"
   ]
  },
  {
   "cell_type": "markdown",
   "metadata": {
    "id": "q9M9t3Eu4rxP",
    "slideshow": {
     "slide_type": "subslide"
    }
   },
   "source": [
    "`add_one_to_each` gets called for each element of the `EagerTensor` argument\n",
    "- resulting in a \"print\" statement being executed for each\n",
    "\n",
    "But consider the version where we use `.numpy()` in the function body"
   ]
  },
  {
   "cell_type": "code",
   "execution_count": 12,
   "metadata": {
    "id": "299_2Tce4y1p",
    "slideshow": {
     "slide_type": "subslide"
    }
   },
   "outputs": [],
   "source": [
    "def add_one_to_each_v1(x):\n",
    "  print(f\"x type: {type(x)}\\n\")\n",
    "\n",
    "  if tf.executing_eagerly():\n",
    "    print(\"\\tEager evalaution\")\n",
    "  else:\n",
    "    print(\"\\tGraph evaluation\\n\\n\")\n",
    "\n",
    "\n",
    "  result = x.numpy() + 1\n",
    "  return result\n"
   ]
  },
  {
   "cell_type": "code",
   "execution_count": 13,
   "metadata": {
    "colab": {
     "base_uri": "https://localhost:8080/"
    },
    "id": "mwtU4vy344M3",
    "outputId": "39ddf664-0eb5-4638-d0e0-fc1bc5606303",
    "slideshow": {
     "slide_type": "subslide"
    }
   },
   "outputs": [
    {
     "name": "stdout",
     "output_type": "stream",
     "text": [
      "x type: <class 'tensorflow.python.framework.ops.EagerTensor'>\n",
      "\n",
      "\tEager evalaution\n",
      "x type: <class 'tensorflow.python.framework.ops.EagerTensor'>\n",
      "\n",
      "\tEager evalaution\n",
      "x type: <class 'tensorflow.python.framework.ops.EagerTensor'>\n",
      "\n",
      "\tEager evalaution\n"
     ]
    },
    {
     "data": {
      "text/plain": [
       "<tf.Tensor: shape=(3,), dtype=int32, numpy=array([1, 2, 3], dtype=int32)>"
      ]
     },
     "execution_count": 13,
     "metadata": {},
     "output_type": "execute_result"
    }
   ],
   "source": [
    "tf.map_fn(add_one_to_each_v1, tf.constant([0, 1, 2]))"
   ]
  },
  {
   "cell_type": "markdown",
   "metadata": {
    "id": "6JISjF-j5U2_",
    "slideshow": {
     "slide_type": "subslide"
    }
   },
   "source": [
    "Works so far.\n",
    "\n",
    "But what if we turn `add_one_to_each` (and subsequent: `add_one_to_each_v1`) into it's graph version.\n",
    "\n",
    "We can turn an ordinary function into a *TensorFlow Function*  via the `tf.function` operator\n",
    "- Note the capital \"F\" in Function.\n",
    "  - \"function\" (lower case) will refer to Python\n",
    "  - \"Function\" (upper case) will refer to `tf.Graph`"
   ]
  },
  {
   "cell_type": "code",
   "execution_count": 14,
   "metadata": {
    "id": "e0x8tHTO5j-H",
    "slideshow": {
     "slide_type": "subslide"
    }
   },
   "outputs": [],
   "source": [
    "tf_add_one_to_each    = tf.function( add_one_to_each)\n",
    "tf_add_one_to_each_v1 = tf.function( add_one_to_each_v1)"
   ]
  },
  {
   "cell_type": "code",
   "execution_count": 15,
   "metadata": {
    "colab": {
     "base_uri": "https://localhost:8080/"
    },
    "id": "96gnjtvF5v29",
    "outputId": "a40a7126-6376-4c6c-cb55-3f0634c36351",
    "slideshow": {
     "slide_type": "subslide"
    }
   },
   "outputs": [
    {
     "name": "stdout",
     "output_type": "stream",
     "text": [
      "x type: <class 'tensorflow.python.framework.ops.Tensor'>\n",
      "\n",
      "\tGraph evaluation\n",
      "\n",
      "\n"
     ]
    },
    {
     "name": "stderr",
     "output_type": "stream",
     "text": [
      "2022-06-08 19:06:02.613915: I tensorflow/compiler/mlir/mlir_graph_optimization_pass.cc:185] None of the MLIR Optimization Passes are enabled (registered 2)\n"
     ]
    },
    {
     "data": {
      "text/plain": [
       "<tf.Tensor: shape=(3,), dtype=int32, numpy=array([1, 2, 3], dtype=int32)>"
      ]
     },
     "execution_count": 15,
     "metadata": {},
     "output_type": "execute_result"
    }
   ],
   "source": [
    "tf.map_fn( tf_add_one_to_each, tf.constant([0, 1, 2]))"
   ]
  },
  {
   "cell_type": "markdown",
   "metadata": {
    "id": "2pc1H6W36Yyy",
    "slideshow": {
     "slide_type": "subslide"
    }
   },
   "source": [
    "No problem for the original function\n",
    "- Even though the argument is now a `Tensor` rather than an `EagerTensor`\n",
    "- We can see that it is executing via \"Graph Evaluation\"\n",
    "- Behaves the same via \"Graph evaluation\" as in \"Eager evaluation\""
   ]
  },
  {
   "cell_type": "markdown",
   "metadata": {
    "id": "J2QntVML6ij2",
    "slideshow": {
     "slide_type": "subslide"
    }
   },
   "source": [
    "But what about `tf_add_one_to_each_v1`\n",
    "- which needlessly (and incorrectly) uses the `.numpy()` operator"
   ]
  },
  {
   "cell_type": "code",
   "execution_count": 16,
   "metadata": {
    "colab": {
     "base_uri": "https://localhost:8080/"
    },
    "id": "NoQ3uqPi53Im",
    "outputId": "b49691bc-308f-4589-ffe7-5fbda4499169",
    "slideshow": {
     "slide_type": "subslide"
    }
   },
   "outputs": [
    {
     "name": "stdout",
     "output_type": "stream",
     "text": [
      "x type: <class 'tensorflow.python.framework.ops.Tensor'>\n",
      "\n",
      "\tGraph evaluation\n",
      "\n",
      "\n",
      "map_fn fails: in user code:\n",
      "\n",
      "    /tmp/ipykernel_61095/903874480.py:10 add_one_to_each_v1  *\n",
      "        result = x.numpy() + 1\n",
      "    /home/kjp/anaconda3/envs/tf/lib/python3.9/site-packages/tensorflow/python/framework/ops.py:401 __getattr__\n",
      "        self.__getattribute__(name)\n",
      "\n",
      "    AttributeError: 'Tensor' object has no attribute 'numpy'\n",
      "\n"
     ]
    }
   ],
   "source": [
    "try:\n",
    "  tf.map_fn( tf_add_one_to_each_v1, tf.constant([0, 1, 2]))\n",
    "except Exception as e:\n",
    "  print(f\"map_fn fails: {e}\")\n"
   ]
  },
  {
   "cell_type": "markdown",
   "metadata": {
    "id": "ipQ5gsB497bO",
    "slideshow": {
     "slide_type": "subslide"
    }
   },
   "source": [
    "From the above output, you can see that \n",
    "- function (lower case) form of the functions executes in\n",
    "\"Eager evaluation\"\n",
    "- the Function (`tf.Graph`) form of the functions executes\n",
    "in \"Graph evaluation\" mode\n"
   ]
  },
  {
   "cell_type": "markdown",
   "metadata": {
    "id": "Lk4j2IA07DPx",
    "slideshow": {
     "slide_type": "subslide"
    }
   },
   "source": [
    "This may seem artificial.\n",
    "\n",
    "But there are times when an underlying operator or library\n",
    "- turns your function into a Function (`tf.graph`)\n",
    "- without warning\n",
    "\n",
    "Your experience is\n",
    "- the code worked when run in \"testing\" mode\n",
    "  - Eager evaluation in effect, by default\n",
    "- the code fails when embedded in an operation that implicitly turns your Function into a function"
   ]
  },
  {
   "cell_type": "markdown",
   "metadata": {
    "slideshow": {
     "slide_type": "subslide"
    }
   },
   "source": [
    "This can be very confusing (and frustrating) !\n",
    "\n",
    "The example serves to exemplify the need to be aware\n",
    "- to limit the body of a function that gets (perhaps implicitly) turned int a TensorFlow Function (`tf.Graph`)\n",
    "- to operations on `Tensor` types\n",
    "- avoid \"plain\" Python (except for control) and NumPy"
   ]
  },
  {
   "cell_type": "markdown",
   "metadata": {
    "id": "0F9EiIYG_P5X",
    "slideshow": {
     "slide_type": "slide"
    }
   },
   "source": [
    "# Tracing\n",
    "\n",
    "The process of turning a function into a Function is called [*tracing*](https://colab.research.google.com/github/tensorflow/docs/blob/master/site/en/guide/function.ipynb#tracing)\n",
    "\n",
    "There are some subtleties which may be confusing\n",
    "- In an untyped language like Python the same function may be called with arguments of different type\n",
    "  - e.g., `ndarray`, `Tensor`\n",
    "\n",
    "  - The code generated by tracing a function sometimes depends on the type of the argument\n",
    "  - different `tf.Graph` depending on type of argument passed\n",
    "\n",
    "  - So sometimes a function can only be traced by passing in an argument\n",
    "    - unlike our use of `tf.function` above"
   ]
  },
  {
   "cell_type": "markdown",
   "metadata": {
    "id": "p2L2FeSLAwAe",
    "slideshow": {
     "slide_type": "subslide"
    }
   },
   "source": [
    "The conversion into a `tf.Graph` [**does not preserve \"Python side-effects\"**](https://colab.research.google.com/github/tensorflow/docs/blob/master/site/en/guide/intro_to_graphs.ipynb#scrollTo=PUR7qC_bquCn)\n",
    "- the Python \"print\" statement is a side-effect !\n",
    "  - use `tf.print`\n",
    "    - Changing a Python structure (`list`, `dict`) is a side effect too.\n",
    "\n",
    "Here is an example from the reference"
   ]
  },
  {
   "cell_type": "code",
   "execution_count": 17,
   "metadata": {
    "colab": {
     "base_uri": "https://localhost:8080/"
    },
    "id": "o-bRh4grBhLU",
    "outputId": "d28a986d-d285-4c43-cef0-66ef4c63f5b3",
    "slideshow": {
     "slide_type": "subslide"
    }
   },
   "outputs": [],
   "source": [
    "@tf.function\n",
    "def get_MSE(y_true, y_pred):\n",
    "  print(\"Calculating MSE!\")\n",
    "  sq_diff = tf.pow(y_true - y_pred, 2)\n",
    "  return tf.reduce_mean(sq_diff)"
   ]
  },
  {
   "cell_type": "code",
   "execution_count": 18,
   "metadata": {
    "colab": {
     "base_uri": "https://localhost:8080/"
    },
    "id": "o-bRh4grBhLU",
    "outputId": "d28a986d-d285-4c43-cef0-66ef4c63f5b3",
    "slideshow": {
     "slide_type": "subslide"
    }
   },
   "outputs": [
    {
     "name": "stdout",
     "output_type": "stream",
     "text": [
      "tf.Tensor([3 3 6 2 9], shape=(5,), dtype=int32)\n",
      "tf.Tensor([5 2 4 8 3], shape=(5,), dtype=int32)\n"
     ]
    }
   ],
   "source": [
    "y_true = tf.random.uniform([5], maxval=10, dtype=tf.int32)\n",
    "y_pred = tf.random.uniform([5], maxval=10, dtype=tf.int32)\n",
    "print(y_true)\n",
    "print(y_pred)"
   ]
  },
  {
   "cell_type": "code",
   "execution_count": 19,
   "metadata": {
    "colab": {
     "base_uri": "https://localhost:8080/"
    },
    "id": "iUVivMCCBtq0",
    "outputId": "ea570263-ab47-44d8-dee0-4426d72ef8b7",
    "slideshow": {
     "slide_type": "subslide"
    }
   },
   "outputs": [
    {
     "name": "stdout",
     "output_type": "stream",
     "text": [
      "Calculating MSE!\n"
     ]
    },
    {
     "data": {
      "text/plain": [
       "<tf.Tensor: shape=(), dtype=int32, numpy=16>"
      ]
     },
     "execution_count": 19,
     "metadata": {},
     "output_type": "execute_result"
    }
   ],
   "source": [
    "get_MSE(y_true, y_pred)"
   ]
  },
  {
   "cell_type": "markdown",
   "metadata": {
    "id": "AaDDxTnXB4JD",
    "slideshow": {
     "slide_type": "subslide"
    }
   },
   "source": [
    "Let's make sure we run in \"Eager evaluation\""
   ]
  },
  {
   "cell_type": "code",
   "execution_count": 20,
   "metadata": {
    "id": "IY2bKiEpB75F",
    "slideshow": {
     "slide_type": "subslide"
    }
   },
   "outputs": [],
   "source": [
    "tf.config.run_functions_eagerly(True)"
   ]
  },
  {
   "cell_type": "code",
   "execution_count": 21,
   "metadata": {
    "id": "UGWvm0h5CAyc",
    "slideshow": {
     "slide_type": "subslide"
    }
   },
   "outputs": [],
   "source": [
    "@tf.function\n",
    "def get_MSE(y_true, y_pred):\n",
    "  print(\"Calculating MSE!\")\n",
    "  sq_diff = tf.pow(y_true - y_pred, 2)\n",
    "  return tf.reduce_mean(sq_diff)"
   ]
  },
  {
   "cell_type": "code",
   "execution_count": 22,
   "metadata": {
    "colab": {
     "base_uri": "https://localhost:8080/"
    },
    "id": "7UFBfWBBCGc8",
    "outputId": "da2badee-817a-4f0b-f280-05378194ca6d",
    "slideshow": {
     "slide_type": "subslide"
    }
   },
   "outputs": [
    {
     "name": "stdout",
     "output_type": "stream",
     "text": [
      "Calculating MSE!\n",
      "Calculating MSE!\n",
      "Calculating MSE!\n"
     ]
    }
   ],
   "source": [
    "error = get_MSE(y_true, y_pred)\n",
    "error = get_MSE(y_true, y_pred)\n",
    "error = get_MSE(y_true, y_pred)"
   ]
  },
  {
   "cell_type": "markdown",
   "metadata": {
    "id": "yaLvMmXBCOjU",
    "slideshow": {
     "slide_type": "subslide"
    }
   },
   "source": [
    "Now run it in \"Graph evaluation\""
   ]
  },
  {
   "cell_type": "code",
   "execution_count": 23,
   "metadata": {
    "id": "Ud-bCo7dCU-x",
    "slideshow": {
     "slide_type": "subslide"
    }
   },
   "outputs": [],
   "source": [
    "# Don't forget to set it back when you are done.\n",
    "tf.config.run_functions_eagerly(False)\n"
   ]
  },
  {
   "cell_type": "code",
   "execution_count": 24,
   "metadata": {
    "id": "ZVSIL-fACZs8",
    "slideshow": {
     "slide_type": "subslide"
    }
   },
   "outputs": [],
   "source": [
    "@tf.function\n",
    "def get_MSE(y_true, y_pred):\n",
    "  print(\"Calculating MSE!\")\n",
    "  sq_diff = tf.pow(y_true - y_pred, 2)\n",
    "  return tf.reduce_mean(sq_diff)"
   ]
  },
  {
   "cell_type": "code",
   "execution_count": 25,
   "metadata": {
    "colab": {
     "base_uri": "https://localhost:8080/"
    },
    "id": "7JGkm0dFCaub",
    "outputId": "0ca3be34-fb0b-4e27-cffa-85bd5e3c8079",
    "slideshow": {
     "slide_type": "subslide"
    }
   },
   "outputs": [
    {
     "name": "stdout",
     "output_type": "stream",
     "text": [
      "Calculating MSE!\n"
     ]
    }
   ],
   "source": [
    "error = get_MSE(y_true, y_pred)\n",
    "error = get_MSE(y_true, y_pred)\n",
    "error = get_MSE(y_true, y_pred)\n",
    "\n",
    "# Turn eager back on\n",
    "tf.config.run_functions_eagerly(False)"
   ]
  },
  {
   "cell_type": "markdown",
   "metadata": {
    "id": "b5sxk-ztC_SV",
    "slideshow": {
     "slide_type": "slide"
    }
   },
   "source": [
    "The \"print\" statement is executed only once in \"Graph evaluation\" !\n",
    "- It is a Python side-effect\n",
    "- The side effect is evaluated when the function is traced\n",
    "  - The function is traced *only* on the first call\n",
    "  - Unless the type of the argument changes (which necessitates a `tf.Graph` specific to that argument type)"
   ]
  },
  {
   "cell_type": "markdown",
   "metadata": {
    "slideshow": {
     "slide_type": "subslide"
    }
   },
   "source": [
    "Tracing is also somewhat odd to observe:\n",
    "- Since the language is un-typed, it is possible to pass arguments of different type\n",
    "    - The overloading of operators may depend on the type of the argument\n",
    "    - There is one graph per type of argument encountered thus far\n",
    "        - A new trace occurs upon seeing a new argument type or value"
   ]
  },
  {
   "cell_type": "code",
   "execution_count": 26,
   "metadata": {
    "slideshow": {
     "slide_type": "subslide"
    }
   },
   "outputs": [
    {
     "name": "stdout",
     "output_type": "stream",
     "text": [
      "Traced with 1\n",
      "Executed with 1\n",
      "Executed with 1\n",
      "Traced with 2\n",
      "Executed with 2\n"
     ]
    }
   ],
   "source": [
    "@tf.function\n",
    "def f(x):\n",
    "  print(\"Traced with\", x)\n",
    "  tf.print(\"Executed with\", x)\n",
    "\n",
    "f(1)\n",
    "f(1)\n",
    "f(2)"
   ]
  },
  {
   "cell_type": "markdown",
   "metadata": {
    "slideshow": {
     "slide_type": "slide"
    }
   },
   "source": [
    "In the above\n",
    "- a new trace is triggered upon the first call with argument 1 and with argument 2"
   ]
  },
  {
   "cell_type": "markdown",
   "metadata": {
    "id": "TlB_mnEJ7pLG",
    "slideshow": {
     "slide_type": "slide"
    }
   },
   "source": [
    "# Advice\n",
    "- Be aware of \"Graph evaluation\"\n",
    "- If you write a Python function that operates on `Tensors`\n",
    "  - Avoid turning your `Tensor` into an `ndarray`\n",
    "      - if you must turn tensor `t` into an `ndarray`\n",
    "          - use `np.array(t)`\n",
    "          - rather than `t.numpy()`\n",
    "          - they are equivalent, but only `EagerTensor`s respond to the `.numpy()` methd\n",
    "  - Prefer TensorFlow operators instead to Python libaries\n",
    "    - TensorFlow operators are directly converted into `tf.Operation` nodes\n",
    "    - The underlying Python library may do something invisibly that exposes the difference between Eager and Graph evaulation\n",
    "- `tf.string` is [*not** a 1D array](https://www.tensorflow.org/guide/tensor#string_tensors)s is a Python string), it is 0 dimensional \n",
    "    - i.e., it's length is not an array dimension\n",
    "    - Can't index into it like an array\n",
    "- Best not to \"proto-type\" something that will become a Function (`tf.Graph`) in plain Python\n",
    "    - at run-time, you will be passed `Tensor` values as arguments\n",
    "        - rather than Python types (unless you explicitly convert your calling arguments to `Tensor`, e.g. `tf.constant( ..., dtype=..)`\n",
    "        - e.g., prototype Python function `f` by calling\n",
    "        ```\n",
    "        f( tf.constant(\"string arg\", dtype=tf.string) )\n",
    "        \n",
    "        ```\n",
    "        rather than\n",
    "        ```\n",
    "        f( \"string arg\" )\n",
    "        ```\n",
    "        This prevents you from getting lazy and implicitly forgetting that, at run-time, the arguments will be `Tensor`\n",
    "            - will also discover that a `tf.string`s value if a byte string rather than a normal Python string\n",
    "                - your code may have to turn it into a Python string (via `decode`) is you use Python string operators in the function"
   ]
  },
  {
   "cell_type": "markdown",
   "metadata": {
    "slideshow": {
     "slide_type": "subslide"
    }
   },
   "source": [
    "[See also](https://colab.research.google.com/github/tensorflow/docs/blob/master/site/en/guide/function.ipynb#scrollTo=6DWfyNThSziV)"
   ]
  },
  {
   "cell_type": "code",
   "execution_count": 27,
   "metadata": {
    "slideshow": {
     "slide_type": "slide"
    }
   },
   "outputs": [
    {
     "name": "stdout",
     "output_type": "stream",
     "text": [
      "Done\n"
     ]
    }
   ],
   "source": [
    "print(\"Done\")"
   ]
  }
 ],
 "metadata": {
  "celltoolbar": "Slideshow",
  "colab": {
   "name": "TF_Graph.ipynb",
   "provenance": []
  },
  "kernelspec": {
   "display_name": "tf",
   "language": "python",
   "name": "tf"
  },
  "language_info": {
   "codemirror_mode": {
    "name": "ipython",
    "version": 3
   },
   "file_extension": ".py",
   "mimetype": "text/x-python",
   "name": "python",
   "nbconvert_exporter": "python",
   "pygments_lexer": "ipython3",
   "version": "3.9.12"
  },
  "toc": {
   "base_numbering": 1,
   "nav_menu": {},
   "number_sections": true,
   "sideBar": true,
   "skip_h1_title": false,
   "title_cell": "Table of Contents",
   "title_sidebar": "Contents",
   "toc_cell": false,
   "toc_position": {
    "height": "calc(100% - 180px)",
    "left": "10px",
    "top": "150px",
    "width": "369.594px"
   },
   "toc_section_display": true,
   "toc_window_display": true
  }
 },
 "nbformat": 4,
 "nbformat_minor": 1
}

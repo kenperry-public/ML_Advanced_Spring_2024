{
 "cells": [
  {
   "cell_type": "code",
   "execution_count": 1,
   "metadata": {
    "slideshow": {
     "slide_type": "notes"
    }
   },
   "outputs": [
    {
     "data": {
      "text/latex": [
       "$$\n",
       "\\newcommand{\\x}{\\mathbf{x}}\n",
       "\\newcommand{\\tx}{\\tilde{\\x}}\n",
       "\\newcommand{\\y}{\\mathbf{y}}\n",
       "\\newcommand{\\b}{\\mathbf{b}}\n",
       "\\newcommand{\\c}{\\mathbf{c}}\n",
       "\\newcommand{\\e}{\\mathbf{e}}\n",
       "\\newcommand{\\z}{\\mathbf{z}}\n",
       "\\newcommand{\\h}{\\mathbf{h}}\n",
       "\\newcommand{\\u}{\\mathbf{u}}\n",
       "\\newcommand{\\v}{\\mathbf{v}}\n",
       "\\newcommand{\\w}{\\mathbf{w}}\n",
       "\\newcommand{\\V}{\\mathbf{V}}\n",
       "\\newcommand{\\W}{\\mathbf{W}}\n",
       "\\newcommand{\\X}{\\mathbf{X}}\n",
       "\\newcommand{\\KL}{\\mathbf{KL}}\n",
       "\\newcommand{\\E}{{\\mathbb{E}}}\n",
       "\\newcommand{\\Reals}{{\\mathbb{R}}}\n",
       "\\newcommand{\\ip}{\\mathbf{{(i)}}}\n",
       "%\n",
       "% Test set\n",
       "\\newcommand{\\xt}{\\underline{\\x}}\n",
       "\\newcommand{\\yt}{\\underline{\\y}}\n",
       "\\newcommand{\\Xt}{\\underline{\\X}}\n",
       "\\newcommand{\\perfm}{\\mathcal{P}}\n",
       "%\n",
       "% \\ll indexes a layer; we can change the actual letter\n",
       "\\newcommand{\\ll}{l}\n",
       "\\newcommand{\\llp}{{(\\ll)}}\n",
       "%\n",
       "\\newcommand{Thetam}{\\Theta_{-0}}\n",
       "\n",
       "% CNN\n",
       "\\newcommand{\\kernel}{\\mathbf{k}} \n",
       "\\newcommand{\\dim}{d}\n",
       "\\newcommand{\\idxspatial}{{\\text{idx}}}\n",
       "\\newcommand{\\summaxact}{\\text{max}}\n",
       "\\newcommand{idxb}{\\mathbf{i}}\n",
       "%\n",
       "%\n",
       "\n",
       "% RNN\n",
       "% \\tt indexes a time step\n",
       "\\newcommand{\\tt}{t}\n",
       "\\newcommand{\\tp}{{(\\tt)}}\n",
       "%\n",
       "%\n",
       "\n",
       "% LSTM\n",
       "\\newcommand{\\g}{\\mathbf{g}}\n",
       "\\newcommand{\\remember}{\\mathbf{remember}}\n",
       "\\newcommand{\\save}{\\mathbf{save}}\n",
       "\\newcommand{\\focus}{\\mathbf{focus}}\n",
       "%\n",
       "%\n",
       "% NLP\n",
       "\\newcommand{\\Vocab}{\\mathbf{V}}\n",
       "\\newcommand{\\v}{\\mathbf{v}}\n",
       "\\newcommand{\\offset}{o}\n",
       "\\newcommand{\\o}{o}\n",
       "\\newcommand{\\Emb}{\\mathbf{E}}\n",
       "%\n",
       "%\n",
       "\\newcommand{\\loss}{\\mathcal{L}}\n",
       "\\newcommand{\\cost}{\\mathcal{L}}\n",
       "%\n",
       "%                     \n",
       "\\newcommand{\\pdata}{p_\\text{data}}\n",
       "\\newcommand{\\pmodel}{p_\\text{model}}\n",
       "%\n",
       "% SVM\n",
       "\\newcommand{\\margin}{{\\mathbb{m}}}\n",
       "\\newcommand{\\lmk}{\\boldsymbol{\\ell}}\n",
       "%\n",
       "%\n",
       "% Functions with arguments\n",
       "\\def\\xsy#1#2{#1^#2}\n",
       "\\def\\rand#1{\\tilde{#1}}\n",
       "\\def\\randx{\\rand{\\x}}\n",
       "\\def\\randy{\\rand{\\y}}\n",
       "\\def\\trans#1{\\dot{#1}}\n",
       "\\def\\transx{\\trans{\\x}}\n",
       "\\def\\transy{\\trans{\\y}}\n",
       "%\n",
       "\\def\\argmax#1{\\underset{#1} {\\operatorname{argmax}} }\n",
       "\\def\\argmin#1{\\underset{#1} {\\operatorname{argmin}} }\n",
       "\\def\\max#1{\\underset{#1} {\\operatorname{max}} }\n",
       "\\def\\min#1{\\underset{#1} {\\operatorname{min}} }\n",
       "%\n",
       "\\def\\pr#1{\\mathcal{p}(#1)}\n",
       "\\def\\prc#1#2{\\mathcal{p}(#1 \\; | \\; #2)}\n",
       "\\def\\cnt#1{\\mathcal{count}_{#1}}\n",
       "\\def\\node#1{\\mathbb{#1}}\n",
       "%\n",
       "\\def\\loc#1{{\\text{##} {#1}}}\n",
       "%\n",
       "\\def\\OrderOf#1{\\mathcal{O}\\left( #1 \\right)}\n",
       "%\n",
       "% Expectation operator\n",
       "\\def\\Exp#1{\\underset{#1} {\\operatorname{\\mathbb{E}}} }\n",
       "%\n",
       "% VAE\n",
       "\\def\\prs#1#2{\\mathcal{p}_{#2}(#1)}\n",
       "\\def\\qr#1{\\mathcal{q}(#1)}\n",
       "\\def\\qrs#1#2{\\mathcal{q}_{#2}(#1)}\n",
       "%\n",
       "% Reinforcement learning\n",
       "\\newcommand{\\Actions}{{\\mathcal{A}}} \n",
       "\\newcommand{\\actseq}{A}\n",
       "\\newcommand{\\act}{a}\n",
       "\\newcommand{\\States}{{\\mathcal{S}}}   \n",
       "\\newcommand{\\stateseq}{S}  \n",
       "\\newcommand{\\state}{s}\n",
       "\\newcommand{\\Rewards}{{\\mathcal{R}}}\n",
       "\\newcommand{\\rewseq}{R}\n",
       "\\newcommand{\\rew}{r}\n",
       "\\newcommand{\\transp}{P}\n",
       "\\newcommand{\\statevalfun}{v}\n",
       "\\newcommand{\\actvalfun}{q}\n",
       "\\newcommand{\\disc}{\\gamma}\n",
       "%\n",
       "%\n",
       "\\newcommand{\\floor}[1]{\\left\\lfloor #1 \\right\\rfloor}\n",
       "\\newcommand{\\ceil}[1]{\\left\\lceil #1 \\right\\rceil}\n",
       "%\n",
       "%\n",
       "$$\n"
      ],
      "text/plain": [
       "<IPython.core.display.Latex object>"
      ]
     },
     "metadata": {},
     "output_type": "display_data"
    }
   ],
   "source": [
    "%run Latex_macros.ipynb"
   ]
  },
  {
   "cell_type": "markdown",
   "metadata": {
    "slideshow": {
     "slide_type": "slide"
    }
   },
   "source": [
    "# Straight Through Estimator\n",
    "\n",
    "\n",
    "## Motivation\n",
    "\n",
    "The key to training a Neural Network\n",
    "- is Gradient Descent\n",
    "- implemented through Back Propagation\n",
    "\n",
    "\n",
    "But there are conditions in which Back Propagation breaks down."
   ]
  },
  {
   "cell_type": "markdown",
   "metadata": {
    "slideshow": {
     "slide_type": "subslide"
    }
   },
   "source": [
    "Let's illustrate the issue.\n",
    "\n",
    "For notational consistency\n",
    "- we will explain Back Propagation by equating operators and layers\n",
    "- the operator for layer $\\ll$ maps input $\\y_{(\\ll-1)}$ to output $\\y_\\llp$\n",
    "- this works for operators organized in non-layered architecture as well"
   ]
  },
  {
   "cell_type": "markdown",
   "metadata": {
    "slideshow": {
     "slide_type": "subslide"
    }
   },
   "source": [
    "Our eventual goal is to compute the gradient of the Loss with respect to the weights $\\W_\\llp$ of each layer $\\ll$\n",
    "$$\n",
    "\\frac{\\partial \\loss}{\\partial \\W_\\llp}\n",
    "$$\n",
    "\n",
    "Back Propagation achieves this\n",
    "- through repeated use of the Chain Rule\n",
    "- starting from the deepest layer (head) and proceeding to the shallowest layer (input)"
   ]
  },
  {
   "cell_type": "markdown",
   "metadata": {
    "slideshow": {
     "slide_type": "subslide"
    }
   },
   "source": [
    "We define the Loss Gradient for layer $i$ as\n",
    "\n",
    "$$\\loss'_\\llp = \\frac{\\partial \\loss}{\\partial \\y_\\llp}$$ \n",
    "\n",
    "It is the derivative of $\\loss$ with respect to the output of layer $\\ll$, i.e., $\\y_\\llp$.\n",
    "\n",
    "The desired gradient to update the weights follows by the chain rule using\n",
    "- the Loss Gradient $\\loss'_\\llp$\n",
    "- the local gradient $\\frac{\\partial \\y_\\llp}{\\partial \\W_\\llp}$\n",
    "$$\n",
    "\\frac{\\partial \\loss}{\\partial \\W_\\llp} = \\loss'_\\llp * \\frac{\\partial \\y_\\llp}{\\partial \\W_\\llp}\n",
    "$$"
   ]
  },
  {
   "cell_type": "markdown",
   "metadata": {
    "slideshow": {
     "slide_type": "subslide"
    }
   },
   "source": [
    "Back propagation inductively updates the Loss Gradient from the output of layer $\\ll$ to its inputs (e.g., prior layer's output $\\y_{(\\ll-1)}$)\n",
    "- Given $\\loss'_\\llp$\n",
    "- Compute $\\loss'_{(\\ll-1)}$\n",
    "- Using the chain rule\n",
    "\n",
    "$$\n",
    "\\begin{array}[lll] \\\\\n",
    "\\loss'_{(\\ll-1)} & = & \\frac{\\partial \\loss}{\\partial \\y_{(\\ll-1)}} \\\\\n",
    "         & = & \\frac{\\partial \\loss}{\\partial \\y_\\llp} \\frac{\\partial \\y_\\llp}{\\partial \\y_{(\\ll-1)}} \\\\\n",
    "         & = & \\loss'_\\llp \\frac{\\partial \\y_\\llp}{\\partial \\y_{(\\ll-1)}}\n",
    "\\end{array}\n",
    "$$\n",
    "\n",
    "The loss gradient \"flows backward\", from $\\y_{(L+1)}$ to $\\y_{(1)}$.\n",
    "\n",
    "This is referred to as the *backward pass*."
   ]
  },
  {
   "cell_type": "markdown",
   "metadata": {
    "slideshow": {
     "slide_type": "subslide"
    }
   },
   "source": [
    "That is:\n",
    "- the upstream Loss Gradient $\\loss'_\\llp$\n",
    "- is modulated by the local gradient $\\frac{\\partial \\y_\\llp}{\\partial \\y_{(\\ll-1)}}$\n",
    "- where the \"layer\" is the operation transforming input $\\y_{(\\ll-1)}$ to output $\\y_\\llp$\n",
    "\n"
   ]
  },
  {
   "cell_type": "markdown",
   "metadata": {
    "slideshow": {
     "slide_type": "subslide"
    }
   },
   "source": [
    "The problematic issue for Back-Propagation is the local gradient term\n",
    "$$\\frac{\\partial \\y_\\llp}{\\partial \\y_{(\\ll-1)}}\n",
    "$$\n",
    "that relates the output of an operation (layer) to its input.\n",
    "\n",
    "What happens when the operation\n",
    "- is non-differentiable\n",
    "- or has zero derivative almost everywhere\n",
    "- is non-deterministic (e.g., `tf.argmin` when two inputs are identical)"
   ]
  },
  {
   "cell_type": "markdown",
   "metadata": {
    "slideshow": {
     "slide_type": "subslide"
    }
   },
   "source": [
    "Either\n",
    "- the backward gradient flow is killed (zero derivative)\n",
    "- or can't be computed (non-differentiable or non-deterministic) **analytically**\n",
    "\n"
   ]
  },
  {
   "cell_type": "markdown",
   "metadata": {
    "slideshow": {
     "slide_type": "subslide"
    }
   },
   "source": [
    "## Solution: Straight Through Estimator (STE)\n",
    "\n",
    "Suppose *for the purpose of Back Propagation only* we replace the problematic\n",
    "$$\\frac{\\partial \\y_\\llp}{\\partial \\y_{(\\ll-1)}}\n",
    "$$\n",
    "with the gradient of a *proxy function* $\\tilde\\y$\n",
    "$$\\frac{\\partial \\tilde\\y_\\llp}{\\partial \\y_{(\\ll-1)}}\n",
    "$$\n",
    "\n",
    "That is, for the purpose of computing gradients\n",
    "- we treat the operator as mapping $\\y_{(\\ll-1)}$ to $\\tilde\\y_\\llp$ rather than $\\y_\\llp$"
   ]
  },
  {
   "cell_type": "markdown",
   "metadata": {
    "slideshow": {
     "slide_type": "subslide"
    }
   },
   "source": [
    "A common choice for the proxy function is the *identity function*\n",
    "- operator implements $\\tilde\\y_\\llp = \\y_{(\\ll-1)}$\n",
    "- hence the formerly problematic gradient\n",
    "$$\\frac{\\partial \\y_\\llp}{\\partial \\y_{(\\ll-1)}}\n",
    "$$\n",
    "is replaced by \n",
    "$$\n",
    "\\begin{array} \\\\\n",
    "\\frac{\\partial \\tilde\\y_\\llp}{\\partial \\y_{(\\ll-1)}} & = & \\frac{\\partial \\y_{(\\ll-1)}}{\\partial \\y_{(\\ll-1)}} & \\text{since proxy implements } \\tilde\\y_\\llp = \\y_{(\\ll-1)} \\\\\n",
    "& = & 1\n",
    "\\end{array}\n",
    "$$\n",
    "\n",
    "The Loss Gradient flows through the operator unchanged !\n"
   ]
  },
  {
   "cell_type": "markdown",
   "metadata": {
    "slideshow": {
     "slide_type": "subslide"
    }
   },
   "source": [
    "Allowing the Gradient to flow backwards unchanged allows us to construct\n",
    "something called a *Straight Through Estimator*\n",
    "- treat problematic layer $\\ll$ as a pass-through of input $\\y_{(\\ll-1)}$ to $\\y_\\llp$\n",
    "\n",
    "A consequence of using a Straight Through Estimator is that \n",
    "- Back propagation does not compute the true gradient\n",
    "$$\n",
    "\\frac{\\partial \\loss}{\\partial \\W_\\llp}\n",
    "$$\n",
    "- but results in a value $g_i$ (referred to as  the *coarse gradient*)\n",
    "    - not clear whether $g_i$ is the gradient of any true function\n"
   ]
  },
  {
   "cell_type": "markdown",
   "metadata": {
    "slideshow": {
     "slide_type": "subslide"
    }
   },
   "source": [
    "This seems disturbing at first.\n",
    "\n",
    "But recall that the purpose of computing the true gradient\n",
    "- is to update weights $\\W_\\llp$\n",
    "$$\n",
    "\\W_\\ll = \\W_\\llp - \\alpha * \\frac{\\partial \\loss}{\\partial \\W_\\llp}\n",
    "$$\n",
    "- **As long as the direction $g_i$ has a non-zero correlation with $\\frac{\\partial \\loss}{\\partial \\W_\\llp}$**\n",
    "    - the weight update step will move in the direction of reducing the Loss\n",
    "    \n",
    "Hence, the Straight Through Estimator can be used for the purpose of Gradient Descent."
   ]
  },
  {
   "cell_type": "markdown",
   "metadata": {
    "slideshow": {
     "slide_type": "slide"
    }
   },
   "source": [
    "## Proxy functions\n",
    "\n",
    "Under [certain assumptions](https://arxiv.org/pdf/1903.05662.pdf#page=5)\n",
    "- a non-zero correlation can be established between the true and coarse gradients\n",
    "- for some specific proxy functions\n",
    "\n",
    "Interestingly enough: the Identity function is **not** [one of those functions](https://arxiv.org/pdf/1903.05662.pdf#page=8) !\n",
    "- ReLU and Clipped ReLU *are* such functions\n",
    "    - these are more commonly used as Activation Functions\n",
    "    - but here they just map an input to an output\n",
    "    \n",
    "Nonetheless: the Identity function is commonly used as the proxy\n",
    "- it may initially lead to decreased Loss\n",
    "- but will may stop decreasing the loss as it approaches a local minimum"
   ]
  },
  {
   "cell_type": "markdown",
   "metadata": {
    "slideshow": {
     "slide_type": "slide"
    }
   },
   "source": [
    "# Implementing a Straigh Through Estimator in TensorFlow\n",
    "\n",
    "## Stop Gradient operator\n",
    "\n",
    "The *Stop Gradient* operator `sg` in TensorFlow\n",
    "- acts as the identity operator on the Forward Pass\n",
    "$$\n",
    "\\text{sg}(\\x)  =  \\x\n",
    "$$\n",
    "- But on the Backward Pass of Backpropagation: *it stops the gradient* from flowing backwards\n",
    "$$\n",
    "\\frac{\\partial \\, \\text{sg}(\\x)}{\\partial \\y} =  0 \\text{  for all } \\y\n",
    "$$\n",
    "\n",
    "We can use the Stop Gradient operator\n",
    "- to prevent the computation of a gradient for a problematic operation/layer\n",
    "- but we must take an extra step to allow the Loss Gradient to flow backwards through the problematic operation/layer"
   ]
  },
  {
   "cell_type": "markdown",
   "metadata": {
    "slideshow": {
     "slide_type": "slide"
    }
   },
   "source": [
    "# Implementing Straight Through Estimation using Stop Gradient\n",
    "\n",
    "Consider the implementation of an operator `ProblemOp`\n",
    "- taking input `in`\n",
    "- and producing output `out`\n",
    "- defined by\n",
    "\n",
    "\n",
    "        class ProblemOp(layers.Layer):\n",
    "            def call(self, in):\n",
    "                # Computation of out\n",
    "                result = ...\n",
    "        \n",
    "                # Straight-through estimator.\n",
    "                out = in + tf.stop_gradient(result - in)\n",
    "\n",
    "                return out\n",
    "                \n",
    "n.b., the `call` method is what implements the Forward Pass in TensorFlow."
   ]
  },
  {
   "cell_type": "markdown",
   "metadata": {
    "slideshow": {
     "slide_type": "subslide"
    }
   },
   "source": [
    "The line of code\n",
    "\n",
    "        out = in + tf.stop_gradient(result - in)\n",
    "\n",
    "is the implementation of the *Straight Through Estimator**.\n",
    "\n",
    "It\n",
    "seems odd: mathematically, it just copies `result` to `out`"
   ]
  },
  {
   "cell_type": "markdown",
   "metadata": {
    "slideshow": {
     "slide_type": "subslide"
    }
   },
   "source": [
    "But\n",
    "- it connects the output of the operator (the LHS of the assignment)\n",
    "$$\\y_\\llp = \\text{out}$$\n",
    "- to the input of the operator (appearing on the RHS of the assignment)\n",
    "$$\\y_{(\\ll-1)} = \\text{in}$$\n",
    "- causing the Loss Gradient to flow from `out` to `in` during Back Propagation\n",
    "    - unchanged\n",
    "\n",
    "Thus, a Straight Through Estimator using an Identity proxy function has been created\n",
    "by the odd-looking statement."
   ]
  },
  {
   "cell_type": "markdown",
   "metadata": {
    "slideshow": {
     "slide_type": "subslide"
    }
   },
   "source": [
    "Note too that the line of code\n",
    "- **also** connects the output (LHS of assignment) to `result` (appearing on RHS of assignment)\n",
    "- but, because of Stop Gradient\n",
    "    - no gradient flows from `out` to `result`\n",
    "    \n",
    "Putting the problematic operation (calculation of `result`) within a Stop Gradient\n",
    "- solves the potential issue of computing a problematic gradient"
   ]
  },
  {
   "cell_type": "code",
   "execution_count": 2,
   "metadata": {
    "slideshow": {
     "slide_type": "slide"
    }
   },
   "outputs": [
    {
     "name": "stdout",
     "output_type": "stream",
     "text": [
      "Done\n"
     ]
    }
   ],
   "source": [
    "print(\"Done\")"
   ]
  }
 ],
 "metadata": {
  "celltoolbar": "Slideshow",
  "kernelspec": {
   "display_name": "Python 3",
   "language": "python",
   "name": "python3"
  },
  "language_info": {
   "codemirror_mode": {
    "name": "ipython",
    "version": 3
   },
   "file_extension": ".py",
   "mimetype": "text/x-python",
   "name": "python",
   "nbconvert_exporter": "python",
   "pygments_lexer": "ipython3",
   "version": "3.7.4"
  },
  "toc": {
   "base_numbering": 1,
   "nav_menu": {},
   "number_sections": true,
   "sideBar": true,
   "skip_h1_title": false,
   "title_cell": "Table of Contents",
   "title_sidebar": "Contents",
   "toc_cell": false,
   "toc_position": {},
   "toc_section_display": true,
   "toc_window_display": false
  }
 },
 "nbformat": 4,
 "nbformat_minor": 2
}

{
 "cells": [
  {
   "cell_type": "code",
   "execution_count": 1,
   "metadata": {
    "slideshow": {
     "slide_type": "notes"
    }
   },
   "outputs": [
    {
     "data": {
      "text/latex": [
       "$$\n",
       "\\newcommand{\\x}{\\mathbf{x}}\n",
       "\\newcommand{\\tx}{\\tilde{\\x}}\n",
       "\\newcommand{\\y}{\\mathbf{y}}\n",
       "\\newcommand{\\b}{\\mathbf{b}}\n",
       "\\newcommand{\\c}{\\mathbf{c}}\n",
       "\\newcommand{\\e}{\\mathbf{e}}\n",
       "\\newcommand{\\z}{\\mathbf{z}}\n",
       "\\newcommand{\\h}{\\mathbf{h}}\n",
       "\\newcommand{\\u}{\\mathbf{u}}\n",
       "\\newcommand{\\v}{\\mathbf{v}}\n",
       "\\newcommand{\\w}{\\mathbf{w}}\n",
       "\\newcommand{\\W}{\\mathbf{W}}\n",
       "\\newcommand{\\X}{\\mathbf{X}}\n",
       "\\newcommand{\\KL}{\\mathbf{KL}}\n",
       "\\newcommand{\\E}{{\\mathbb{E}}}\n",
       "\\newcommand{\\ip}{\\mathbf{{(i)}}}\n",
       "%\n",
       "% Test set\n",
       "\\newcommand{\\xt}{\\underline{\\x}}\n",
       "\\newcommand{\\yt}{\\underline{\\y}}\n",
       "\\newcommand{\\Xt}{\\underline{\\X}}\n",
       "\\newcommand{\\perfm}{\\mathcal{P}}\n",
       "%\n",
       "% \\ll indexes a layer; we can change the actual letter\n",
       "\\newcommand{\\ll}{l}\n",
       "\\newcommand{\\llp}{{(\\ll)}}\n",
       "%\n",
       "\\newcommand{Thetam}{\\Theta_{-0}}\n",
       "\n",
       "% CNN\n",
       "\\newcommand{\\kernel}{\\mathbf{k}} \n",
       "\\newcommand{\\dim}{d}\n",
       "\\newcommand{\\idxspatial}{{\\text{idx}}}\n",
       "\\newcommand{\\summaxact}{\\text{max}}\n",
       "%\n",
       "%\n",
       "\n",
       "% RNN\n",
       "% \\tt indexes a time step\n",
       "\\newcommand{\\tt}{t}\n",
       "\\newcommand{\\tp}{{(\\tt)}}\n",
       "%\n",
       "%\n",
       "\n",
       "% LSTM\n",
       "\\newcommand{\\g}{\\mathbf{g}}\n",
       "\\newcommand{\\remember}{\\mathbf{remember}}\n",
       "\\newcommand{\\save}{\\mathbf{save}}\n",
       "\\newcommand{\\focus}{\\mathbf{focus}}\n",
       "%\n",
       "%\n",
       "% NLP\n",
       "\\newcommand{\\Vocab}{\\mathbf{V}}\n",
       "\\newcommand{\\v}{\\mathbf{v}}\n",
       "\\newcommand{\\offset}{o}\n",
       "\\newcommand{\\o}{o}\n",
       "\\newcommand{\\E}{\\mathbf{E}}\n",
       "%\n",
       "%\n",
       "\\newcommand{\\loss}{\\mathcal{L}}\n",
       "\\newcommand{\\cost}{\\mathcal{L}}\n",
       "%\n",
       "%                     \n",
       "\\newcommand{\\pdata}{p_\\text{data}}\n",
       "\\newcommand{\\pmodel}{p_\\text{model}}\n",
       "%\n",
       "% SVM\n",
       "\\newcommand{\\margin}{{\\mathbb{m}}}\n",
       "\\newcommand{\\lmk}{\\boldsymbol{\\ell}}\n",
       "%\n",
       "% Functions with arguments\n",
       "\\def\\xsy#1#2{#1^#2}\n",
       "\\def\\rand#1{\\tilde{#1}}\n",
       "\\def\\randx{\\rand{\\x}}\n",
       "\\def\\randy{\\rand{\\y}}\n",
       "\\def\\trans#1{\\dot{#1}}\n",
       "\\def\\transx{\\trans{\\x}}\n",
       "\\def\\transy{\\trans{\\y}}\n",
       "%\n",
       "\\def\\argmax#1{\\underset{#1} {\\operatorname{argmax}} }\n",
       "\\def\\argmin#1{\\underset{#1} {\\operatorname{argmin}} }\n",
       "\\def\\max#1{\\underset{#1} {\\operatorname{max}} }\n",
       "\\def\\min#1{\\underset{#1} {\\operatorname{min}} }\n",
       "%\n",
       "\\def\\pr#1{\\mathcal{p}(#1)}\n",
       "\\def\\prc#1#2{\\mathcal{p}(#1 \\; | \\; #2)}\n",
       "\\def\\cnt#1{\\mathcal{count}_{#1}}\n",
       "\\def\\node#1{\\mathbb{#1}}\n",
       "%\n",
       "\\newcommand{\\floor}[1]{\\left\\lfloor #1 \\right\\rfloor}\n",
       "\\newcommand{\\ceil}[1]{\\left\\lceil #1 \\right\\rceil}\n",
       "%\n",
       "\\def\\loc#1{{\\text{##} {#1}}}\n",
       "%\n",
       "$$\n"
      ],
      "text/plain": [
       "<IPython.core.display.Latex object>"
      ]
     },
     "metadata": {},
     "output_type": "display_data"
    }
   ],
   "source": [
    "%run Latex_macros.ipynb"
   ]
  },
  {
   "cell_type": "markdown",
   "metadata": {
    "slideshow": {
     "slide_type": "slide"
    }
   },
   "source": [
    "# Neural Style Transfer: Feature extractor, Training Loop\n",
    "\n",
    "[paper](https://arxiv.org/pdf/1508.06576.pdf)\n",
    "\n",
    "The objective of *Neural Style Transfer*:\n",
    "- Given Content Image $C$\n",
    "- Given Style Image $S$\n",
    "- Create Generated Image $G$ that is the Content image re-drawn in the \"style\" of the Style image\n",
    "\n",
    "<table>\n",
    "    <tr>\n",
    "         <td><center><img src=images/starry_night_crop.jpg width=60%></center></td>\n",
    "        <td><strong>+</strong></td>\n",
    "        <td><center><img src=images/chicago.jpg width=80%></center></td>\n",
    "        <td><strong>=<s/trong></td>\n",
    "        <td><center><img src=images/chicago_starry_night.jpg width=100%></center></td>\n",
    "    </tr>\n",
    "    <tr>\n",
    "        <td><center><strong>Style image S</strong></center></td>\n",
    "        <td></td>\n",
    "        <td><center><strong>Content image C</strong></center></td>\n",
    "        <td></td>\n",
    "        <td><center><strong>Generated image G</strong></center></td>\n",
    "    </tr>\n",
    "</table>\n",
    "\n"
   ]
  },
  {
   "cell_type": "markdown",
   "metadata": {
    "slideshow": {
     "slide_type": "subslide"
    }
   },
   "source": [
    "Neural Style Transfer highlights several themes we will encounter in the course\n",
    "- The essential element of Deep Learning is\n",
    "    - defining a Loss function that captures the semantics of the task\n",
    "    - architecture is less important: just a tool\n",
    "- The intermediate representations of a Deep Network has meaning, that can be leveraged\n",
    "- Re-using existing models in novel ways leads to powerful results"
   ]
  },
  {
   "cell_type": "markdown",
   "metadata": {
    "slideshow": {
     "slide_type": "subslide"
    }
   },
   "source": [
    "We will explain ideas with reference to code.\n",
    "\n",
    "[here](https://www.tensorflow.org/tutorials/generative/style_transfer) is a tutorial view of the notebook."
   ]
  },
  {
   "cell_type": "markdown",
   "metadata": {
    "slideshow": {
     "slide_type": "subslide"
    }
   },
   "source": [
    "## Loss function: sum of Content Loss and Style Loss\n",
    "\n",
    "We create a Loss Function $\\loss(C, G, S)$ and solve for\n",
    "the optimal generated image $G^*$\n",
    "$$\n",
    "G^* = \\argmin{G}  \\loss(C, G, S)\n",
    "$$\n",
    "where $\\loss(C, G, S)$ is the sum of \n",
    "- \"content loss\"  $\\loss_\\text{content}$: dissimilarity of \"content\" of $G$ and $C$\n",
    "- \"style loss\"    $\\loss_\\text{style}$    dissimilarity of \"style\"   of $G$ and $S$\n"
   ]
  },
  {
   "cell_type": "markdown",
   "metadata": {
    "slideshow": {
     "slide_type": "subslide"
    }
   },
   "source": [
    "We solve for $G^*$ using $\\frac{\\partial \\loss}{\\partial G}$\n",
    "- depending on how we write $\\loss$\n",
    "    - minimize dissimilarity: Gradient Descent\n",
    "    - maximize similarity; Gradient Ascent\n",
    "    \n",
    "That is: the \"weights\" we are optimizing are the *pixels of image* $I$."
   ]
  },
  {
   "cell_type": "markdown",
   "metadata": {
    "slideshow": {
     "slide_type": "slide"
    }
   },
   "source": [
    "How do we measure the dissimilarity of the \"content\" ?\n",
    "\n",
    "We can't just use plain MSE of the pixel-wise differences\n",
    "- $G$ is different than $C$, by definition (the \"styles\" are different)\n",
    "\n",
    "And how do we define what the \"style\" of an image is ?\n",
    "- And how do we measure dissimilarity of the \"style\" ?"
   ]
  },
  {
   "cell_type": "markdown",
   "metadata": {
    "slideshow": {
     "slide_type": "slide"
    }
   },
   "source": [
    "We will use an *alternate representation* of each image\n",
    "- such that we can compare *alternate representations* in a useful sense\n",
    "\n",
    "The goal of using an alternate representation of an image \n",
    "- is to capture the \"semantics\" (deeper, non-surface meaning) of an image\n",
    "- rather than \"syntax\" (superficial surfrace meaning, literal pixels) of an image\n",
    "\n",
    "    - "
   ]
  },
  {
   "cell_type": "markdown",
   "metadata": {
    "slideshow": {
     "slide_type": "notes"
    }
   },
   "source": [
    "$$\n",
    "\\newcommand{\\ICL}{\\mathbb{C}}\n",
    "\\newcommand{\\GM}{\\mathbb{G}}\n",
    "$$"
   ]
  },
  {
   "cell_type": "markdown",
   "metadata": {
    "slideshow": {
     "slide_type": "subslide"
    }
   },
   "source": [
    "## Representation of intermediate layers as a measure of Style and Content\n",
    "\n",
    "Recall that each layer in a multi-layer Neural Network \n",
    "is creating an *alternate representation* of the input.\n",
    "\n",
    "Rather than directly comparing $G$ with $C$ (and $G$ with $S$) our dissimilarity will be measured\n",
    "- Not on raw images as seen by the human eye\n",
    "- But on their alternate representations as created at some layer of a multi-layer Neural Network"
   ]
  },
  {
   "cell_type": "markdown",
   "metadata": {
    "slideshow": {
     "slide_type": "subslide"
    }
   },
   "source": [
    "That is: we will *re-use a model* $\\ICL$ (e.g., VGG19)\n",
    "- originally designed for Image Classification\n",
    "- as a means to create two  alternate representations of an image\n",
    "- one alternate representation of image $I$ will encode the \"content\" of $I$\n",
    "- the other alternate representation of image $I$ will encode the \"style\" of $I$"
   ]
  },
  {
   "cell_type": "markdown",
   "metadata": {
    "slideshow": {
     "slide_type": "subslide"
    }
   },
   "source": [
    "\n",
    "Suppose $\\ICL$ consists of a sequence of CNN Layers\n",
    "\n",
    "Let $\\ICL_\\llp$ denote the set of $n_\\llp$ feature maps produced at layer $\\ll$\n",
    "- Feature map: value of one feature, at each spatial location\n",
    "- $\\ICL_{\\llp,j}$: feature map $j$\n",
    "\n",
    "We choose \n",
    "- One layer $\\ll_c$ of $\\ICL$ and call it the \"content representation\" layer\n",
    "    - Will tend to be shallow: closer to the input\n",
    "    - Features of shallow layers will be more \"syntax\" than \"semantics\"\n",
    "- One layer $\\ll_s$ of $\\ICL$ and call it the \"style representation\" layer\n",
    "  - Will tend to be deep: closer to the output\n",
    "    - Features of deep layers will be more  \"semantics\" than \"syntax\"\n",
    "    "
   ]
  },
  {
   "cell_type": "markdown",
   "metadata": {
    "slideshow": {
     "slide_type": "subslide"
    }
   },
   "source": [
    "For arbitrary image $I$, let\n",
    "- $\\ICL_{(\\ll_c)}(I)$ \n",
    "    - denote the feature maps of the Classifier $\\ICL$, on image $I$,  at the \"content representation\" layer\n",
    "- $\\ICL_{(\\ll_s)}(I)$\n",
    "    - denote the feature maps of the Classifier $\\ICL$, on image $I$, at the \"style representation\" layer"
   ]
  },
  {
   "cell_type": "markdown",
   "metadata": {
    "slideshow": {
     "slide_type": "subslide"
    }
   },
   "source": [
    "Using the alternate representations derived from $\\ICL$\n",
    " we can define \n",
    "- $\\loss_\\text{content}$ as the dissimilarity of $\\ICL_{(\\ll_c)}(C)$ and  $\\ICL_{(\\ll_c)}(G)$\n",
    "- $\\loss_\\text{style}$ as the dissimilarity of $\\ICL_{(\\ll_s)}(S)$ and  $\\ICL_{(\\ll_c)}(G)$"
   ]
  },
  {
   "cell_type": "markdown",
   "metadata": {
    "slideshow": {
     "slide_type": "slide"
    }
   },
   "source": [
    "## Content Loss $\\loss_\\text{content}$\n",
    "\n",
    "We can now define the similarity of the \"content\" of Content Image $C$ and \"content\" of Generated Image $G$\n",
    "- by comparing $\\ICL_{(\\ll_c)}(C)$ and $\\ICL_{(\\ll_c)}(G)$\n",
    "- using sum of pixel-wise squared difference (MSE) of $\\ICL_{(\\ll_c)}(C)$ and $\\ICL_{(\\ll_c)}(G)$\n",
    "\n",
    "Here is the code for content loss $\\loss_\\text{content}$\n",
    "- `base` is $\\ICL_{(\\ll_c)}(C)$: the alternate representation of content image $C$\n",
    "- `combination` is $\\ICL_{(\\ll_c)}(G)$ the alternate representation of generated image $G$\n",
    "\n",
    "\n",
    "```\n",
    "def content_loss(base, combination):\n",
    "    return tf.reduce_sum(tf.square(combination - base))\n",
    "```"
   ]
  },
  {
   "cell_type": "markdown",
   "metadata": {
    "slideshow": {
     "slide_type": "slide"
    }
   },
   "source": [
    "## Style Loss $\\loss_\\text{style}$\n",
    "\n",
    "Similarly, we can define the similarity of the \"style\" of Content Image $C$ and \"style\" of Generated Image $G$\n",
    "- by comparing $\\ICL_{(\\ll_s)}(S)$ and $\\ICL_{(\\ll_s)}(G)$"
   ]
  },
  {
   "cell_type": "markdown",
   "metadata": {
    "slideshow": {
     "slide_type": "subslide"
    }
   },
   "source": [
    "For any image $I$: $\\ICL_{(\\ll)}(I)$ consists of $n_\\llp$ feature maps.\n",
    "\n",
    "We need to define what it means to compare  $\\ICL_{(\\ll)}(I)$ and  $\\ICL_{(\\ll)}(I')$.\n",
    "\n",
    "The *Gramm Matrix $\\GM$* of $\\ICL_{(\\ll)}(I)$ \n",
    "- Has shape ($n_\\llp \\times n_\\llp$)\n",
    "- $\\GM_{j,j'}(I) = \\text{correlation}( \\text{flatten}(\\ICL_{(\\ll),j}(I)), \\text{flatten}(\\ICL_{(\\ll),j'}(I)) )$\n",
    "    - the correlation of the feature map $j$ of $\\ICL_{(\\ll)}(I)$ with feature map $j'$ of $\\ICL_{(\\ll)}(I')$\n",
    "    \n",
    "Intuitively, the Gramm Matrix \n",
    "- measures the correlation of the values across pixel locations (flattened feature maps)\n",
    "of two feature maps of image $I$"
   ]
  },
  {
   "cell_type": "markdown",
   "metadata": {
    "slideshow": {
     "slide_type": "subslide"
    }
   },
   "source": [
    "Here is the code computing the \"style loss\" $\\loss_\\text{style}$\n",
    "- `style` is $\\ICL_{(\\ll_s)}(S)$: the alternate representation of style image $S$\n",
    "- `combination` is $\\ICL_{(\\ll_s)}(G)$ the alternate representation of generated image $G$\n",
    "\n",
    "```\n",
    "def style_loss(style, combination):\n",
    "    S = gram_matrix(style)\n",
    "    C = gram_matrix(combination)\n",
    "    channels = 3\n",
    "    size = img_nrows * img_ncols\n",
    "    return tf.reduce_sum(tf.square(S - C)) / (4.0 * (channels**2) * (size**2))\n",
    "```"
   ]
  },
  {
   "cell_type": "markdown",
   "metadata": {
    "slideshow": {
     "slide_type": "subslide"
    }
   },
   "source": [
    "## Gradient ascent: generating $G$\n",
    "\n",
    "We can find image $G$ via Gradient Ascent\n",
    "- Ascent versus Descent: we have measured *similarity* (correlation) rather than *dissimilarity*\n",
    "- Initialize $G$ to noise\n",
    "- Update pixel $G_{i, i', k}$ by $ \\frac{\\partial \\loss}{G_{i, i', k}}$"
   ]
  },
  {
   "cell_type": "markdown",
   "metadata": {
    "slideshow": {
     "slide_type": "subslide"
    }
   },
   "source": [
    "## Feature extractor\n",
    "\n",
    "One key coding trick that we will illustrate\n",
    "- Obtaining the feature maps of the Classifier $\\ICL$, on image $I$,  at an arbitrary layer\n",
    "\n",
    "We will call this tool the *feature extractor*\n",
    "\n",
    "```\n",
    "# Build a VGG19 model loaded with pre-trained ImageNet weights\n",
    "model = vgg19.VGG19(weights=\"imagenet\", include_top=False)\n",
    "\n",
    "# Get the symbolic outputs of each \"key\" layer (we gave them unique names).\n",
    "outputs_dict = dict([(layer.name, layer.output) for layer in model.layers])\n",
    "\n",
    "# Set up a model that returns the activation values for every layer in\n",
    "# VGG19 (as a dict).\n",
    "feature_extractor = keras.Model(inputs=model.inputs, outputs=outputs_dict)\n",
    "```"
   ]
  },
  {
   "cell_type": "markdown",
   "metadata": {
    "slideshow": {
     "slide_type": "subslide"
    }
   },
   "source": [
    "The `feature_extractor` code returns a dictionary\n",
    "- mapping layer name to alternate representation at that layer\n",
    "\n",
    "It is used within the `compute_loss` function \n",
    "- to simultaneously compute (through threading on the first dimension) the alternate representations\n",
    "- of the three images $C$, $S$ and $G$\n",
    "- `base_image` is  the content image $C$\n",
    "- `style_reference_image` is  the style image $S$\n",
    "- `combination_image` is the generated image $G$\n",
    "\n",
    "```\n",
    "def compute_loss(combination_image, base_image, style_reference_image):\n",
    "    input_tensor = tf.concat(\n",
    "        [base_image, style_reference_image, combination_image], axis=0\n",
    "    )\n",
    "    features = feature_extractor(input_tensor)\n",
    "    ....\n",
    "```"
   ]
  },
  {
   "cell_type": "markdown",
   "metadata": {
    "slideshow": {
     "slide_type": "subslide"
    }
   },
   "source": [
    "The alternate representations (at all layers) of each image \n",
    "- is extracted from `features` later in the code\n",
    "- here is the code using the alternate representations to eventually compute `style_loss`\n",
    "    - n.b., $\\loss_\\text{sty[e}$ is computed here over *several layers*\n",
    "    - here is the code for one layer named `layer_name`\n",
    "\n",
    "```\n",
    "layer_features = features[layer_name]\n",
    "style_reference_features = layer_features[1, :, :, :]\n",
    "combination_features = layer_features[2, :, :, :]\n",
    "```"
   ]
  },
  {
   "cell_type": "markdown",
   "metadata": {
    "slideshow": {
     "slide_type": "slide"
    }
   },
   "source": [
    "## Computing gradients\n",
    "\n",
    "Here is the code to *enable* gradients to be computed\n",
    "- `tf.GradientTape` records the forward pass\n",
    "- to facilitate computation of gradients in the backward pass\n",
    "\n",
    "You may want to review (from the Intro course)\n",
    "- [Back propagation: forward and backward pass](Training_Neural_Network_Backprop.ipynb)\n",
    "- [Computing analytic gradients in Keras](Training_Neural_Network_Operation_Forward_and_Backward_Pass.ipynb)"
   ]
  },
  {
   "cell_type": "markdown",
   "metadata": {
    "slideshow": {
     "slide_type": "slide"
    }
   },
   "source": [
    "```\n",
    "@tf.function\n",
    "def compute_loss_and_grads(combination_image, base_image, style_reference_image):\n",
    "    with tf.GradientTape() as tape:\n",
    "        loss = compute_loss(combination_image, base_image, style_reference_image)\n",
    "    grads = tape.gradient(loss, combination_image)\n",
    "    return loss, grads\n",
    "```\n",
    "\n",
    "Recall the variables\n",
    "- `base_image` is  the content image $C$\n",
    "- `style_reference_image` is  the style image $S$\n",
    "- `combination_image` is the generated image $G$"
   ]
  },
  {
   "cell_type": "markdown",
   "metadata": {
    "slideshow": {
     "slide_type": "slide"
    }
   },
   "source": [
    "## Training loop\n",
    "\n",
    "Here is the code for the training loop\n",
    "- `optimizer.apply_gradients([(grads, combination_image)])`\n",
    "- updates the \"weights\" `combination_image` using gradients `grads`\n",
    "\n",
    "```"
   ]
  },
  {
   "cell_type": "markdown",
   "metadata": {
    "slideshow": {
     "slide_type": "subslide"
    }
   },
   "source": [
    "```\n",
    "optimizer = keras.optimizers.SGD(\n",
    "    keras.optimizers.schedules.ExponentialDecay(\n",
    "        initial_learning_rate=100.0, decay_steps=100, decay_rate=0.96\n",
    "    )\n",
    ")\n",
    "\n",
    "...\n",
    "\n",
    "iterations = 4000\n",
    "for i in range(1, iterations + 1):\n",
    "    loss, grads = compute_loss_and_grads(\n",
    "        combination_image, base_image, style_reference_image\n",
    "    )\n",
    "    optimizer.apply_gradients([(grads, combination_image)])\n",
    "```"
   ]
  },
  {
   "cell_type": "markdown",
   "metadata": {
    "slideshow": {
     "slide_type": "slide"
    }
   },
   "source": [
    "# Notebooks links\n",
    "\n",
    "[Full notebook](https://www.tensorflow.org/tutorials/generative/style_transfer) is a tutorial view of the notebook we used for the code snippets.\n",
    "\n"
   ]
  },
  {
   "cell_type": "code",
   "execution_count": 2,
   "metadata": {
    "slideshow": {
     "slide_type": "slide"
    }
   },
   "outputs": [
    {
     "name": "stdout",
     "output_type": "stream",
     "text": [
      "Done\n"
     ]
    }
   ],
   "source": [
    "print(\"Done\")"
   ]
  }
 ],
 "metadata": {
  "celltoolbar": "Slideshow",
  "kernelspec": {
   "display_name": "Python 3",
   "language": "python",
   "name": "python3"
  },
  "language_info": {
   "codemirror_mode": {
    "name": "ipython",
    "version": 3
   },
   "file_extension": ".py",
   "mimetype": "text/x-python",
   "name": "python",
   "nbconvert_exporter": "python",
   "pygments_lexer": "ipython3",
   "version": "3.7.4"
  },
  "toc": {
   "base_numbering": 1,
   "nav_menu": {},
   "number_sections": true,
   "sideBar": true,
   "skip_h1_title": false,
   "title_cell": "Table of Contents",
   "title_sidebar": "Contents",
   "toc_cell": false,
   "toc_position": {
    "height": "calc(100% - 180px)",
    "left": "10px",
    "top": "150px",
    "width": "369.594px"
   },
   "toc_section_display": true,
   "toc_window_display": true
  }
 },
 "nbformat": 4,
 "nbformat_minor": 2
}
